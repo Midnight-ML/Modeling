{
 "cells": [
  {
   "attachments": {},
   "cell_type": "markdown",
   "metadata": {},
   "source": [
    "# Skeleton Code\n",
    "\n",
    "<hr>"
   ]
  },
  {
   "attachments": {},
   "cell_type": "markdown",
   "metadata": {},
   "source": [
    "### 1. 전처리"
   ]
  },
  {
   "attachments": {},
   "cell_type": "markdown",
   "metadata": {},
   "source": [
    "#### 1-0. 예측 레이블 정의"
   ]
  },
  {
   "cell_type": "code",
   "execution_count": 1,
   "metadata": {},
   "outputs": [],
   "source": [
    "import pandas as pd\n",
    "import numpy as np\n",
    "path = './서울_숫자.csv' # 위치에 맞게 수정하세유\n",
    "df = pd.read_csv(path)"
   ]
  },
  {
   "cell_type": "code",
   "execution_count": 2,
   "metadata": {},
   "outputs": [],
   "source": [
    "df['환산_보증금_월세'] = df.apply(lambda x: x['보증금(만원)'] + x['월세(만원)']*12*20, axis='columns')\n",
    "df = df.drop(['보증금(만원)', '월세(만원)'], axis=1)\n",
    "df = df.astype(int) # 속도를 위해 전부 인트로 하자"
   ]
  },
  {
   "cell_type": "code",
   "execution_count": 3,
   "metadata": {},
   "outputs": [
    {
     "name": "stdout",
     "output_type": "stream",
     "text": [
      "(3591649, 11)\n"
     ]
    },
    {
     "data": {
      "text/html": [
       "<div>\n",
       "<style scoped>\n",
       "    .dataframe tbody tr th:only-of-type {\n",
       "        vertical-align: middle;\n",
       "    }\n",
       "\n",
       "    .dataframe tbody tr th {\n",
       "        vertical-align: top;\n",
       "    }\n",
       "\n",
       "    .dataframe thead th {\n",
       "        text-align: right;\n",
       "    }\n",
       "</style>\n",
       "<table border=\"1\" class=\"dataframe\">\n",
       "  <thead>\n",
       "    <tr style=\"text-align: right;\">\n",
       "      <th></th>\n",
       "      <th>시군구_Encoder</th>\n",
       "      <th>동_Encoder</th>\n",
       "      <th>전월세구분</th>\n",
       "      <th>전용면적(㎡)</th>\n",
       "      <th>층</th>\n",
       "      <th>구분</th>\n",
       "      <th>한국은행기준금리</th>\n",
       "      <th>종가</th>\n",
       "      <th>년도</th>\n",
       "      <th>건물나이</th>\n",
       "      <th>환산_보증금_월세</th>\n",
       "    </tr>\n",
       "  </thead>\n",
       "  <tbody>\n",
       "    <tr>\n",
       "      <th>0</th>\n",
       "      <td>0</td>\n",
       "      <td>9</td>\n",
       "      <td>0</td>\n",
       "      <td>77</td>\n",
       "      <td>2</td>\n",
       "      <td>0</td>\n",
       "      <td>2</td>\n",
       "      <td>1941</td>\n",
       "      <td>2014</td>\n",
       "      <td>26</td>\n",
       "      <td>33000</td>\n",
       "    </tr>\n",
       "    <tr>\n",
       "      <th>1</th>\n",
       "      <td>0</td>\n",
       "      <td>9</td>\n",
       "      <td>0</td>\n",
       "      <td>79</td>\n",
       "      <td>2</td>\n",
       "      <td>0</td>\n",
       "      <td>2</td>\n",
       "      <td>1941</td>\n",
       "      <td>2014</td>\n",
       "      <td>27</td>\n",
       "      <td>34000</td>\n",
       "    </tr>\n",
       "    <tr>\n",
       "      <th>2</th>\n",
       "      <td>0</td>\n",
       "      <td>9</td>\n",
       "      <td>0</td>\n",
       "      <td>79</td>\n",
       "      <td>1</td>\n",
       "      <td>0</td>\n",
       "      <td>2</td>\n",
       "      <td>1941</td>\n",
       "      <td>2014</td>\n",
       "      <td>27</td>\n",
       "      <td>28000</td>\n",
       "    </tr>\n",
       "    <tr>\n",
       "      <th>3</th>\n",
       "      <td>0</td>\n",
       "      <td>9</td>\n",
       "      <td>0</td>\n",
       "      <td>79</td>\n",
       "      <td>2</td>\n",
       "      <td>0</td>\n",
       "      <td>2</td>\n",
       "      <td>1941</td>\n",
       "      <td>2014</td>\n",
       "      <td>27</td>\n",
       "      <td>35000</td>\n",
       "    </tr>\n",
       "    <tr>\n",
       "      <th>4</th>\n",
       "      <td>0</td>\n",
       "      <td>9</td>\n",
       "      <td>1</td>\n",
       "      <td>104</td>\n",
       "      <td>8</td>\n",
       "      <td>0</td>\n",
       "      <td>2</td>\n",
       "      <td>1941</td>\n",
       "      <td>2014</td>\n",
       "      <td>30</td>\n",
       "      <td>49600</td>\n",
       "    </tr>\n",
       "  </tbody>\n",
       "</table>\n",
       "</div>"
      ],
      "text/plain": [
       "   시군구_Encoder  동_Encoder  전월세구분  전용면적(㎡)  층  구분  한국은행기준금리    종가    년도  건물나이  \\\n",
       "0            0          9      0       77  2   0         2  1941  2014    26   \n",
       "1            0          9      0       79  2   0         2  1941  2014    27   \n",
       "2            0          9      0       79  1   0         2  1941  2014    27   \n",
       "3            0          9      0       79  2   0         2  1941  2014    27   \n",
       "4            0          9      1      104  8   0         2  1941  2014    30   \n",
       "\n",
       "   환산_보증금_월세  \n",
       "0      33000  \n",
       "1      34000  \n",
       "2      28000  \n",
       "3      35000  \n",
       "4      49600  "
      ]
     },
     "execution_count": 3,
     "metadata": {},
     "output_type": "execute_result"
    }
   ],
   "source": [
    "print(df.shape)\n",
    "df.head(5)"
   ]
  },
  {
   "cell_type": "code",
   "execution_count": 4,
   "metadata": {},
   "outputs": [],
   "source": [
    "X = df.iloc[:, :10]\n",
    "Y = df.iloc[:, 10]"
   ]
  },
  {
   "attachments": {},
   "cell_type": "markdown",
   "metadata": {},
   "source": [
    "#### 1-1. train, test, val Split"
   ]
  },
  {
   "cell_type": "code",
   "execution_count": 5,
   "metadata": {},
   "outputs": [],
   "source": [
    "from sklearn.model_selection import train_test_split\n",
    "train_ratio = 0.7  # train 데이터 비율\n",
    "val_ratio = 0.2  # validation 데이터 비율\n",
    "test_ratio = 0.1  # test 데이터 비율\n",
    "\n",
    "# train, validation, test 데이터 분리\n",
    "X_train_val, X_test, Y_train_val, Y_test = train_test_split(X, Y, test_size=test_ratio, shuffle=True)\n",
    "X_train, X_val, Y_train, Y_val = train_test_split(X_train_val, Y_train_val, test_size=val_ratio/(train_ratio+val_ratio), shuffle=True)\n"
   ]
  },
  {
   "attachments": {},
   "cell_type": "markdown",
   "metadata": {},
   "source": [
    "#### 1-2. Scaling"
   ]
  },
  {
   "cell_type": "code",
   "execution_count": 6,
   "metadata": {},
   "outputs": [],
   "source": [
    "from sklearn.preprocessing import StandardScaler\n",
    "\n",
    "# StandardScaler를 사용하여 데이터 정규화.\n",
    "scaler = StandardScaler()\n",
    "X_train = scaler.fit_transform(X_train) # train 기준으로 val, test를 정규화한다.\n",
    "X_val = scaler.transform(X_val)\n",
    "X_test = scaler.transform(X_test)"
   ]
  },
  {
   "attachments": {},
   "cell_type": "markdown",
   "metadata": {},
   "source": [
    "#### 1-3. mini batch(+ shuffle), prefetch"
   ]
  },
  {
   "cell_type": "code",
   "execution_count": 7,
   "metadata": {},
   "outputs": [],
   "source": [
    "import tensorflow as tf\n",
    "batch_size = 32\n",
    "# 배치도 각각 섞어주고, prefetch로 미리 대기 시키자.\n",
    "train_ds = tf.data.Dataset.from_tensor_slices((X_train, Y_train)).shuffle(len(Y_train)).batch(batch_size).prefetch(1)"
   ]
  },
  {
   "attachments": {},
   "cell_type": "markdown",
   "metadata": {},
   "source": [
    "### 2. Modeling"
   ]
  },
  {
   "cell_type": "code",
   "execution_count": 8,
   "metadata": {},
   "outputs": [],
   "source": [
    "model = tf.keras.Sequential([\n",
    "    tf.keras.layers.Dense(64, activation='relu', input_shape=(X_train.shape[1],)),\n",
    "    tf.keras.layers.Dense(32, activation='relu'),\n",
    "    tf.keras.layers.Dense(1)\n",
    "])"
   ]
  },
  {
   "cell_type": "code",
   "execution_count": 9,
   "metadata": {},
   "outputs": [],
   "source": [
    "# 모델 컴파일\n",
    "model.compile(optimizer='adam', loss='mse', metrics=['mae'])"
   ]
  },
  {
   "cell_type": "code",
   "execution_count": 10,
   "metadata": {},
   "outputs": [
    {
     "name": "stdout",
     "output_type": "stream",
     "text": [
      "Epoch 1/50\n",
      "78568/78568 [==============================] - 77s 954us/step - loss: 231377216.0000 - mae: 9093.9795 - val_loss: 200352672.0000 - val_mae: 8439.2598\n",
      "Epoch 2/50\n",
      "78568/78568 [==============================] - 83s 1ms/step - loss: 184584128.0000 - mae: 7979.5073 - val_loss: 172542256.0000 - val_mae: 7720.5493\n",
      "Epoch 3/50\n",
      "78568/78568 [==============================] - 88s 1ms/step - loss: 164667904.0000 - mae: 7556.7124 - val_loss: 158259328.0000 - val_mae: 7442.5713\n",
      "Epoch 4/50\n",
      "78568/78568 [==============================] - 96s 1ms/step - loss: 153666528.0000 - mae: 7320.5054 - val_loss: 150395648.0000 - val_mae: 7214.9375\n",
      "Epoch 5/50\n",
      "78568/78568 [==============================] - 98s 1ms/step - loss: 146939184.0000 - mae: 7175.2915 - val_loss: 143700992.0000 - val_mae: 7106.4751\n",
      "Epoch 6/50\n",
      "78568/78568 [==============================] - 105s 1ms/step - loss: 140665584.0000 - mae: 7039.0542 - val_loss: 137800080.0000 - val_mae: 6955.9233\n",
      "Epoch 7/50\n",
      "78568/78568 [==============================] - 103s 1ms/step - loss: 135705200.0000 - mae: 6926.0356 - val_loss: 133788096.0000 - val_mae: 6876.5166\n",
      "Epoch 8/50\n",
      "78568/78568 [==============================] - 102s 1ms/step - loss: 132242432.0000 - mae: 6843.4292 - val_loss: 130766096.0000 - val_mae: 6787.6504\n",
      "Epoch 9/50\n",
      "78568/78568 [==============================] - 109s 1ms/step - loss: 129306152.0000 - mae: 6762.8403 - val_loss: 128161288.0000 - val_mae: 6706.7988\n",
      "Epoch 10/50\n",
      "78568/78568 [==============================] - 112s 1ms/step - loss: 126353488.0000 - mae: 6682.0718 - val_loss: 125177040.0000 - val_mae: 6617.9854\n",
      "Epoch 11/50\n",
      "78568/78568 [==============================] - 103s 1ms/step - loss: 123833440.0000 - mae: 6614.4761 - val_loss: 123723320.0000 - val_mae: 6597.4492\n",
      "Epoch 12/50\n",
      "78568/78568 [==============================] - 106s 1ms/step - loss: 121820552.0000 - mae: 6567.6938 - val_loss: 121085968.0000 - val_mae: 6535.0234\n",
      "Epoch 13/50\n",
      "78568/78568 [==============================] - 108s 1ms/step - loss: 120210088.0000 - mae: 6532.5122 - val_loss: 120142096.0000 - val_mae: 6535.7344\n",
      "Epoch 14/50\n",
      "78568/78568 [==============================] - 103s 1ms/step - loss: 118901416.0000 - mae: 6500.5903 - val_loss: 118780696.0000 - val_mae: 6492.7676\n",
      "Epoch 15/50\n",
      "78568/78568 [==============================] - 105s 1ms/step - loss: 117730272.0000 - mae: 6471.3213 - val_loss: 117411944.0000 - val_mae: 6479.9858\n",
      "Epoch 16/50\n",
      "78568/78568 [==============================] - 120s 1ms/step - loss: 116663200.0000 - mae: 6443.3433 - val_loss: 116127048.0000 - val_mae: 6407.6201\n",
      "Epoch 17/50\n",
      "78568/78568 [==============================] - 111s 1ms/step - loss: 115688088.0000 - mae: 6415.3760 - val_loss: 117802072.0000 - val_mae: 6378.9492\n",
      "Epoch 18/50\n",
      "78568/78568 [==============================] - 107s 1ms/step - loss: 114774592.0000 - mae: 6383.2944 - val_loss: 114497752.0000 - val_mae: 6363.5801\n",
      "Epoch 19/50\n",
      "78568/78568 [==============================] - 132s 2ms/step - loss: 113875416.0000 - mae: 6358.9341 - val_loss: 114160720.0000 - val_mae: 6378.2891\n",
      "Epoch 20/50\n",
      "78568/78568 [==============================] - 123s 2ms/step - loss: 113174968.0000 - mae: 6341.5591 - val_loss: 114049160.0000 - val_mae: 6330.2622\n",
      "Epoch 21/50\n",
      "78568/78568 [==============================] - 119s 1ms/step - loss: 112600136.0000 - mae: 6325.0562 - val_loss: 112330736.0000 - val_mae: 6305.3130\n",
      "Epoch 22/50\n",
      "78568/78568 [==============================] - 118s 1ms/step - loss: 112046504.0000 - mae: 6310.4966 - val_loss: 112320488.0000 - val_mae: 6278.7529\n",
      "Epoch 23/50\n",
      "78568/78568 [==============================] - 112s 1ms/step - loss: 111507256.0000 - mae: 6295.8882 - val_loss: 112283744.0000 - val_mae: 6315.8345\n",
      "Epoch 24/50\n",
      "78568/78568 [==============================] - 144s 2ms/step - loss: 110983592.0000 - mae: 6281.6191 - val_loss: 111354280.0000 - val_mae: 6266.4736\n",
      "Epoch 25/50\n",
      "78568/78568 [==============================] - 137s 2ms/step - loss: 110449656.0000 - mae: 6269.2036 - val_loss: 110660248.0000 - val_mae: 6247.3994\n",
      "Epoch 26/50\n",
      "78568/78568 [==============================] - 130s 2ms/step - loss: 109906072.0000 - mae: 6255.3657 - val_loss: 109878752.0000 - val_mae: 6241.1270\n",
      "Epoch 27/50\n",
      "78568/78568 [==============================] - 145s 2ms/step - loss: 109384928.0000 - mae: 6237.1851 - val_loss: 109597448.0000 - val_mae: 6205.1240\n",
      "Epoch 28/50\n",
      "78568/78568 [==============================] - 144s 2ms/step - loss: 108897448.0000 - mae: 6222.7632 - val_loss: 108915888.0000 - val_mae: 6217.1743\n",
      "Epoch 29/50\n",
      "78568/78568 [==============================] - 140s 2ms/step - loss: 108299336.0000 - mae: 6206.7319 - val_loss: 109449336.0000 - val_mae: 6210.8906\n",
      "Epoch 30/50\n",
      "78568/78568 [==============================] - 158s 2ms/step - loss: 107749632.0000 - mae: 6192.6348 - val_loss: 108273024.0000 - val_mae: 6204.2676\n",
      "Epoch 31/50\n",
      "78568/78568 [==============================] - 148s 2ms/step - loss: 107306696.0000 - mae: 6181.1450 - val_loss: 107422152.0000 - val_mae: 6189.3755\n",
      "Epoch 32/50\n",
      "78568/78568 [==============================] - 158s 2ms/step - loss: 106932496.0000 - mae: 6169.3677 - val_loss: 107639608.0000 - val_mae: 6174.4292\n",
      "Epoch 33/50\n",
      "78568/78568 [==============================] - 158s 2ms/step - loss: 106527376.0000 - mae: 6159.3291 - val_loss: 107070080.0000 - val_mae: 6147.5781\n",
      "Epoch 34/50\n",
      "78568/78568 [==============================] - 135s 2ms/step - loss: 106194656.0000 - mae: 6153.7476 - val_loss: 106856920.0000 - val_mae: 6141.1943\n",
      "Epoch 35/50\n",
      "78568/78568 [==============================] - 137s 2ms/step - loss: 105912728.0000 - mae: 6143.7939 - val_loss: 106715416.0000 - val_mae: 6159.5723\n",
      "Epoch 36/50\n",
      "78568/78568 [==============================] - 174s 2ms/step - loss: 105626528.0000 - mae: 6138.8149 - val_loss: 105199656.0000 - val_mae: 6110.6421\n",
      "Epoch 37/50\n",
      "78568/78568 [==============================] - 172s 2ms/step - loss: 105289928.0000 - mae: 6129.6499 - val_loss: 105627336.0000 - val_mae: 6114.7412\n",
      "Epoch 38/50\n",
      "78568/78568 [==============================] - 188s 2ms/step - loss: 104974400.0000 - mae: 6122.9419 - val_loss: 107527616.0000 - val_mae: 6163.6992\n",
      "Epoch 39/50\n",
      "78568/78568 [==============================] - 157s 2ms/step - loss: 104728880.0000 - mae: 6116.8208 - val_loss: 105856176.0000 - val_mae: 6146.9336\n",
      "Epoch 40/50\n",
      "78568/78568 [==============================] - 150s 2ms/step - loss: 104538704.0000 - mae: 6112.1548 - val_loss: 105772504.0000 - val_mae: 6118.6646\n",
      "Epoch 41/50\n",
      "78568/78568 [==============================] - 174s 2ms/step - loss: 104292528.0000 - mae: 6109.4087 - val_loss: 105506592.0000 - val_mae: 6162.4800\n",
      "Epoch 42/50\n",
      "78568/78568 [==============================] - 174s 2ms/step - loss: 104124328.0000 - mae: 6106.0327 - val_loss: 103989336.0000 - val_mae: 6104.1108\n",
      "Epoch 43/50\n",
      "78568/78568 [==============================] - 187s 2ms/step - loss: 103896032.0000 - mae: 6101.4160 - val_loss: 103979984.0000 - val_mae: 6083.7266\n",
      "Epoch 44/50\n",
      "78568/78568 [==============================] - 165s 2ms/step - loss: 103677536.0000 - mae: 6098.4385 - val_loss: 104090432.0000 - val_mae: 6079.9751\n",
      "Epoch 45/50\n",
      "78568/78568 [==============================] - 194s 2ms/step - loss: 103580992.0000 - mae: 6095.1343 - val_loss: 104024824.0000 - val_mae: 6092.6035\n",
      "Epoch 46/50\n",
      "78568/78568 [==============================] - 165s 2ms/step - loss: 103472696.0000 - mae: 6092.9878 - val_loss: 103712184.0000 - val_mae: 6082.3682\n",
      "Epoch 47/50\n",
      "78568/78568 [==============================] - 201s 3ms/step - loss: 103200424.0000 - mae: 6088.8921 - val_loss: 103432552.0000 - val_mae: 6082.9985\n",
      "Epoch 48/50\n",
      "78568/78568 [==============================] - 203s 3ms/step - loss: 102905808.0000 - mae: 6083.4297 - val_loss: 103581344.0000 - val_mae: 6118.6235\n",
      "Epoch 49/50\n",
      "78568/78568 [==============================] - 209s 3ms/step - loss: 102671736.0000 - mae: 6078.7217 - val_loss: 103588896.0000 - val_mae: 6113.1807\n",
      "Epoch 50/50\n",
      "78568/78568 [==============================] - 209s 3ms/step - loss: 102454016.0000 - mae: 6075.2168 - val_loss: 103429272.0000 - val_mae: 6074.0498\n"
     ]
    }
   ],
   "source": [
    "# 모델 학습\n",
    "history = model.fit(train_ds, epochs=50, validation_data=(X_val, Y_val), verbose=1)"
   ]
  },
  {
   "cell_type": "code",
   "execution_count": 13,
   "metadata": {},
   "outputs": [
    {
     "data": {
      "image/png": "[encoded data removed]",
      "text/plain": [
       "<Figure size 640x480 with 1 Axes>"
      ]
     },
     "metadata": {},
     "output_type": "display_data"
    },
    {
     "data": {
      "image/png": "[encoded data removed]",
      "text/plain": [
       "<Figure size 640x480 with 1 Axes>"
      ]
     },
     "metadata": {},
     "output_type": "display_data"
    }
   ],
   "source": [
    "import matplotlib.pyplot as plt\n",
    "\n",
    "# training 과정에서의 loss 및 accuracy 시각화\n",
    "train_loss = history.history['loss']\n",
    "val_loss = history.history['val_loss']\n",
    "train_acc = history.history['mae']\n",
    "val_acc = history.history['val_mae']\n",
    "epochs = range(1, len(train_loss) + 1)\n",
    "\n",
    "plt.plot(epochs, train_loss, 'bo', label='Training loss')\n",
    "plt.plot(epochs, val_loss, 'b', label='Validation loss')\n",
    "plt.title('Training and validation loss')\n",
    "plt.xlabel('Epochs')\n",
    "plt.ylabel('Loss')\n",
    "plt.legend()\n",
    "\n",
    "plt.figure()\n",
    "\n",
    "plt.plot(epochs, train_acc, 'bo', label='Training accuracy')\n",
    "plt.plot(epochs, val_acc, 'b', label='Validation accuracy')\n",
    "plt.title('Training and validation accuracy')\n",
    "plt.xlabel('Epochs')\n",
    "plt.ylabel('Accuracy')\n",
    "plt.legend()\n",
    "\n",
    "plt.show()"
   ]
  },
  {
   "cell_type": "code",
   "execution_count": null,
   "metadata": {},
   "outputs": [],
   "source": []
  }
 ],
 "metadata": {
  "kernelspec": {
   "display_name": "Python 3",
   "language": "python",
   "name": "python3"
  },
  "language_info": {
   "codemirror_mode": {
    "name": "ipython",
    "version": 3
   },
   "file_extension": ".py",
   "mimetype": "text/x-python",
   "name": "python",
   "nbconvert_exporter": "python",
   "pygments_lexer": "ipython3",
   "version": "3.9.13"
  },
  "orig_nbformat": 4
 },
 "nbformat": 4,
 "nbformat_minor": 2
}
