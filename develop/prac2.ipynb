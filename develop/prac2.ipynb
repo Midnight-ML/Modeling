{
  "nbformat": 4,
  "nbformat_minor": 0,
  "metadata": {
    "colab": {
      "provenance": [],
      "gpuType": "T4"
    },
    "kernelspec": {
      "name": "python3",
      "display_name": "Python 3"
    },
    "language_info": {
      "name": "python"
    },
    "accelerator": "GPU",
    "gpuClass": "standard"
  },
  "cells": [
    {
      "cell_type": "code",
      "source": [
        "#참고\n",
        "# https://www.tensorflow.org/tutorials/keras/regression?hl=ko\n",
        "# https://www.kaggle.com/code/ktakuma/boston-house-prices-dnn-regression\n",
        "# https://www.kaggle.com/code/systemvaz/house-prices-with-tensorflow-dnn"
      ],
      "metadata": {
        "id": "1Jnu6jXK-8Cd"
      },
      "execution_count": null,
      "outputs": []
    },
    {
      "cell_type": "code",
      "execution_count": 7,
      "metadata": {
        "id": "g5GnTU-c86Lz"
      },
      "outputs": [],
      "source": [
        "import numpy as np\n",
        "import pandas as pd \n",
        "\n",
        "import numpy as np\n",
        "import pandas as pd\n",
        "import matplotlib.pyplot as plt\n",
        "import seaborn as sns\n",
        "%matplotlib inline\n",
        "\n",
        "from sklearn.model_selection import train_test_split\n",
        "\n",
        "from tensorflow.keras.layers import Activation, Dense, Dropout\n",
        "from tensorflow.keras.models import Sequential\n",
        "from tensorflow.keras.callbacks import EarlyStopping\n",
        "from tensorflow.keras.optimizers import Adam\n",
        "from keras.layers import BatchNormalization\n",
        "\n",
        "import tensorflow as tf\n",
        "from tensorflow import keras\n",
        "from tensorflow.keras import layers\n"
      ]
    },
    {
      "cell_type": "code",
      "source": [
        "# seaborn 한글\n",
        "!sudo apt-get install -y fonts-nanum\n",
        "!sudo fc-cache -fv\n",
        "!rm ~/.cache/matplotlib -rf\\"
      ],
      "metadata": {
        "colab": {
          "base_uri": "https://localhost:8080/"
        },
        "id": "VYm8iiYt-DTi",
        "outputId": "29d6f6d4-3c3b-4889-f1a9-468c44e3a150"
      },
      "execution_count": 2,
      "outputs": [
        {
          "output_type": "stream",
          "name": "stdout",
          "text": [
            "Reading package lists... Done\n",
            "Building dependency tree       \n",
            "Reading state information... Done\n",
            "fonts-nanum is already the newest version (20180306-3).\n",
            "0 upgraded, 0 newly installed, 0 to remove and 24 not upgraded.\n",
            "/usr/share/fonts: caching, new cache contents: 0 fonts, 1 dirs\n",
            "/usr/share/fonts/truetype: caching, new cache contents: 0 fonts, 3 dirs\n",
            "/usr/share/fonts/truetype/humor-sans: caching, new cache contents: 1 fonts, 0 dirs\n",
            "/usr/share/fonts/truetype/liberation: caching, new cache contents: 16 fonts, 0 dirs\n",
            "/usr/share/fonts/truetype/nanum: caching, new cache contents: 31 fonts, 0 dirs\n",
            "/usr/local/share/fonts: caching, new cache contents: 0 fonts, 0 dirs\n",
            "/root/.local/share/fonts: skipping, no such directory\n",
            "/root/.fonts: skipping, no such directory\n",
            "/usr/share/fonts/truetype: skipping, looped directory detected\n",
            "/usr/share/fonts/truetype/humor-sans: skipping, looped directory detected\n",
            "/usr/share/fonts/truetype/liberation: skipping, looped directory detected\n",
            "/usr/share/fonts/truetype/nanum: skipping, looped directory detected\n",
            "/var/cache/fontconfig: cleaning cache directory\n",
            "/root/.cache/fontconfig: not cleaning non-existent cache directory\n",
            "/root/.fontconfig: not cleaning non-existent cache directory\n",
            "fc-cache: succeeded\n",
            "rm: invalid option -- '\\'\n",
            "Try 'rm --help' for more information.\n"
          ]
        }
      ]
    },
    {
      "cell_type": "code",
      "source": [
        "from google.colab import drive\n",
        "drive.mount('/content/drive')"
      ],
      "metadata": {
        "colab": {
          "base_uri": "https://localhost:8080/"
        },
        "id": "I7TsjRb095lC",
        "outputId": "9cfbaa0a-9bea-476d-ef3b-df2cd1e1addb"
      },
      "execution_count": 5,
      "outputs": [
        {
          "output_type": "stream",
          "name": "stdout",
          "text": [
            "Mounted at /content/drive\n"
          ]
        }
      ]
    },
    {
      "cell_type": "code",
      "source": [
        "df = pd.read_csv('/content/drive/MyDrive/Colab/houseprac2/prac2.csv')\n",
        "print(df.shape)\n",
        "df.head()"
      ],
      "metadata": {
        "colab": {
          "base_uri": "https://localhost:8080/",
          "height": 410
        },
        "id": "tYcXtcFk9ICi",
        "outputId": "5b065edb-7dfd-4183-ee44-0c0fb077423d"
      },
      "execution_count": 8,
      "outputs": [
        {
          "output_type": "stream",
          "name": "stdout",
          "text": [
            "(3449783, 18)\n"
          ]
        },
        {
          "output_type": "execute_result",
          "data": {
            "text/plain": [
              "   시군구_Encoder  동_Encoder  전월세구분  전용면적(㎡)  보증금(만원)  월세(만원)    층  구분  \\\n",
              "0            0          9      0    77.75    33000       0  2.0   0   \n",
              "1            0          9      0    79.97    34000       0  2.0   0   \n",
              "2            0          9      0    79.97    28000       0  1.0   0   \n",
              "3            0          9      0    79.97    35000       0  2.0   0   \n",
              "4            0          9      1   104.43    40000      40  8.0   0   \n",
              "\n",
              "          위도          경도    대학최소거리     역최소거리  스타벅스 개수  마트 개수  한국은행기준금리  \\\n",
              "0  37.481454  127.053099  3.394074  0.833371      2.0    3.0       2.5   \n",
              "1  37.476283  127.056841  3.901717  1.489581      2.0    3.0       2.5   \n",
              "2  37.476283  127.056841  3.901717  1.489581      2.0    3.0       2.5   \n",
              "3  37.476283  127.056841  3.901717  1.489581      2.0    3.0       2.5   \n",
              "4  37.483973  127.056014  3.576921  0.796235      2.0    3.0       2.5   \n",
              "\n",
              "        종가      년도  건물나이  \n",
              "0  1941.15  2014.0  26.0  \n",
              "1  1941.15  2014.0  27.0  \n",
              "2  1941.15  2014.0  27.0  \n",
              "3  1941.15  2014.0  27.0  \n",
              "4  1941.15  2014.0  30.0  "
            ],
            "text/html": [
              "\n",
              "  <div id=\"df-518e90e1-647f-4871-941d-2d0da9dab069\">\n",
              "    <div class=\"colab-df-container\">\n",
              "      <div>\n",
              "<style scoped>\n",
              "    .dataframe tbody tr th:only-of-type {\n",
              "        vertical-align: middle;\n",
              "    }\n",
              "\n",
              "    .dataframe tbody tr th {\n",
              "        vertical-align: top;\n",
              "    }\n",
              "\n",
              "    .dataframe thead th {\n",
              "        text-align: right;\n",
              "    }\n",
              "</style>\n",
              "<table border=\"1\" class=\"dataframe\">\n",
              "  <thead>\n",
              "    <tr style=\"text-align: right;\">\n",
              "      <th></th>\n",
              "      <th>시군구_Encoder</th>\n",
              "      <th>동_Encoder</th>\n",
              "      <th>전월세구분</th>\n",
              "      <th>전용면적(㎡)</th>\n",
              "      <th>보증금(만원)</th>\n",
              "      <th>월세(만원)</th>\n",
              "      <th>층</th>\n",
              "      <th>구분</th>\n",
              "      <th>위도</th>\n",
              "      <th>경도</th>\n",
              "      <th>대학최소거리</th>\n",
              "      <th>역최소거리</th>\n",
              "      <th>스타벅스 개수</th>\n",
              "      <th>마트 개수</th>\n",
              "      <th>한국은행기준금리</th>\n",
              "      <th>종가</th>\n",
              "      <th>년도</th>\n",
              "      <th>건물나이</th>\n",
              "    </tr>\n",
              "  </thead>\n",
              "  <tbody>\n",
              "    <tr>\n",
              "      <th>0</th>\n",
              "      <td>0</td>\n",
              "      <td>9</td>\n",
              "      <td>0</td>\n",
              "      <td>77.75</td>\n",
              "      <td>33000</td>\n",
              "      <td>0</td>\n",
              "      <td>2.0</td>\n",
              "      <td>0</td>\n",
              "      <td>37.481454</td>\n",
              "      <td>127.053099</td>\n",
              "      <td>3.394074</td>\n",
              "      <td>0.833371</td>\n",
              "      <td>2.0</td>\n",
              "      <td>3.0</td>\n",
              "      <td>2.5</td>\n",
              "      <td>1941.15</td>\n",
              "      <td>2014.0</td>\n",
              "      <td>26.0</td>\n",
              "    </tr>\n",
              "    <tr>\n",
              "      <th>1</th>\n",
              "      <td>0</td>\n",
              "      <td>9</td>\n",
              "      <td>0</td>\n",
              "      <td>79.97</td>\n",
              "      <td>34000</td>\n",
              "      <td>0</td>\n",
              "      <td>2.0</td>\n",
              "      <td>0</td>\n",
              "      <td>37.476283</td>\n",
              "      <td>127.056841</td>\n",
              "      <td>3.901717</td>\n",
              "      <td>1.489581</td>\n",
              "      <td>2.0</td>\n",
              "      <td>3.0</td>\n",
              "      <td>2.5</td>\n",
              "      <td>1941.15</td>\n",
              "      <td>2014.0</td>\n",
              "      <td>27.0</td>\n",
              "    </tr>\n",
              "    <tr>\n",
              "      <th>2</th>\n",
              "      <td>0</td>\n",
              "      <td>9</td>\n",
              "      <td>0</td>\n",
              "      <td>79.97</td>\n",
              "      <td>28000</td>\n",
              "      <td>0</td>\n",
              "      <td>1.0</td>\n",
              "      <td>0</td>\n",
              "      <td>37.476283</td>\n",
              "      <td>127.056841</td>\n",
              "      <td>3.901717</td>\n",
              "      <td>1.489581</td>\n",
              "      <td>2.0</td>\n",
              "      <td>3.0</td>\n",
              "      <td>2.5</td>\n",
              "      <td>1941.15</td>\n",
              "      <td>2014.0</td>\n",
              "      <td>27.0</td>\n",
              "    </tr>\n",
              "    <tr>\n",
              "      <th>3</th>\n",
              "      <td>0</td>\n",
              "      <td>9</td>\n",
              "      <td>0</td>\n",
              "      <td>79.97</td>\n",
              "      <td>35000</td>\n",
              "      <td>0</td>\n",
              "      <td>2.0</td>\n",
              "      <td>0</td>\n",
              "      <td>37.476283</td>\n",
              "      <td>127.056841</td>\n",
              "      <td>3.901717</td>\n",
              "      <td>1.489581</td>\n",
              "      <td>2.0</td>\n",
              "      <td>3.0</td>\n",
              "      <td>2.5</td>\n",
              "      <td>1941.15</td>\n",
              "      <td>2014.0</td>\n",
              "      <td>27.0</td>\n",
              "    </tr>\n",
              "    <tr>\n",
              "      <th>4</th>\n",
              "      <td>0</td>\n",
              "      <td>9</td>\n",
              "      <td>1</td>\n",
              "      <td>104.43</td>\n",
              "      <td>40000</td>\n",
              "      <td>40</td>\n",
              "      <td>8.0</td>\n",
              "      <td>0</td>\n",
              "      <td>37.483973</td>\n",
              "      <td>127.056014</td>\n",
              "      <td>3.576921</td>\n",
              "      <td>0.796235</td>\n",
              "      <td>2.0</td>\n",
              "      <td>3.0</td>\n",
              "      <td>2.5</td>\n",
              "      <td>1941.15</td>\n",
              "      <td>2014.0</td>\n",
              "      <td>30.0</td>\n",
              "    </tr>\n",
              "  </tbody>\n",
              "</table>\n",
              "</div>\n",
              "      <button class=\"colab-df-convert\" onclick=\"convertToInteractive('df-518e90e1-647f-4871-941d-2d0da9dab069')\"\n",
              "              title=\"Convert this dataframe to an interactive table.\"\n",
              "              style=\"display:none;\">\n",
              "        \n",
              "  <svg xmlns=\"http://www.w3.org/2000/svg\" height=\"24px\"viewBox=\"0 0 24 24\"\n",
              "       width=\"24px\">\n",
              "    <path d=\"M0 0h24v24H0V0z\" fill=\"none\"/>\n",
              "    <path d=\"M18.56 5.44l.94 2.06.94-2.06 2.06-.94-2.06-.94-.94-2.06-.94 2.06-2.06.94zm-11 1L8.5 8.5l.94-2.06 2.06-.94-2.06-.94L8.5 2.5l-.94 2.06-2.06.94zm10 10l.94 2.06.94-2.06 2.06-.94-2.06-.94-.94-2.06-.94 2.06-2.06.94z\"/><path d=\"M17.41 7.96l-1.37-1.37c-.4-.4-.92-.59-1.43-.59-.52 0-1.04.2-1.43.59L10.3 9.45l-7.72 7.72c-.78.78-.78 2.05 0 2.83L4 21.41c.39.39.9.59 1.41.59.51 0 1.02-.2 1.41-.59l7.78-7.78 2.81-2.81c.8-.78.8-2.07 0-2.86zM5.41 20L4 18.59l7.72-7.72 1.47 1.35L5.41 20z\"/>\n",
              "  </svg>\n",
              "      </button>\n",
              "      \n",
              "  <style>\n",
              "    .colab-df-container {\n",
              "      display:flex;\n",
              "      flex-wrap:wrap;\n",
              "      gap: 12px;\n",
              "    }\n",
              "\n",
              "    .colab-df-convert {\n",
              "      background-color: #E8F0FE;\n",
              "      border: none;\n",
              "      border-radius: 50%;\n",
              "      cursor: pointer;\n",
              "      display: none;\n",
              "      fill: #1967D2;\n",
              "      height: 32px;\n",
              "      padding: 0 0 0 0;\n",
              "      width: 32px;\n",
              "    }\n",
              "\n",
              "    .colab-df-convert:hover {\n",
              "      background-color: #E2EBFA;\n",
              "      box-shadow: 0px 1px 2px rgba(60, 64, 67, 0.3), 0px 1px 3px 1px rgba(60, 64, 67, 0.15);\n",
              "      fill: #174EA6;\n",
              "    }\n",
              "\n",
              "    [theme=dark] .colab-df-convert {\n",
              "      background-color: #3B4455;\n",
              "      fill: #D2E3FC;\n",
              "    }\n",
              "\n",
              "    [theme=dark] .colab-df-convert:hover {\n",
              "      background-color: #434B5C;\n",
              "      box-shadow: 0px 1px 3px 1px rgba(0, 0, 0, 0.15);\n",
              "      filter: drop-shadow(0px 1px 2px rgba(0, 0, 0, 0.3));\n",
              "      fill: #FFFFFF;\n",
              "    }\n",
              "  </style>\n",
              "\n",
              "      <script>\n",
              "        const buttonEl =\n",
              "          document.querySelector('#df-518e90e1-647f-4871-941d-2d0da9dab069 button.colab-df-convert');\n",
              "        buttonEl.style.display =\n",
              "          google.colab.kernel.accessAllowed ? 'block' : 'none';\n",
              "\n",
              "        async function convertToInteractive(key) {\n",
              "          const element = document.querySelector('#df-518e90e1-647f-4871-941d-2d0da9dab069');\n",
              "          const dataTable =\n",
              "            await google.colab.kernel.invokeFunction('convertToInteractive',\n",
              "                                                     [key], {});\n",
              "          if (!dataTable) return;\n",
              "\n",
              "          const docLinkHtml = 'Like what you see? Visit the ' +\n",
              "            '<a target=\"_blank\" href=https://colab.research.google.com/notebooks/data_table.ipynb>data table notebook</a>'\n",
              "            + ' to learn more about interactive tables.';\n",
              "          element.innerHTML = '';\n",
              "          dataTable['output_type'] = 'display_data';\n",
              "          await google.colab.output.renderOutput(dataTable, element);\n",
              "          const docLink = document.createElement('div');\n",
              "          docLink.innerHTML = docLinkHtml;\n",
              "          element.appendChild(docLink);\n",
              "        }\n",
              "      </script>\n",
              "    </div>\n",
              "  </div>\n",
              "  "
            ]
          },
          "metadata": {},
          "execution_count": 8
        }
      ]
    },
    {
      "cell_type": "code",
      "source": [
        "df['환산_보증금_월세'] = df.apply(lambda x: x['보증금(만원)'] + x['월세(만원)']*12*20, axis='columns')\n",
        "df = df.drop(['보증금(만원)','월세(만원)'], axis=1)\n",
        "df.head()"
      ],
      "metadata": {
        "colab": {
          "base_uri": "https://localhost:8080/",
          "height": 392
        },
        "id": "tEYoXVMZ_Z-T",
        "outputId": "29bf7617-9824-449f-ea27-782826794eb4"
      },
      "execution_count": 9,
      "outputs": [
        {
          "output_type": "execute_result",
          "data": {
            "text/plain": [
              "   시군구_Encoder  동_Encoder  전월세구분  전용면적(㎡)    층  구분         위도          경도  \\\n",
              "0            0          9      0    77.75  2.0   0  37.481454  127.053099   \n",
              "1            0          9      0    79.97  2.0   0  37.476283  127.056841   \n",
              "2            0          9      0    79.97  1.0   0  37.476283  127.056841   \n",
              "3            0          9      0    79.97  2.0   0  37.476283  127.056841   \n",
              "4            0          9      1   104.43  8.0   0  37.483973  127.056014   \n",
              "\n",
              "     대학최소거리     역최소거리  스타벅스 개수  마트 개수  한국은행기준금리       종가      년도  건물나이  \\\n",
              "0  3.394074  0.833371      2.0    3.0       2.5  1941.15  2014.0  26.0   \n",
              "1  3.901717  1.489581      2.0    3.0       2.5  1941.15  2014.0  27.0   \n",
              "2  3.901717  1.489581      2.0    3.0       2.5  1941.15  2014.0  27.0   \n",
              "3  3.901717  1.489581      2.0    3.0       2.5  1941.15  2014.0  27.0   \n",
              "4  3.576921  0.796235      2.0    3.0       2.5  1941.15  2014.0  30.0   \n",
              "\n",
              "   환산_보증금_월세  \n",
              "0    33000.0  \n",
              "1    34000.0  \n",
              "2    28000.0  \n",
              "3    35000.0  \n",
              "4    49600.0  "
            ],
            "text/html": [
              "\n",
              "  <div id=\"df-75643ddc-77c2-4d95-94c5-8a9f26cfc2f2\">\n",
              "    <div class=\"colab-df-container\">\n",
              "      <div>\n",
              "<style scoped>\n",
              "    .dataframe tbody tr th:only-of-type {\n",
              "        vertical-align: middle;\n",
              "    }\n",
              "\n",
              "    .dataframe tbody tr th {\n",
              "        vertical-align: top;\n",
              "    }\n",
              "\n",
              "    .dataframe thead th {\n",
              "        text-align: right;\n",
              "    }\n",
              "</style>\n",
              "<table border=\"1\" class=\"dataframe\">\n",
              "  <thead>\n",
              "    <tr style=\"text-align: right;\">\n",
              "      <th></th>\n",
              "      <th>시군구_Encoder</th>\n",
              "      <th>동_Encoder</th>\n",
              "      <th>전월세구분</th>\n",
              "      <th>전용면적(㎡)</th>\n",
              "      <th>층</th>\n",
              "      <th>구분</th>\n",
              "      <th>위도</th>\n",
              "      <th>경도</th>\n",
              "      <th>대학최소거리</th>\n",
              "      <th>역최소거리</th>\n",
              "      <th>스타벅스 개수</th>\n",
              "      <th>마트 개수</th>\n",
              "      <th>한국은행기준금리</th>\n",
              "      <th>종가</th>\n",
              "      <th>년도</th>\n",
              "      <th>건물나이</th>\n",
              "      <th>환산_보증금_월세</th>\n",
              "    </tr>\n",
              "  </thead>\n",
              "  <tbody>\n",
              "    <tr>\n",
              "      <th>0</th>\n",
              "      <td>0</td>\n",
              "      <td>9</td>\n",
              "      <td>0</td>\n",
              "      <td>77.75</td>\n",
              "      <td>2.0</td>\n",
              "      <td>0</td>\n",
              "      <td>37.481454</td>\n",
              "      <td>127.053099</td>\n",
              "      <td>3.394074</td>\n",
              "      <td>0.833371</td>\n",
              "      <td>2.0</td>\n",
              "      <td>3.0</td>\n",
              "      <td>2.5</td>\n",
              "      <td>1941.15</td>\n",
              "      <td>2014.0</td>\n",
              "      <td>26.0</td>\n",
              "      <td>33000.0</td>\n",
              "    </tr>\n",
              "    <tr>\n",
              "      <th>1</th>\n",
              "      <td>0</td>\n",
              "      <td>9</td>\n",
              "      <td>0</td>\n",
              "      <td>79.97</td>\n",
              "      <td>2.0</td>\n",
              "      <td>0</td>\n",
              "      <td>37.476283</td>\n",
              "      <td>127.056841</td>\n",
              "      <td>3.901717</td>\n",
              "      <td>1.489581</td>\n",
              "      <td>2.0</td>\n",
              "      <td>3.0</td>\n",
              "      <td>2.5</td>\n",
              "      <td>1941.15</td>\n",
              "      <td>2014.0</td>\n",
              "      <td>27.0</td>\n",
              "      <td>34000.0</td>\n",
              "    </tr>\n",
              "    <tr>\n",
              "      <th>2</th>\n",
              "      <td>0</td>\n",
              "      <td>9</td>\n",
              "      <td>0</td>\n",
              "      <td>79.97</td>\n",
              "      <td>1.0</td>\n",
              "      <td>0</td>\n",
              "      <td>37.476283</td>\n",
              "      <td>127.056841</td>\n",
              "      <td>3.901717</td>\n",
              "      <td>1.489581</td>\n",
              "      <td>2.0</td>\n",
              "      <td>3.0</td>\n",
              "      <td>2.5</td>\n",
              "      <td>1941.15</td>\n",
              "      <td>2014.0</td>\n",
              "      <td>27.0</td>\n",
              "      <td>28000.0</td>\n",
              "    </tr>\n",
              "    <tr>\n",
              "      <th>3</th>\n",
              "      <td>0</td>\n",
              "      <td>9</td>\n",
              "      <td>0</td>\n",
              "      <td>79.97</td>\n",
              "      <td>2.0</td>\n",
              "      <td>0</td>\n",
              "      <td>37.476283</td>\n",
              "      <td>127.056841</td>\n",
              "      <td>3.901717</td>\n",
              "      <td>1.489581</td>\n",
              "      <td>2.0</td>\n",
              "      <td>3.0</td>\n",
              "      <td>2.5</td>\n",
              "      <td>1941.15</td>\n",
              "      <td>2014.0</td>\n",
              "      <td>27.0</td>\n",
              "      <td>35000.0</td>\n",
              "    </tr>\n",
              "    <tr>\n",
              "      <th>4</th>\n",
              "      <td>0</td>\n",
              "      <td>9</td>\n",
              "      <td>1</td>\n",
              "      <td>104.43</td>\n",
              "      <td>8.0</td>\n",
              "      <td>0</td>\n",
              "      <td>37.483973</td>\n",
              "      <td>127.056014</td>\n",
              "      <td>3.576921</td>\n",
              "      <td>0.796235</td>\n",
              "      <td>2.0</td>\n",
              "      <td>3.0</td>\n",
              "      <td>2.5</td>\n",
              "      <td>1941.15</td>\n",
              "      <td>2014.0</td>\n",
              "      <td>30.0</td>\n",
              "      <td>49600.0</td>\n",
              "    </tr>\n",
              "  </tbody>\n",
              "</table>\n",
              "</div>\n",
              "      <button class=\"colab-df-convert\" onclick=\"convertToInteractive('df-75643ddc-77c2-4d95-94c5-8a9f26cfc2f2')\"\n",
              "              title=\"Convert this dataframe to an interactive table.\"\n",
              "              style=\"display:none;\">\n",
              "        \n",
              "  <svg xmlns=\"http://www.w3.org/2000/svg\" height=\"24px\"viewBox=\"0 0 24 24\"\n",
              "       width=\"24px\">\n",
              "    <path d=\"M0 0h24v24H0V0z\" fill=\"none\"/>\n",
              "    <path d=\"M18.56 5.44l.94 2.06.94-2.06 2.06-.94-2.06-.94-.94-2.06-.94 2.06-2.06.94zm-11 1L8.5 8.5l.94-2.06 2.06-.94-2.06-.94L8.5 2.5l-.94 2.06-2.06.94zm10 10l.94 2.06.94-2.06 2.06-.94-2.06-.94-.94-2.06-.94 2.06-2.06.94z\"/><path d=\"M17.41 7.96l-1.37-1.37c-.4-.4-.92-.59-1.43-.59-.52 0-1.04.2-1.43.59L10.3 9.45l-7.72 7.72c-.78.78-.78 2.05 0 2.83L4 21.41c.39.39.9.59 1.41.59.51 0 1.02-.2 1.41-.59l7.78-7.78 2.81-2.81c.8-.78.8-2.07 0-2.86zM5.41 20L4 18.59l7.72-7.72 1.47 1.35L5.41 20z\"/>\n",
              "  </svg>\n",
              "      </button>\n",
              "      \n",
              "  <style>\n",
              "    .colab-df-container {\n",
              "      display:flex;\n",
              "      flex-wrap:wrap;\n",
              "      gap: 12px;\n",
              "    }\n",
              "\n",
              "    .colab-df-convert {\n",
              "      background-color: #E8F0FE;\n",
              "      border: none;\n",
              "      border-radius: 50%;\n",
              "      cursor: pointer;\n",
              "      display: none;\n",
              "      fill: #1967D2;\n",
              "      height: 32px;\n",
              "      padding: 0 0 0 0;\n",
              "      width: 32px;\n",
              "    }\n",
              "\n",
              "    .colab-df-convert:hover {\n",
              "      background-color: #E2EBFA;\n",
              "      box-shadow: 0px 1px 2px rgba(60, 64, 67, 0.3), 0px 1px 3px 1px rgba(60, 64, 67, 0.15);\n",
              "      fill: #174EA6;\n",
              "    }\n",
              "\n",
              "    [theme=dark] .colab-df-convert {\n",
              "      background-color: #3B4455;\n",
              "      fill: #D2E3FC;\n",
              "    }\n",
              "\n",
              "    [theme=dark] .colab-df-convert:hover {\n",
              "      background-color: #434B5C;\n",
              "      box-shadow: 0px 1px 3px 1px rgba(0, 0, 0, 0.15);\n",
              "      filter: drop-shadow(0px 1px 2px rgba(0, 0, 0, 0.3));\n",
              "      fill: #FFFFFF;\n",
              "    }\n",
              "  </style>\n",
              "\n",
              "      <script>\n",
              "        const buttonEl =\n",
              "          document.querySelector('#df-75643ddc-77c2-4d95-94c5-8a9f26cfc2f2 button.colab-df-convert');\n",
              "        buttonEl.style.display =\n",
              "          google.colab.kernel.accessAllowed ? 'block' : 'none';\n",
              "\n",
              "        async function convertToInteractive(key) {\n",
              "          const element = document.querySelector('#df-75643ddc-77c2-4d95-94c5-8a9f26cfc2f2');\n",
              "          const dataTable =\n",
              "            await google.colab.kernel.invokeFunction('convertToInteractive',\n",
              "                                                     [key], {});\n",
              "          if (!dataTable) return;\n",
              "\n",
              "          const docLinkHtml = 'Like what you see? Visit the ' +\n",
              "            '<a target=\"_blank\" href=https://colab.research.google.com/notebooks/data_table.ipynb>data table notebook</a>'\n",
              "            + ' to learn more about interactive tables.';\n",
              "          element.innerHTML = '';\n",
              "          dataTable['output_type'] = 'display_data';\n",
              "          await google.colab.output.renderOutput(dataTable, element);\n",
              "          const docLink = document.createElement('div');\n",
              "          docLink.innerHTML = docLinkHtml;\n",
              "          element.appendChild(docLink);\n",
              "        }\n",
              "      </script>\n",
              "    </div>\n",
              "  </div>\n",
              "  "
            ]
          },
          "metadata": {},
          "execution_count": 9
        }
      ]
    },
    {
      "cell_type": "code",
      "source": [
        "import warnings\n",
        "warnings.filterwarnings('ignore')\n",
        "\n",
        "# Show correlation matrix\n",
        "corr = df.corr()\n",
        "\n",
        "# Show headmap\n",
        "plt.figure(figsize=(8,6))\n",
        "plt.rc('font', family='NanumBarunGothic')  #한글깨짐방지\n",
        "sns.heatmap(corr,cmap='RdBu_r',linewidth=1)"
      ],
      "metadata": {
        "colab": {
          "base_uri": "https://localhost:8080/",
          "height": 630
        },
        "id": "wMGHRcnr9MYX",
        "outputId": "58363258-4c25-4939-c496-e3fa0ee58a10"
      },
      "execution_count": 7,
      "outputs": [
        {
          "output_type": "execute_result",
          "data": {
            "text/plain": [
              "<Axes: >"
            ]
          },
          "metadata": {},
          "execution_count": 7
        },
        {
          "output_type": "display_data",
          "data": {
            "text/plain": [
              "<Figure size 800x600 with 2 Axes>"
            ],
            "image/png": "[encoded data removed]"
          },
          "metadata": {}
        }
      ]
    },
    {
      "cell_type": "code",
      "source": [
        "# train_dataset = df.sample(frac=0.8,random_state=0)\n",
        "# test_dataset = df.drop(train_dataset.index)"
      ],
      "metadata": {
        "id": "YiLzb19G-b3v"
      },
      "execution_count": null,
      "outputs": []
    },
    {
      "cell_type": "code",
      "source": [
        "# train_dataset.head()"
      ],
      "metadata": {
        "id": "SnQXAHtsEiqM"
      },
      "execution_count": null,
      "outputs": []
    },
    {
      "cell_type": "code",
      "source": [
        "# test_dataset.head()"
      ],
      "metadata": {
        "id": "gGwNGs2ZGeox"
      },
      "execution_count": null,
      "outputs": []
    },
    {
      "cell_type": "code",
      "source": [
        "X = df.drop('환산_보증금_월세', axis=1)\n",
        "y = df['환산_보증금_월세']\n"
      ],
      "metadata": {
        "id": "oV83pgVfHdMG"
      },
      "execution_count": 10,
      "outputs": []
    },
    {
      "cell_type": "code",
      "source": [
        "X_train, X_test, y_train, y_test = train_test_split(X, y)"
      ],
      "metadata": {
        "id": "SLaFn8IiKBhL"
      },
      "execution_count": 11,
      "outputs": []
    },
    {
      "cell_type": "code",
      "source": [
        "X_train"
      ],
      "metadata": {
        "colab": {
          "base_uri": "https://localhost:8080/",
          "height": 609
        },
        "id": "WkiEVKi_KEQ5",
        "outputId": "2e42c168-d2b5-4ca5-cd57-bcfe5cc612d2"
      },
      "execution_count": 10,
      "outputs": [
        {
          "output_type": "execute_result",
          "data": {
            "text/plain": [
              "         시군구_Encoder  동_Encoder  전월세구분  전용면적(㎡)     층  구분         위도  \\\n",
              "2720780           16        139      1  59.6500  11.0   0  37.585587   \n",
              "1326631            3        380      0  28.9700   3.0   2  37.534848   \n",
              "2496561            0         74      1  84.9984  17.0   0  37.493541   \n",
              "1707711           14        176      0  33.0100   6.0   2  37.483209   \n",
              "2363129           19        235      1  99.9700   3.0   1  37.517548   \n",
              "...              ...        ...    ...      ...   ...  ..        ...   \n",
              "369921            11        391      1  59.5110   6.0   0  37.500395   \n",
              "2519212            0        161      0  84.8700   9.0   0  37.515991   \n",
              "614165            17        354      1  71.1700  10.0   0  37.529386   \n",
              "2271682           19        199      0  59.7800   4.0   0  37.506980   \n",
              "166004            11        165      1  53.4100   7.0   0  37.500592   \n",
              "\n",
              "                 경도    대학최소거리     역최소거리  스타벅스 개수  마트 개수  한국은행기준금리       종가  \\\n",
              "2720780  127.016621  0.613165  0.245054      0.0    0.0      1.75  2096.86   \n",
              "1326631  126.840747  1.746990  0.624695      7.0    4.0      1.25  2663.34   \n",
              "2496561  127.050547  3.050367  0.527394      4.0    2.0      1.50  2063.05   \n",
              "1707711  127.003217  0.645515  0.529819     25.0    2.0      0.50  3296.68   \n",
              "2363129  126.932337  2.606839  0.837195     25.0    6.0      0.75  1947.56   \n",
              "...             ...       ...       ...      ...    ...       ...      ...   \n",
              "369921   126.958696  0.477686  0.640191      1.0    1.0      3.00  2106.70   \n",
              "2519212  127.046228  1.346510  0.461170     24.0    4.0      1.25  2083.48   \n",
              "614165   127.118903  1.520778  0.174155      0.0    1.0      0.50  2326.17   \n",
              "2271682  126.922614  3.039643  0.815902      1.0    7.0      3.25  2100.69   \n",
              "166004   126.952774  0.573758  0.488068      1.0    0.0      2.75  2004.89   \n",
              "\n",
              "             년도  건물나이  \n",
              "2720780  2018.0  15.0  \n",
              "1326631  2022.0   3.0  \n",
              "2496561  2019.0  13.0  \n",
              "1707711  2021.0   4.0  \n",
              "2363129  2020.0  18.0  \n",
              "...         ...   ...  \n",
              "369921   2011.0   8.0  \n",
              "2519212  2019.0  15.0  \n",
              "614165   2020.0  25.0  \n",
              "2271682  2011.0   6.0  \n",
              "166004   2013.0  10.0  \n",
              "\n",
              "[2587337 rows x 16 columns]"
            ],
            "text/html": [
              "\n",
              "  <div id=\"df-e57cae06-8386-4406-aa69-369c79271d51\">\n",
              "    <div class=\"colab-df-container\">\n",
              "      <div>\n",
              "<style scoped>\n",
              "    .dataframe tbody tr th:only-of-type {\n",
              "        vertical-align: middle;\n",
              "    }\n",
              "\n",
              "    .dataframe tbody tr th {\n",
              "        vertical-align: top;\n",
              "    }\n",
              "\n",
              "    .dataframe thead th {\n",
              "        text-align: right;\n",
              "    }\n",
              "</style>\n",
              "<table border=\"1\" class=\"dataframe\">\n",
              "  <thead>\n",
              "    <tr style=\"text-align: right;\">\n",
              "      <th></th>\n",
              "      <th>시군구_Encoder</th>\n",
              "      <th>동_Encoder</th>\n",
              "      <th>전월세구분</th>\n",
              "      <th>전용면적(㎡)</th>\n",
              "      <th>층</th>\n",
              "      <th>구분</th>\n",
              "      <th>위도</th>\n",
              "      <th>경도</th>\n",
              "      <th>대학최소거리</th>\n",
              "      <th>역최소거리</th>\n",
              "      <th>스타벅스 개수</th>\n",
              "      <th>마트 개수</th>\n",
              "      <th>한국은행기준금리</th>\n",
              "      <th>종가</th>\n",
              "      <th>년도</th>\n",
              "      <th>건물나이</th>\n",
              "    </tr>\n",
              "  </thead>\n",
              "  <tbody>\n",
              "    <tr>\n",
              "      <th>2720780</th>\n",
              "      <td>16</td>\n",
              "      <td>139</td>\n",
              "      <td>1</td>\n",
              "      <td>59.6500</td>\n",
              "      <td>11.0</td>\n",
              "      <td>0</td>\n",
              "      <td>37.585587</td>\n",
              "      <td>127.016621</td>\n",
              "      <td>0.613165</td>\n",
              "      <td>0.245054</td>\n",
              "      <td>0.0</td>\n",
              "      <td>0.0</td>\n",
              "      <td>1.75</td>\n",
              "      <td>2096.86</td>\n",
              "      <td>2018.0</td>\n",
              "      <td>15.0</td>\n",
              "    </tr>\n",
              "    <tr>\n",
              "      <th>1326631</th>\n",
              "      <td>3</td>\n",
              "      <td>380</td>\n",
              "      <td>0</td>\n",
              "      <td>28.9700</td>\n",
              "      <td>3.0</td>\n",
              "      <td>2</td>\n",
              "      <td>37.534848</td>\n",
              "      <td>126.840747</td>\n",
              "      <td>1.746990</td>\n",
              "      <td>0.624695</td>\n",
              "      <td>7.0</td>\n",
              "      <td>4.0</td>\n",
              "      <td>1.25</td>\n",
              "      <td>2663.34</td>\n",
              "      <td>2022.0</td>\n",
              "      <td>3.0</td>\n",
              "    </tr>\n",
              "    <tr>\n",
              "      <th>2496561</th>\n",
              "      <td>0</td>\n",
              "      <td>74</td>\n",
              "      <td>1</td>\n",
              "      <td>84.9984</td>\n",
              "      <td>17.0</td>\n",
              "      <td>0</td>\n",
              "      <td>37.493541</td>\n",
              "      <td>127.050547</td>\n",
              "      <td>3.050367</td>\n",
              "      <td>0.527394</td>\n",
              "      <td>4.0</td>\n",
              "      <td>2.0</td>\n",
              "      <td>1.50</td>\n",
              "      <td>2063.05</td>\n",
              "      <td>2019.0</td>\n",
              "      <td>13.0</td>\n",
              "    </tr>\n",
              "    <tr>\n",
              "      <th>1707711</th>\n",
              "      <td>14</td>\n",
              "      <td>176</td>\n",
              "      <td>0</td>\n",
              "      <td>33.0100</td>\n",
              "      <td>6.0</td>\n",
              "      <td>2</td>\n",
              "      <td>37.483209</td>\n",
              "      <td>127.003217</td>\n",
              "      <td>0.645515</td>\n",
              "      <td>0.529819</td>\n",
              "      <td>25.0</td>\n",
              "      <td>2.0</td>\n",
              "      <td>0.50</td>\n",
              "      <td>3296.68</td>\n",
              "      <td>2021.0</td>\n",
              "      <td>4.0</td>\n",
              "    </tr>\n",
              "    <tr>\n",
              "      <th>2363129</th>\n",
              "      <td>19</td>\n",
              "      <td>235</td>\n",
              "      <td>1</td>\n",
              "      <td>99.9700</td>\n",
              "      <td>3.0</td>\n",
              "      <td>1</td>\n",
              "      <td>37.517548</td>\n",
              "      <td>126.932337</td>\n",
              "      <td>2.606839</td>\n",
              "      <td>0.837195</td>\n",
              "      <td>25.0</td>\n",
              "      <td>6.0</td>\n",
              "      <td>0.75</td>\n",
              "      <td>1947.56</td>\n",
              "      <td>2020.0</td>\n",
              "      <td>18.0</td>\n",
              "    </tr>\n",
              "    <tr>\n",
              "      <th>...</th>\n",
              "      <td>...</td>\n",
              "      <td>...</td>\n",
              "      <td>...</td>\n",
              "      <td>...</td>\n",
              "      <td>...</td>\n",
              "      <td>...</td>\n",
              "      <td>...</td>\n",
              "      <td>...</td>\n",
              "      <td>...</td>\n",
              "      <td>...</td>\n",
              "      <td>...</td>\n",
              "      <td>...</td>\n",
              "      <td>...</td>\n",
              "      <td>...</td>\n",
              "      <td>...</td>\n",
              "      <td>...</td>\n",
              "    </tr>\n",
              "    <tr>\n",
              "      <th>369921</th>\n",
              "      <td>11</td>\n",
              "      <td>391</td>\n",
              "      <td>1</td>\n",
              "      <td>59.5110</td>\n",
              "      <td>6.0</td>\n",
              "      <td>0</td>\n",
              "      <td>37.500395</td>\n",
              "      <td>126.958696</td>\n",
              "      <td>0.477686</td>\n",
              "      <td>0.640191</td>\n",
              "      <td>1.0</td>\n",
              "      <td>1.0</td>\n",
              "      <td>3.00</td>\n",
              "      <td>2106.70</td>\n",
              "      <td>2011.0</td>\n",
              "      <td>8.0</td>\n",
              "    </tr>\n",
              "    <tr>\n",
              "      <th>2519212</th>\n",
              "      <td>0</td>\n",
              "      <td>161</td>\n",
              "      <td>0</td>\n",
              "      <td>84.8700</td>\n",
              "      <td>9.0</td>\n",
              "      <td>0</td>\n",
              "      <td>37.515991</td>\n",
              "      <td>127.046228</td>\n",
              "      <td>1.346510</td>\n",
              "      <td>0.461170</td>\n",
              "      <td>24.0</td>\n",
              "      <td>4.0</td>\n",
              "      <td>1.25</td>\n",
              "      <td>2083.48</td>\n",
              "      <td>2019.0</td>\n",
              "      <td>15.0</td>\n",
              "    </tr>\n",
              "    <tr>\n",
              "      <th>614165</th>\n",
              "      <td>17</td>\n",
              "      <td>354</td>\n",
              "      <td>1</td>\n",
              "      <td>71.1700</td>\n",
              "      <td>10.0</td>\n",
              "      <td>0</td>\n",
              "      <td>37.529386</td>\n",
              "      <td>127.118903</td>\n",
              "      <td>1.520778</td>\n",
              "      <td>0.174155</td>\n",
              "      <td>0.0</td>\n",
              "      <td>1.0</td>\n",
              "      <td>0.50</td>\n",
              "      <td>2326.17</td>\n",
              "      <td>2020.0</td>\n",
              "      <td>25.0</td>\n",
              "    </tr>\n",
              "    <tr>\n",
              "      <th>2271682</th>\n",
              "      <td>19</td>\n",
              "      <td>199</td>\n",
              "      <td>0</td>\n",
              "      <td>59.7800</td>\n",
              "      <td>4.0</td>\n",
              "      <td>0</td>\n",
              "      <td>37.506980</td>\n",
              "      <td>126.922614</td>\n",
              "      <td>3.039643</td>\n",
              "      <td>0.815902</td>\n",
              "      <td>1.0</td>\n",
              "      <td>7.0</td>\n",
              "      <td>3.25</td>\n",
              "      <td>2100.69</td>\n",
              "      <td>2011.0</td>\n",
              "      <td>6.0</td>\n",
              "    </tr>\n",
              "    <tr>\n",
              "      <th>166004</th>\n",
              "      <td>11</td>\n",
              "      <td>165</td>\n",
              "      <td>1</td>\n",
              "      <td>53.4100</td>\n",
              "      <td>7.0</td>\n",
              "      <td>0</td>\n",
              "      <td>37.500592</td>\n",
              "      <td>126.952774</td>\n",
              "      <td>0.573758</td>\n",
              "      <td>0.488068</td>\n",
              "      <td>1.0</td>\n",
              "      <td>0.0</td>\n",
              "      <td>2.75</td>\n",
              "      <td>2004.89</td>\n",
              "      <td>2013.0</td>\n",
              "      <td>10.0</td>\n",
              "    </tr>\n",
              "  </tbody>\n",
              "</table>\n",
              "<p>2587337 rows × 16 columns</p>\n",
              "</div>\n",
              "      <button class=\"colab-df-convert\" onclick=\"convertToInteractive('df-e57cae06-8386-4406-aa69-369c79271d51')\"\n",
              "              title=\"Convert this dataframe to an interactive table.\"\n",
              "              style=\"display:none;\">\n",
              "        \n",
              "  <svg xmlns=\"http://www.w3.org/2000/svg\" height=\"24px\"viewBox=\"0 0 24 24\"\n",
              "       width=\"24px\">\n",
              "    <path d=\"M0 0h24v24H0V0z\" fill=\"none\"/>\n",
              "    <path d=\"M18.56 5.44l.94 2.06.94-2.06 2.06-.94-2.06-.94-.94-2.06-.94 2.06-2.06.94zm-11 1L8.5 8.5l.94-2.06 2.06-.94-2.06-.94L8.5 2.5l-.94 2.06-2.06.94zm10 10l.94 2.06.94-2.06 2.06-.94-2.06-.94-.94-2.06-.94 2.06-2.06.94z\"/><path d=\"M17.41 7.96l-1.37-1.37c-.4-.4-.92-.59-1.43-.59-.52 0-1.04.2-1.43.59L10.3 9.45l-7.72 7.72c-.78.78-.78 2.05 0 2.83L4 21.41c.39.39.9.59 1.41.59.51 0 1.02-.2 1.41-.59l7.78-7.78 2.81-2.81c.8-.78.8-2.07 0-2.86zM5.41 20L4 18.59l7.72-7.72 1.47 1.35L5.41 20z\"/>\n",
              "  </svg>\n",
              "      </button>\n",
              "      \n",
              "  <style>\n",
              "    .colab-df-container {\n",
              "      display:flex;\n",
              "      flex-wrap:wrap;\n",
              "      gap: 12px;\n",
              "    }\n",
              "\n",
              "    .colab-df-convert {\n",
              "      background-color: #E8F0FE;\n",
              "      border: none;\n",
              "      border-radius: 50%;\n",
              "      cursor: pointer;\n",
              "      display: none;\n",
              "      fill: #1967D2;\n",
              "      height: 32px;\n",
              "      padding: 0 0 0 0;\n",
              "      width: 32px;\n",
              "    }\n",
              "\n",
              "    .colab-df-convert:hover {\n",
              "      background-color: #E2EBFA;\n",
              "      box-shadow: 0px 1px 2px rgba(60, 64, 67, 0.3), 0px 1px 3px 1px rgba(60, 64, 67, 0.15);\n",
              "      fill: #174EA6;\n",
              "    }\n",
              "\n",
              "    [theme=dark] .colab-df-convert {\n",
              "      background-color: #3B4455;\n",
              "      fill: #D2E3FC;\n",
              "    }\n",
              "\n",
              "    [theme=dark] .colab-df-convert:hover {\n",
              "      background-color: #434B5C;\n",
              "      box-shadow: 0px 1px 3px 1px rgba(0, 0, 0, 0.15);\n",
              "      filter: drop-shadow(0px 1px 2px rgba(0, 0, 0, 0.3));\n",
              "      fill: #FFFFFF;\n",
              "    }\n",
              "  </style>\n",
              "\n",
              "      <script>\n",
              "        const buttonEl =\n",
              "          document.querySelector('#df-e57cae06-8386-4406-aa69-369c79271d51 button.colab-df-convert');\n",
              "        buttonEl.style.display =\n",
              "          google.colab.kernel.accessAllowed ? 'block' : 'none';\n",
              "\n",
              "        async function convertToInteractive(key) {\n",
              "          const element = document.querySelector('#df-e57cae06-8386-4406-aa69-369c79271d51');\n",
              "          const dataTable =\n",
              "            await google.colab.kernel.invokeFunction('convertToInteractive',\n",
              "                                                     [key], {});\n",
              "          if (!dataTable) return;\n",
              "\n",
              "          const docLinkHtml = 'Like what you see? Visit the ' +\n",
              "            '<a target=\"_blank\" href=https://colab.research.google.com/notebooks/data_table.ipynb>data table notebook</a>'\n",
              "            + ' to learn more about interactive tables.';\n",
              "          element.innerHTML = '';\n",
              "          dataTable['output_type'] = 'display_data';\n",
              "          await google.colab.output.renderOutput(dataTable, element);\n",
              "          const docLink = document.createElement('div');\n",
              "          docLink.innerHTML = docLinkHtml;\n",
              "          element.appendChild(docLink);\n",
              "        }\n",
              "      </script>\n",
              "    </div>\n",
              "  </div>\n",
              "  "
            ]
          },
          "metadata": {},
          "execution_count": 10
        }
      ]
    },
    {
      "cell_type": "code",
      "source": [
        "y_train"
      ],
      "metadata": {
        "colab": {
          "base_uri": "https://localhost:8080/"
        },
        "id": "sLzo03lxKFkV",
        "outputId": "a2f57e6b-705d-4980-d14f-5e07c982d306"
      },
      "execution_count": 11,
      "outputs": [
        {
          "output_type": "execute_result",
          "data": {
            "text/plain": [
              "2720780     32200.0\n",
              "1326631     25600.0\n",
              "2496561    100400.0\n",
              "1707711     31500.0\n",
              "2363129     58000.0\n",
              "             ...   \n",
              "369921      18800.0\n",
              "2519212     92000.0\n",
              "614165      33200.0\n",
              "2271682     23000.0\n",
              "166004      15600.0\n",
              "Name: 환산_보증금_월세, Length: 2587337, dtype: float64"
            ]
          },
          "metadata": {},
          "execution_count": 11
        }
      ]
    },
    {
      "cell_type": "markdown",
      "source": [
        "### 처음에 돌려봤던 모델 그대로\n",
        "batch, normalize"
      ],
      "metadata": {
        "id": "GbiLzU4GCjIU"
      }
    },
    {
      "cell_type": "code",
      "source": [
        "model = Sequential()\n",
        "model.add(Dense(128, activation='relu', input_shape=(16,)))\n",
        "model.add(BatchNormalization())\n",
        "model.add(Dense(64, activation='relu', ))\n",
        "model.add(BatchNormalization())\n",
        "# model.add(Dense(64, activation='relu'))\n",
        "# model.add(BatchNormalization())\n",
        "model.add(Dense(32, activation='relu'))\n",
        "model.add(BatchNormalization())\n",
        "model.add(Dense(1))\n",
        "\n",
        "model.compile(loss='mse', optimizer=Adam(learning_rate=0.01), metrics=['mae'])\n",
        "\n",
        "# Set EarlyStopping\n",
        "early_stop = EarlyStopping(monitor='val_loss', patience=500)"
      ],
      "metadata": {
        "id": "Qqk2llhcIFOt"
      },
      "execution_count": 15,
      "outputs": []
    },
    {
      "cell_type": "code",
      "source": [
        "model.summary()"
      ],
      "metadata": {
        "colab": {
          "base_uri": "https://localhost:8080/"
        },
        "id": "ONmYnEp2BBFa",
        "outputId": "5cbe23e1-2705-4a4f-df3d-19361cfc3e49"
      },
      "execution_count": 16,
      "outputs": [
        {
          "output_type": "stream",
          "name": "stdout",
          "text": [
            "Model: \"sequential_1\"\n",
            "_________________________________________________________________\n",
            " Layer (type)                Output Shape              Param #   \n",
            "=================================================================\n",
            " dense_4 (Dense)             (None, 128)               2176      \n",
            "                                                                 \n",
            " batch_normalization_3 (Batc  (None, 128)              512       \n",
            " hNormalization)                                                 \n",
            "                                                                 \n",
            " dense_5 (Dense)             (None, 64)                8256      \n",
            "                                                                 \n",
            " batch_normalization_4 (Batc  (None, 64)               256       \n",
            " hNormalization)                                                 \n",
            "                                                                 \n",
            " dense_6 (Dense)             (None, 32)                2080      \n",
            "                                                                 \n",
            " batch_normalization_5 (Batc  (None, 32)               128       \n",
            " hNormalization)                                                 \n",
            "                                                                 \n",
            " dense_7 (Dense)             (None, 1)                 33        \n",
            "                                                                 \n",
            "=================================================================\n",
            "Total params: 13,441\n",
            "Trainable params: 12,993\n",
            "Non-trainable params: 448\n",
            "_________________________________________________________________\n"
          ]
        }
      ]
    },
    {
      "cell_type": "code",
      "source": [
        "# example_batch = X_train[:10]\n",
        "# example_result = model.predict(example_batch)\n",
        "# example_result"
      ],
      "metadata": {
        "id": "8b7MfcHgBVn6"
      },
      "execution_count": null,
      "outputs": []
    },
    {
      "cell_type": "code",
      "source": [
        "# history = model.fit(X_train, y_train, epochs=50,\n",
        "history = model.fit(X_train, y_train, epochs=20, #시간상 20번만 돌림\n",
        "                    validation_split=0.2, batch_size=32, verbose=1) #verbose 1이어야 로그나옴 0이면 안나옴 멍청아"
      ],
      "metadata": {
        "colab": {
          "base_uri": "https://localhost:8080/"
        },
        "id": "Vzf1bWi7Igmq",
        "outputId": "9b23ab5f-2c46-4b30-d5f4-589b014dc07f"
      },
      "execution_count": 18,
      "outputs": [
        {
          "output_type": "stream",
          "name": "stdout",
          "text": [
            "Epoch 1/20\n",
            "64684/64684 [==============================] - 429s 7ms/step - loss: 172594304.0000 - mae: 8252.2285 - val_loss: 3866728152615478099968.0000 - val_mae: 112243904.0000\n",
            "Epoch 2/20\n",
            "64684/64684 [==============================] - 420s 6ms/step - loss: 164133664.0000 - mae: 8095.7578 - val_loss: 20097259293945309954048.0000 - val_mae: 218683872.0000\n",
            "Epoch 3/20\n",
            "64684/64684 [==============================] - 434s 7ms/step - loss: 157608160.0000 - mae: 7946.7114 - val_loss: 18491593873160262570213376.0000 - val_mae: 8423880192.0000\n",
            "Epoch 4/20\n",
            "64684/64684 [==============================] - 433s 7ms/step - loss: 147432112.0000 - mae: 7692.4375 - val_loss: 40070649277896412572418048.0000 - val_mae: 8991091712.0000\n",
            "Epoch 5/20\n",
            "64684/64684 [==============================] - 418s 6ms/step - loss: 141642384.0000 - mae: 7559.1162 - val_loss: 15373584533398312120745984.0000 - val_mae: 5457125376.0000\n",
            "Epoch 6/20\n",
            "64684/64684 [==============================] - 414s 6ms/step - loss: 138546160.0000 - mae: 7487.9229 - val_loss: 5906460102657299814809600.0000 - val_mae: 3378705408.0000\n",
            "Epoch 7/20\n",
            "64684/64684 [==============================] - 418s 6ms/step - loss: 137208640.0000 - mae: 7476.9922 - val_loss: 3325680766931139519578112.0000 - val_mae: 2542200576.0000\n",
            "Epoch 8/20\n",
            "64684/64684 [==============================] - 426s 7ms/step - loss: 135061776.0000 - mae: 7415.5137 - val_loss: 193848979192863543787520.0000 - val_mae: 628076928.0000\n",
            "Epoch 9/20\n",
            "64684/64684 [==============================] - 420s 6ms/step - loss: 132172400.0000 - mae: 7341.7368 - val_loss: 105554483199054899492945920.0000 - val_mae: 16961647616.0000\n",
            "Epoch 10/20\n",
            "64684/64684 [==============================] - 429s 7ms/step - loss: 130492928.0000 - mae: 7317.8530 - val_loss: 3182566314721282390753280.0000 - val_mae: 2721255168.0000\n",
            "Epoch 11/20\n",
            "64684/64684 [==============================] - 439s 7ms/step - loss: 129598752.0000 - mae: 7290.2529 - val_loss: 359498080608403436999802880.0000 - val_mae: 26396157952.0000\n",
            "Epoch 12/20\n",
            "64684/64684 [==============================] - 402s 6ms/step - loss: 127414064.0000 - mae: 7243.8140 - val_loss: 2430235169110240492781568.0000 - val_mae: 2167897088.0000\n",
            "Epoch 13/20\n",
            "64684/64684 [==============================] - 407s 6ms/step - loss: 128378328.0000 - mae: 7250.7754 - val_loss: 17023097000155438653636608.0000 - val_mae: 5737068544.0000\n",
            "Epoch 14/20\n",
            "64684/64684 [==============================] - 416s 6ms/step - loss: 125832552.0000 - mae: 7193.7598 - val_loss: 231141189678210612853735424.0000 - val_mae: 21137438720.0000\n",
            "Epoch 15/20\n",
            "64684/64684 [==============================] - 418s 6ms/step - loss: 125384976.0000 - mae: 7206.8066 - val_loss: 945712843988706029769588736.0000 - val_mae: 42752049152.0000\n",
            "Epoch 16/20\n",
            "64684/64684 [==============================] - 417s 6ms/step - loss: 124873152.0000 - mae: 7188.0278 - val_loss: 187837070583551892534591488.0000 - val_mae: 19073544192.0000\n",
            "Epoch 17/20\n",
            "64684/64684 [==============================] - 413s 6ms/step - loss: 124543248.0000 - mae: 7173.5381 - val_loss: 34200489485272411638071296.0000 - val_mae: 8129954304.0000\n",
            "Epoch 18/20\n",
            "64684/64684 [==============================] - 403s 6ms/step - loss: 123395448.0000 - mae: 7158.3325 - val_loss: 240922674153968558407680.0000 - val_mae: 687957568.0000\n",
            "Epoch 19/20\n",
            "64684/64684 [==============================] - 404s 6ms/step - loss: 123654016.0000 - mae: 7149.9209 - val_loss: 2926411367749237736472576.0000 - val_mae: 2449083392.0000\n",
            "Epoch 20/20\n",
            "64684/64684 [==============================] - 413s 6ms/step - loss: 123112416.0000 - mae: 7147.5254 - val_loss: 4245740085953890122465280.0000 - val_mae: 2883473920.0000\n"
          ]
        }
      ]
    },
    {
      "cell_type": "code",
      "source": [
        "hist = pd.DataFrame(history.history)\n",
        "hist['epoch'] = history.epoch\n",
        "hist.tail()"
      ],
      "metadata": {
        "colab": {
          "base_uri": "https://localhost:8080/",
          "height": 206
        },
        "id": "rl-7Yna1VaCm",
        "outputId": "42ac4566-6b27-4c3c-d2d4-7f4af4dd4c45"
      },
      "execution_count": 19,
      "outputs": [
        {
          "output_type": "execute_result",
          "data": {
            "text/plain": [
              "           loss          mae      val_loss       val_mae  epoch\n",
              "15  124873152.0  7188.027832  1.878371e+26  1.907354e+10     15\n",
              "16  124543248.0  7173.538086  3.420049e+25  8.129954e+09     16\n",
              "17  123395448.0  7158.332520  2.409227e+23  6.879576e+08     17\n",
              "18  123654016.0  7149.920898  2.926411e+24  2.449083e+09     18\n",
              "19  123112416.0  7147.525391  4.245740e+24  2.883474e+09     19"
            ],
            "text/html": [
              "\n",
              "  <div id=\"df-6c1f6274-cbb1-45f2-b74c-6374cc6b096d\">\n",
              "    <div class=\"colab-df-container\">\n",
              "      <div>\n",
              "<style scoped>\n",
              "    .dataframe tbody tr th:only-of-type {\n",
              "        vertical-align: middle;\n",
              "    }\n",
              "\n",
              "    .dataframe tbody tr th {\n",
              "        vertical-align: top;\n",
              "    }\n",
              "\n",
              "    .dataframe thead th {\n",
              "        text-align: right;\n",
              "    }\n",
              "</style>\n",
              "<table border=\"1\" class=\"dataframe\">\n",
              "  <thead>\n",
              "    <tr style=\"text-align: right;\">\n",
              "      <th></th>\n",
              "      <th>loss</th>\n",
              "      <th>mae</th>\n",
              "      <th>val_loss</th>\n",
              "      <th>val_mae</th>\n",
              "      <th>epoch</th>\n",
              "    </tr>\n",
              "  </thead>\n",
              "  <tbody>\n",
              "    <tr>\n",
              "      <th>15</th>\n",
              "      <td>124873152.0</td>\n",
              "      <td>7188.027832</td>\n",
              "      <td>1.878371e+26</td>\n",
              "      <td>1.907354e+10</td>\n",
              "      <td>15</td>\n",
              "    </tr>\n",
              "    <tr>\n",
              "      <th>16</th>\n",
              "      <td>124543248.0</td>\n",
              "      <td>7173.538086</td>\n",
              "      <td>3.420049e+25</td>\n",
              "      <td>8.129954e+09</td>\n",
              "      <td>16</td>\n",
              "    </tr>\n",
              "    <tr>\n",
              "      <th>17</th>\n",
              "      <td>123395448.0</td>\n",
              "      <td>7158.332520</td>\n",
              "      <td>2.409227e+23</td>\n",
              "      <td>6.879576e+08</td>\n",
              "      <td>17</td>\n",
              "    </tr>\n",
              "    <tr>\n",
              "      <th>18</th>\n",
              "      <td>123654016.0</td>\n",
              "      <td>7149.920898</td>\n",
              "      <td>2.926411e+24</td>\n",
              "      <td>2.449083e+09</td>\n",
              "      <td>18</td>\n",
              "    </tr>\n",
              "    <tr>\n",
              "      <th>19</th>\n",
              "      <td>123112416.0</td>\n",
              "      <td>7147.525391</td>\n",
              "      <td>4.245740e+24</td>\n",
              "      <td>2.883474e+09</td>\n",
              "      <td>19</td>\n",
              "    </tr>\n",
              "  </tbody>\n",
              "</table>\n",
              "</div>\n",
              "      <button class=\"colab-df-convert\" onclick=\"convertToInteractive('df-6c1f6274-cbb1-45f2-b74c-6374cc6b096d')\"\n",
              "              title=\"Convert this dataframe to an interactive table.\"\n",
              "              style=\"display:none;\">\n",
              "        \n",
              "  <svg xmlns=\"http://www.w3.org/2000/svg\" height=\"24px\"viewBox=\"0 0 24 24\"\n",
              "       width=\"24px\">\n",
              "    <path d=\"M0 0h24v24H0V0z\" fill=\"none\"/>\n",
              "    <path d=\"M18.56 5.44l.94 2.06.94-2.06 2.06-.94-2.06-.94-.94-2.06-.94 2.06-2.06.94zm-11 1L8.5 8.5l.94-2.06 2.06-.94-2.06-.94L8.5 2.5l-.94 2.06-2.06.94zm10 10l.94 2.06.94-2.06 2.06-.94-2.06-.94-.94-2.06-.94 2.06-2.06.94z\"/><path d=\"M17.41 7.96l-1.37-1.37c-.4-.4-.92-.59-1.43-.59-.52 0-1.04.2-1.43.59L10.3 9.45l-7.72 7.72c-.78.78-.78 2.05 0 2.83L4 21.41c.39.39.9.59 1.41.59.51 0 1.02-.2 1.41-.59l7.78-7.78 2.81-2.81c.8-.78.8-2.07 0-2.86zM5.41 20L4 18.59l7.72-7.72 1.47 1.35L5.41 20z\"/>\n",
              "  </svg>\n",
              "      </button>\n",
              "      \n",
              "  <style>\n",
              "    .colab-df-container {\n",
              "      display:flex;\n",
              "      flex-wrap:wrap;\n",
              "      gap: 12px;\n",
              "    }\n",
              "\n",
              "    .colab-df-convert {\n",
              "      background-color: #E8F0FE;\n",
              "      border: none;\n",
              "      border-radius: 50%;\n",
              "      cursor: pointer;\n",
              "      display: none;\n",
              "      fill: #1967D2;\n",
              "      height: 32px;\n",
              "      padding: 0 0 0 0;\n",
              "      width: 32px;\n",
              "    }\n",
              "\n",
              "    .colab-df-convert:hover {\n",
              "      background-color: #E2EBFA;\n",
              "      box-shadow: 0px 1px 2px rgba(60, 64, 67, 0.3), 0px 1px 3px 1px rgba(60, 64, 67, 0.15);\n",
              "      fill: #174EA6;\n",
              "    }\n",
              "\n",
              "    [theme=dark] .colab-df-convert {\n",
              "      background-color: #3B4455;\n",
              "      fill: #D2E3FC;\n",
              "    }\n",
              "\n",
              "    [theme=dark] .colab-df-convert:hover {\n",
              "      background-color: #434B5C;\n",
              "      box-shadow: 0px 1px 3px 1px rgba(0, 0, 0, 0.15);\n",
              "      filter: drop-shadow(0px 1px 2px rgba(0, 0, 0, 0.3));\n",
              "      fill: #FFFFFF;\n",
              "    }\n",
              "  </style>\n",
              "\n",
              "      <script>\n",
              "        const buttonEl =\n",
              "          document.querySelector('#df-6c1f6274-cbb1-45f2-b74c-6374cc6b096d button.colab-df-convert');\n",
              "        buttonEl.style.display =\n",
              "          google.colab.kernel.accessAllowed ? 'block' : 'none';\n",
              "\n",
              "        async function convertToInteractive(key) {\n",
              "          const element = document.querySelector('#df-6c1f6274-cbb1-45f2-b74c-6374cc6b096d');\n",
              "          const dataTable =\n",
              "            await google.colab.kernel.invokeFunction('convertToInteractive',\n",
              "                                                     [key], {});\n",
              "          if (!dataTable) return;\n",
              "\n",
              "          const docLinkHtml = 'Like what you see? Visit the ' +\n",
              "            '<a target=\"_blank\" href=https://colab.research.google.com/notebooks/data_table.ipynb>data table notebook</a>'\n",
              "            + ' to learn more about interactive tables.';\n",
              "          element.innerHTML = '';\n",
              "          dataTable['output_type'] = 'display_data';\n",
              "          await google.colab.output.renderOutput(dataTable, element);\n",
              "          const docLink = document.createElement('div');\n",
              "          docLink.innerHTML = docLinkHtml;\n",
              "          element.appendChild(docLink);\n",
              "        }\n",
              "      </script>\n",
              "    </div>\n",
              "  </div>\n",
              "  "
            ]
          },
          "metadata": {},
          "execution_count": 19
        }
      ]
    },
    {
      "cell_type": "code",
      "source": [
        "Y_test_hat = model.predict(X_test).ravel().astype(int)\n"
      ],
      "metadata": {
        "colab": {
          "base_uri": "https://localhost:8080/"
        },
        "id": "t0riIu27KlgF",
        "outputId": "c8c42a60-5e54-4bf0-b41a-fe087a1debfe"
      },
      "execution_count": 20,
      "outputs": [
        {
          "output_type": "stream",
          "name": "stdout",
          "text": [
            "26952/26952 [==============================] - 51s 2ms/step\n"
          ]
        }
      ]
    },
    {
      "cell_type": "code",
      "source": [
        "hat_s = Y_test_hat[1000:1020]\n",
        "s = y_test[1000:1020]"
      ],
      "metadata": {
        "id": "7vrHmhPRLJme"
      },
      "execution_count": 21,
      "outputs": []
    },
    {
      "cell_type": "code",
      "source": [
        "plt.rcParams[\"figure.figsize\"] = (10,6)\n",
        "plt.plot(np.arange(20), hat_s, '-',color = 'green', label='real')\n",
        "plt.plot(np.arange(20), s, '--', color = 'blue', label='predict')\n",
        "plt.legend()\n",
        "plt.figure()"
      ],
      "metadata": {
        "colab": {
          "base_uri": "https://localhost:8080/",
          "height": 553
        },
        "id": "Zm4Vo_dvYwer",
        "outputId": "639afa2a-074a-4a56-8291-1488ad854e69"
      },
      "execution_count": 22,
      "outputs": [
        {
          "output_type": "execute_result",
          "data": {
            "text/plain": [
              "<Figure size 1000x600 with 0 Axes>"
            ]
          },
          "metadata": {},
          "execution_count": 22
        },
        {
          "output_type": "display_data",
          "data": {
            "text/plain": [
              "<Figure size 1000x600 with 1 Axes>"
            ],
            "image/png": "[encoded data removed]"
          },
          "metadata": {}
        },
        {
          "output_type": "display_data",
          "data": {
            "text/plain": [
              "<Figure size 1000x600 with 0 Axes>"
            ]
          },
          "metadata": {}
        }
      ]
    },
    {
      "cell_type": "code",
      "source": [
        "test_loss, test_mae = model.evaluate(X_test, y_test)\n",
        "print('loss:{:.3f}\\nmae: {:.3f}'.format(test_loss, test_mae))"
      ],
      "metadata": {
        "colab": {
          "base_uri": "https://localhost:8080/"
        },
        "id": "jZv8X8u4Y2hx",
        "outputId": "9daf45e0-5822-439d-c325-22998707736f"
      },
      "execution_count": 23,
      "outputs": [
        {
          "output_type": "stream",
          "name": "stdout",
          "text": [
            "26952/26952 [==============================] - 75s 3ms/step - loss: 43067663751799898112.0000 - mae: 12024550.0000\n",
            "loss:43067663751799898112.000\n",
            "mae: 12024550.000\n"
          ]
        }
      ]
    },
    {
      "cell_type": "code",
      "source": [
        "model.save('/content/drive/MyDrive/Colab/houseprac2/model1')"
      ],
      "metadata": {
        "id": "rHxT38Z6Vvf1"
      },
      "execution_count": 25,
      "outputs": []
    },
    {
      "cell_type": "markdown",
      "source": [
        "Dropout 포함\n"
      ],
      "metadata": {
        "id": "X83s0WmOEC2p"
      }
    },
    {
      "cell_type": "code",
      "source": [
        "\n",
        "model = Sequential()\n",
        "model.add(Dense(128, activation='relu', input_shape=(16,)))\n",
        "model.add(Dropout(0.5))\n",
        "model.add(Dense(64, activation='relu', ))\n",
        "model.add(Dropout(0.5))\n",
        "model.add(Dense(1))\n",
        "\n",
        "model.compile(loss='mse', optimizer=Adam(learning_rate=0.01), metrics=['mae'])\n",
        "\n",
        "# Set EarlyStopping\n",
        "early_stop = EarlyStopping(monitor='val_loss', patience=500)"
      ],
      "metadata": {
        "id": "dpe2wtl4Ul_v"
      },
      "execution_count": 30,
      "outputs": []
    },
    {
      "cell_type": "code",
      "source": [
        "model.summary()"
      ],
      "metadata": {
        "colab": {
          "base_uri": "https://localhost:8080/"
        },
        "id": "PQ2ACXHeU1s2",
        "outputId": "110be3c6-ade2-41d3-af6a-eb12d42d5d61"
      },
      "execution_count": 31,
      "outputs": [
        {
          "output_type": "stream",
          "name": "stdout",
          "text": [
            "Model: \"sequential_3\"\n",
            "_________________________________________________________________\n",
            " Layer (type)                Output Shape              Param #   \n",
            "=================================================================\n",
            " dense_11 (Dense)            (None, 128)               2176      \n",
            "                                                                 \n",
            " dropout_2 (Dropout)         (None, 128)               0         \n",
            "                                                                 \n",
            " dense_12 (Dense)            (None, 64)                8256      \n",
            "                                                                 \n",
            " dropout_3 (Dropout)         (None, 64)                0         \n",
            "                                                                 \n",
            " dense_13 (Dense)            (None, 1)                 65        \n",
            "                                                                 \n",
            "=================================================================\n",
            "Total params: 10,497\n",
            "Trainable params: 10,497\n",
            "Non-trainable params: 0\n",
            "_________________________________________________________________\n"
          ]
        }
      ]
    },
    {
      "cell_type": "code",
      "source": [
        "history = model.fit(X_train, y_train, epochs=10, #시간상 10번만 돌림\n",
        "                    validation_split=0.2, batch_size=32, verbose=1)"
      ],
      "metadata": {
        "colab": {
          "base_uri": "https://localhost:8080/"
        },
        "id": "C-0iiGbuU2YT",
        "outputId": "5c65a9c8-7f21-4e3c-ce69-094d8432b8b4"
      },
      "execution_count": 32,
      "outputs": [
        {
          "output_type": "stream",
          "name": "stdout",
          "text": [
            "Epoch 1/10\n",
            "64684/64684 [==============================] - 275s 4ms/step - loss: 333926272.0000 - mae: 11585.2129 - val_loss: 440716640.0000 - val_mae: 12250.4795\n",
            "Epoch 2/10\n",
            "64684/64684 [==============================] - 259s 4ms/step - loss: 316442880.0000 - mae: 11116.0879 - val_loss: 431500800.0000 - val_mae: 12076.6729\n",
            "Epoch 3/10\n",
            "64684/64684 [==============================] - 272s 4ms/step - loss: 317014144.0000 - mae: 11137.5430 - val_loss: 441251296.0000 - val_mae: 12114.7979\n",
            "Epoch 4/10\n",
            "64684/64684 [==============================] - 276s 4ms/step - loss: 314769600.0000 - mae: 11082.5898 - val_loss: 373439488.0000 - val_mae: 11305.5469\n",
            "Epoch 5/10\n",
            "64684/64684 [==============================] - 264s 4ms/step - loss: 312433888.0000 - mae: 11045.1963 - val_loss: 423146720.0000 - val_mae: 12050.7100\n",
            "Epoch 6/10\n",
            "64684/64684 [==============================] - 260s 4ms/step - loss: 311440672.0000 - mae: 11023.4961 - val_loss: 420231104.0000 - val_mae: 11989.2676\n",
            "Epoch 7/10\n",
            "64684/64684 [==============================] - 258s 4ms/step - loss: 311110432.0000 - mae: 11015.9980 - val_loss: 445138624.0000 - val_mae: 12251.9131\n",
            "Epoch 8/10\n",
            "64684/64684 [==============================] - 272s 4ms/step - loss: 310626560.0000 - mae: 11000.0840 - val_loss: 377403264.0000 - val_mae: 11406.2881\n",
            "Epoch 9/10\n",
            "64684/64684 [==============================] - 272s 4ms/step - loss: 310106240.0000 - mae: 10983.1650 - val_loss: 459021856.0000 - val_mae: 12612.3164\n",
            "Epoch 10/10\n",
            "64684/64684 [==============================] - 271s 4ms/step - loss: 309019168.0000 - mae: 10963.2852 - val_loss: 489071392.0000 - val_mae: 12964.2783\n"
          ]
        }
      ]
    },
    {
      "cell_type": "code",
      "source": [
        "hist = pd.DataFrame(history.history)\n",
        "hist['epoch'] = history.epoch\n",
        "hist.tail()"
      ],
      "metadata": {
        "colab": {
          "base_uri": "https://localhost:8080/",
          "height": 206
        },
        "id": "uo7QlHtdU72Y",
        "outputId": "7385b49f-1881-418a-d634-e4c8a94e76ea"
      },
      "execution_count": 33,
      "outputs": [
        {
          "output_type": "execute_result",
          "data": {
            "text/plain": [
              "          loss           mae     val_loss       val_mae  epoch\n",
              "5  311440672.0  11023.496094  420231104.0  11989.267578      5\n",
              "6  311110432.0  11015.998047  445138624.0  12251.913086      6\n",
              "7  310626560.0  11000.083984  377403264.0  11406.288086      7\n",
              "8  310106240.0  10983.165039  459021856.0  12612.316406      8\n",
              "9  309019168.0  10963.285156  489071392.0  12964.278320      9"
            ],
            "text/html": [
              "\n",
              "  <div id=\"df-81dca476-3f83-4c44-9c22-a819628ea7a5\">\n",
              "    <div class=\"colab-df-container\">\n",
              "      <div>\n",
              "<style scoped>\n",
              "    .dataframe tbody tr th:only-of-type {\n",
              "        vertical-align: middle;\n",
              "    }\n",
              "\n",
              "    .dataframe tbody tr th {\n",
              "        vertical-align: top;\n",
              "    }\n",
              "\n",
              "    .dataframe thead th {\n",
              "        text-align: right;\n",
              "    }\n",
              "</style>\n",
              "<table border=\"1\" class=\"dataframe\">\n",
              "  <thead>\n",
              "    <tr style=\"text-align: right;\">\n",
              "      <th></th>\n",
              "      <th>loss</th>\n",
              "      <th>mae</th>\n",
              "      <th>val_loss</th>\n",
              "      <th>val_mae</th>\n",
              "      <th>epoch</th>\n",
              "    </tr>\n",
              "  </thead>\n",
              "  <tbody>\n",
              "    <tr>\n",
              "      <th>5</th>\n",
              "      <td>311440672.0</td>\n",
              "      <td>11023.496094</td>\n",
              "      <td>420231104.0</td>\n",
              "      <td>11989.267578</td>\n",
              "      <td>5</td>\n",
              "    </tr>\n",
              "    <tr>\n",
              "      <th>6</th>\n",
              "      <td>311110432.0</td>\n",
              "      <td>11015.998047</td>\n",
              "      <td>445138624.0</td>\n",
              "      <td>12251.913086</td>\n",
              "      <td>6</td>\n",
              "    </tr>\n",
              "    <tr>\n",
              "      <th>7</th>\n",
              "      <td>310626560.0</td>\n",
              "      <td>11000.083984</td>\n",
              "      <td>377403264.0</td>\n",
              "      <td>11406.288086</td>\n",
              "      <td>7</td>\n",
              "    </tr>\n",
              "    <tr>\n",
              "      <th>8</th>\n",
              "      <td>310106240.0</td>\n",
              "      <td>10983.165039</td>\n",
              "      <td>459021856.0</td>\n",
              "      <td>12612.316406</td>\n",
              "      <td>8</td>\n",
              "    </tr>\n",
              "    <tr>\n",
              "      <th>9</th>\n",
              "      <td>309019168.0</td>\n",
              "      <td>10963.285156</td>\n",
              "      <td>489071392.0</td>\n",
              "      <td>12964.278320</td>\n",
              "      <td>9</td>\n",
              "    </tr>\n",
              "  </tbody>\n",
              "</table>\n",
              "</div>\n",
              "      <button class=\"colab-df-convert\" onclick=\"convertToInteractive('df-81dca476-3f83-4c44-9c22-a819628ea7a5')\"\n",
              "              title=\"Convert this dataframe to an interactive table.\"\n",
              "              style=\"display:none;\">\n",
              "        \n",
              "  <svg xmlns=\"http://www.w3.org/2000/svg\" height=\"24px\"viewBox=\"0 0 24 24\"\n",
              "       width=\"24px\">\n",
              "    <path d=\"M0 0h24v24H0V0z\" fill=\"none\"/>\n",
              "    <path d=\"M18.56 5.44l.94 2.06.94-2.06 2.06-.94-2.06-.94-.94-2.06-.94 2.06-2.06.94zm-11 1L8.5 8.5l.94-2.06 2.06-.94-2.06-.94L8.5 2.5l-.94 2.06-2.06.94zm10 10l.94 2.06.94-2.06 2.06-.94-2.06-.94-.94-2.06-.94 2.06-2.06.94z\"/><path d=\"M17.41 7.96l-1.37-1.37c-.4-.4-.92-.59-1.43-.59-.52 0-1.04.2-1.43.59L10.3 9.45l-7.72 7.72c-.78.78-.78 2.05 0 2.83L4 21.41c.39.39.9.59 1.41.59.51 0 1.02-.2 1.41-.59l7.78-7.78 2.81-2.81c.8-.78.8-2.07 0-2.86zM5.41 20L4 18.59l7.72-7.72 1.47 1.35L5.41 20z\"/>\n",
              "  </svg>\n",
              "      </button>\n",
              "      \n",
              "  <style>\n",
              "    .colab-df-container {\n",
              "      display:flex;\n",
              "      flex-wrap:wrap;\n",
              "      gap: 12px;\n",
              "    }\n",
              "\n",
              "    .colab-df-convert {\n",
              "      background-color: #E8F0FE;\n",
              "      border: none;\n",
              "      border-radius: 50%;\n",
              "      cursor: pointer;\n",
              "      display: none;\n",
              "      fill: #1967D2;\n",
              "      height: 32px;\n",
              "      padding: 0 0 0 0;\n",
              "      width: 32px;\n",
              "    }\n",
              "\n",
              "    .colab-df-convert:hover {\n",
              "      background-color: #E2EBFA;\n",
              "      box-shadow: 0px 1px 2px rgba(60, 64, 67, 0.3), 0px 1px 3px 1px rgba(60, 64, 67, 0.15);\n",
              "      fill: #174EA6;\n",
              "    }\n",
              "\n",
              "    [theme=dark] .colab-df-convert {\n",
              "      background-color: #3B4455;\n",
              "      fill: #D2E3FC;\n",
              "    }\n",
              "\n",
              "    [theme=dark] .colab-df-convert:hover {\n",
              "      background-color: #434B5C;\n",
              "      box-shadow: 0px 1px 3px 1px rgba(0, 0, 0, 0.15);\n",
              "      filter: drop-shadow(0px 1px 2px rgba(0, 0, 0, 0.3));\n",
              "      fill: #FFFFFF;\n",
              "    }\n",
              "  </style>\n",
              "\n",
              "      <script>\n",
              "        const buttonEl =\n",
              "          document.querySelector('#df-81dca476-3f83-4c44-9c22-a819628ea7a5 button.colab-df-convert');\n",
              "        buttonEl.style.display =\n",
              "          google.colab.kernel.accessAllowed ? 'block' : 'none';\n",
              "\n",
              "        async function convertToInteractive(key) {\n",
              "          const element = document.querySelector('#df-81dca476-3f83-4c44-9c22-a819628ea7a5');\n",
              "          const dataTable =\n",
              "            await google.colab.kernel.invokeFunction('convertToInteractive',\n",
              "                                                     [key], {});\n",
              "          if (!dataTable) return;\n",
              "\n",
              "          const docLinkHtml = 'Like what you see? Visit the ' +\n",
              "            '<a target=\"_blank\" href=https://colab.research.google.com/notebooks/data_table.ipynb>data table notebook</a>'\n",
              "            + ' to learn more about interactive tables.';\n",
              "          element.innerHTML = '';\n",
              "          dataTable['output_type'] = 'display_data';\n",
              "          await google.colab.output.renderOutput(dataTable, element);\n",
              "          const docLink = document.createElement('div');\n",
              "          docLink.innerHTML = docLinkHtml;\n",
              "          element.appendChild(docLink);\n",
              "        }\n",
              "      </script>\n",
              "    </div>\n",
              "  </div>\n",
              "  "
            ]
          },
          "metadata": {},
          "execution_count": 33
        }
      ]
    },
    {
      "cell_type": "code",
      "source": [
        "Y_test_hat = model.predict(X_test).ravel().astype(int)"
      ],
      "metadata": {
        "colab": {
          "base_uri": "https://localhost:8080/"
        },
        "id": "f9kChIZHVA4E",
        "outputId": "bbd27d89-00a8-4bd2-b7b3-008f5d1cc0db"
      },
      "execution_count": 34,
      "outputs": [
        {
          "output_type": "stream",
          "name": "stdout",
          "text": [
            "26952/26952 [==============================] - 51s 2ms/step\n"
          ]
        }
      ]
    },
    {
      "cell_type": "code",
      "source": [
        "hat_s = Y_test_hat[1000:1020]\n",
        "s = y_test[1000:1020]"
      ],
      "metadata": {
        "id": "W8NdgeEdVCzT"
      },
      "execution_count": 35,
      "outputs": []
    },
    {
      "cell_type": "code",
      "source": [
        "plt.rcParams[\"figure.figsize\"] = (10,6)\n",
        "plt.plot(np.arange(20), hat_s, '-',color = 'green', label='real')\n",
        "plt.plot(np.arange(20), s, '--', color = 'blue', label='predict')\n",
        "plt.legend()\n",
        "plt.figure()"
      ],
      "metadata": {
        "colab": {
          "base_uri": "https://localhost:8080/",
          "height": 553
        },
        "id": "ytTEvtdaVEdD",
        "outputId": "51fdb28b-b25d-45c2-afd8-6bc2e80bc639"
      },
      "execution_count": 36,
      "outputs": [
        {
          "output_type": "execute_result",
          "data": {
            "text/plain": [
              "<Figure size 1000x600 with 0 Axes>"
            ]
          },
          "metadata": {},
          "execution_count": 36
        },
        {
          "output_type": "display_data",
          "data": {
            "text/plain": [
              "<Figure size 1000x600 with 1 Axes>"
            ],
            "image/png": "[encoded data removed]"
          },
          "metadata": {}
        },
        {
          "output_type": "display_data",
          "data": {
            "text/plain": [
              "<Figure size 1000x600 with 0 Axes>"
            ]
          },
          "metadata": {}
        }
      ]
    },
    {
      "cell_type": "code",
      "source": [
        "y_pred = model.predict(X_test).flatten()\n",
        "p = np.polyfit(y_test, y_pred, 1)\n",
        "f = np.poly1d(p)\n",
        "\n",
        "plt.scatter(y_test, y_pred)\n",
        "plt.plot(y_test, f(y_test), color = \"r\", label=\"Ism\")\n",
        "plt.xlabel(\"True Value\")\n",
        "plt.ylabel(\"Predicted Value\")\n",
        "plt.show()"
      ],
      "metadata": {
        "colab": {
          "base_uri": "https://localhost:8080/",
          "height": 538
        },
        "id": "vpEJPLbTVH0L",
        "outputId": "79363ce9-9671-4aa2-bf80-066407c5ebe3"
      },
      "execution_count": 37,
      "outputs": [
        {
          "output_type": "stream",
          "name": "stdout",
          "text": [
            "26952/26952 [==============================] - 45s 2ms/step\n"
          ]
        },
        {
          "output_type": "display_data",
          "data": {
            "text/plain": [
              "<Figure size 1000x600 with 1 Axes>"
            ],
            "image/png": "[encoded data removed]"
          },
          "metadata": {}
        }
      ]
    },
    {
      "cell_type": "code",
      "source": [
        "model.save('/content/drive/MyDrive/Colab/houseprac2/model2')"
      ],
      "metadata": {
        "id": "Ktl4xaVTVw5m"
      },
      "execution_count": 38,
      "outputs": []
    },
    {
      "cell_type": "markdown",
      "source": [
        "Prefetch와 shuffle, lr포함\n"
      ],
      "metadata": {
        "id": "FwZswKf-VVoe"
      }
    },
    {
      "cell_type": "code",
      "source": [
        "import tensorflow as tf\n",
        "from tensorflow.keras.models import Sequential\n",
        "from tensorflow.keras.layers import Dense, Dropout\n",
        "from tensorflow.keras.optimizers import Adam"
      ],
      "metadata": {
        "id": "xKFLszA72iI2"
      },
      "execution_count": 3,
      "outputs": []
    },
    {
      "cell_type": "code",
      "source": [
        "# Sequential 모델 생성\n",
        "model = Sequential()\n",
        "\n",
        "# 입력 레이어와 첫번째 히든 레이어 추가\n",
        "model.add(Dense(64, activation='relu', input_shape=(16,)))\n",
        "model.add(Dropout(0.5))\n",
        "\n",
        "# 두번째 히든 레이어 추가\n",
        "model.add(Dense(64, activation='relu'))\n",
        "model.add(Dropout(0.5))\n",
        "\n",
        "model.add(Dense(1))\n",
        "# model.add(Dense(10, activation='softmax'))\n",
        "\n",
        "# 모델 컴파일\n",
        "model.compile(loss='mse', optimizer=Adam(learning_rate=0.01), metrics=['mae'])\n",
        "\n",
        "# 데이터셋 shuffle과 prefetch 설정\n",
        "batch_size = 128\n",
        "train_dataset = tf.data.Dataset.from_tensor_slices((X_train, y_train)).shuffle(10000).batch(batch_size).prefetch(1)"
      ],
      "metadata": {
        "id": "5m9_knMtVYYf"
      },
      "execution_count": 13,
      "outputs": []
    },
    {
      "cell_type": "code",
      "source": [
        "model.summary()"
      ],
      "metadata": {
        "colab": {
          "base_uri": "https://localhost:8080/"
        },
        "id": "vtwPfqBtVnyx",
        "outputId": "bf001b9b-facb-43b0-d17e-08816d3bef3c"
      },
      "execution_count": 14,
      "outputs": [
        {
          "output_type": "stream",
          "name": "stdout",
          "text": [
            "Model: \"sequential_2\"\n",
            "_________________________________________________________________\n",
            " Layer (type)                Output Shape              Param #   \n",
            "=================================================================\n",
            " dense_6 (Dense)             (None, 64)                1088      \n",
            "                                                                 \n",
            " dropout_4 (Dropout)         (None, 64)                0         \n",
            "                                                                 \n",
            " dense_7 (Dense)             (None, 64)                4160      \n",
            "                                                                 \n",
            " dropout_5 (Dropout)         (None, 64)                0         \n",
            "                                                                 \n",
            " dense_8 (Dense)             (None, 1)                 65        \n",
            "                                                                 \n",
            "=================================================================\n",
            "Total params: 5,313\n",
            "Trainable params: 5,313\n",
            "Non-trainable params: 0\n",
            "_________________________________________________________________\n"
          ]
        }
      ]
    },
    {
      "cell_type": "code",
      "source": [
        "history = model.fit(train_dataset, epochs=10) #시간상 10번만 돌림"
      ],
      "metadata": {
        "colab": {
          "base_uri": "https://localhost:8080/"
        },
        "id": "pYYviNcxdCvM",
        "outputId": "f5c76822-84ef-4374-9ddd-ec2845f709ad"
      },
      "execution_count": 15,
      "outputs": [
        {
          "output_type": "stream",
          "name": "stdout",
          "text": [
            "Epoch 1/10\n",
            "20214/20214 [==============================] - 70s 3ms/step - loss: 331460224.0000 - mae: 11519.1816\n",
            "Epoch 2/10\n",
            "20214/20214 [==============================] - 65s 3ms/step - loss: 310427872.0000 - mae: 11054.4854\n",
            "Epoch 3/10\n",
            "20214/20214 [==============================] - 65s 3ms/step - loss: 301355744.0000 - mae: 10766.2998\n",
            "Epoch 4/10\n",
            "20214/20214 [==============================] - 80s 4ms/step - loss: 299487136.0000 - mae: 10771.8701\n",
            "Epoch 5/10\n",
            "20214/20214 [==============================] - 86s 4ms/step - loss: 298916224.0000 - mae: 10768.4023\n",
            "Epoch 6/10\n",
            "20214/20214 [==============================] - 81s 4ms/step - loss: 297131328.0000 - mae: 10733.8311\n",
            "Epoch 7/10\n",
            "20214/20214 [==============================] - 79s 4ms/step - loss: 296313248.0000 - mae: 10702.9092\n",
            "Epoch 8/10\n",
            "20214/20214 [==============================] - 80s 4ms/step - loss: 295492384.0000 - mae: 10695.6533\n",
            "Epoch 9/10\n",
            "20214/20214 [==============================] - 78s 4ms/step - loss: 299517632.0000 - mae: 10768.6064\n",
            "Epoch 10/10\n",
            "20214/20214 [==============================] - 81s 4ms/step - loss: 299352736.0000 - mae: 10768.5996\n"
          ]
        }
      ]
    },
    {
      "cell_type": "code",
      "source": [
        "hist = pd.DataFrame(history.history)\n",
        "hist['epoch'] = history.epoch\n",
        "hist.tail()"
      ],
      "metadata": {
        "colab": {
          "base_uri": "https://localhost:8080/",
          "height": 206
        },
        "id": "r8phm6DRV2nI",
        "outputId": "fd43f50d-d58f-4206-a40e-274b785200fd"
      },
      "execution_count": 16,
      "outputs": [
        {
          "output_type": "execute_result",
          "data": {
            "text/plain": [
              "          loss           mae  epoch\n",
              "5  297131328.0  10733.831055      5\n",
              "6  296313248.0  10702.909180      6\n",
              "7  295492384.0  10695.653320      7\n",
              "8  299517632.0  10768.606445      8\n",
              "9  299352736.0  10768.599609      9"
            ],
            "text/html": [
              "\n",
              "  <div id=\"df-a1bda754-355c-4abb-8213-86f25be3676b\">\n",
              "    <div class=\"colab-df-container\">\n",
              "      <div>\n",
              "<style scoped>\n",
              "    .dataframe tbody tr th:only-of-type {\n",
              "        vertical-align: middle;\n",
              "    }\n",
              "\n",
              "    .dataframe tbody tr th {\n",
              "        vertical-align: top;\n",
              "    }\n",
              "\n",
              "    .dataframe thead th {\n",
              "        text-align: right;\n",
              "    }\n",
              "</style>\n",
              "<table border=\"1\" class=\"dataframe\">\n",
              "  <thead>\n",
              "    <tr style=\"text-align: right;\">\n",
              "      <th></th>\n",
              "      <th>loss</th>\n",
              "      <th>mae</th>\n",
              "      <th>epoch</th>\n",
              "    </tr>\n",
              "  </thead>\n",
              "  <tbody>\n",
              "    <tr>\n",
              "      <th>5</th>\n",
              "      <td>297131328.0</td>\n",
              "      <td>10733.831055</td>\n",
              "      <td>5</td>\n",
              "    </tr>\n",
              "    <tr>\n",
              "      <th>6</th>\n",
              "      <td>296313248.0</td>\n",
              "      <td>10702.909180</td>\n",
              "      <td>6</td>\n",
              "    </tr>\n",
              "    <tr>\n",
              "      <th>7</th>\n",
              "      <td>295492384.0</td>\n",
              "      <td>10695.653320</td>\n",
              "      <td>7</td>\n",
              "    </tr>\n",
              "    <tr>\n",
              "      <th>8</th>\n",
              "      <td>299517632.0</td>\n",
              "      <td>10768.606445</td>\n",
              "      <td>8</td>\n",
              "    </tr>\n",
              "    <tr>\n",
              "      <th>9</th>\n",
              "      <td>299352736.0</td>\n",
              "      <td>10768.599609</td>\n",
              "      <td>9</td>\n",
              "    </tr>\n",
              "  </tbody>\n",
              "</table>\n",
              "</div>\n",
              "      <button class=\"colab-df-convert\" onclick=\"convertToInteractive('df-a1bda754-355c-4abb-8213-86f25be3676b')\"\n",
              "              title=\"Convert this dataframe to an interactive table.\"\n",
              "              style=\"display:none;\">\n",
              "        \n",
              "  <svg xmlns=\"http://www.w3.org/2000/svg\" height=\"24px\"viewBox=\"0 0 24 24\"\n",
              "       width=\"24px\">\n",
              "    <path d=\"M0 0h24v24H0V0z\" fill=\"none\"/>\n",
              "    <path d=\"M18.56 5.44l.94 2.06.94-2.06 2.06-.94-2.06-.94-.94-2.06-.94 2.06-2.06.94zm-11 1L8.5 8.5l.94-2.06 2.06-.94-2.06-.94L8.5 2.5l-.94 2.06-2.06.94zm10 10l.94 2.06.94-2.06 2.06-.94-2.06-.94-.94-2.06-.94 2.06-2.06.94z\"/><path d=\"M17.41 7.96l-1.37-1.37c-.4-.4-.92-.59-1.43-.59-.52 0-1.04.2-1.43.59L10.3 9.45l-7.72 7.72c-.78.78-.78 2.05 0 2.83L4 21.41c.39.39.9.59 1.41.59.51 0 1.02-.2 1.41-.59l7.78-7.78 2.81-2.81c.8-.78.8-2.07 0-2.86zM5.41 20L4 18.59l7.72-7.72 1.47 1.35L5.41 20z\"/>\n",
              "  </svg>\n",
              "      </button>\n",
              "      \n",
              "  <style>\n",
              "    .colab-df-container {\n",
              "      display:flex;\n",
              "      flex-wrap:wrap;\n",
              "      gap: 12px;\n",
              "    }\n",
              "\n",
              "    .colab-df-convert {\n",
              "      background-color: #E8F0FE;\n",
              "      border: none;\n",
              "      border-radius: 50%;\n",
              "      cursor: pointer;\n",
              "      display: none;\n",
              "      fill: #1967D2;\n",
              "      height: 32px;\n",
              "      padding: 0 0 0 0;\n",
              "      width: 32px;\n",
              "    }\n",
              "\n",
              "    .colab-df-convert:hover {\n",
              "      background-color: #E2EBFA;\n",
              "      box-shadow: 0px 1px 2px rgba(60, 64, 67, 0.3), 0px 1px 3px 1px rgba(60, 64, 67, 0.15);\n",
              "      fill: #174EA6;\n",
              "    }\n",
              "\n",
              "    [theme=dark] .colab-df-convert {\n",
              "      background-color: #3B4455;\n",
              "      fill: #D2E3FC;\n",
              "    }\n",
              "\n",
              "    [theme=dark] .colab-df-convert:hover {\n",
              "      background-color: #434B5C;\n",
              "      box-shadow: 0px 1px 3px 1px rgba(0, 0, 0, 0.15);\n",
              "      filter: drop-shadow(0px 1px 2px rgba(0, 0, 0, 0.3));\n",
              "      fill: #FFFFFF;\n",
              "    }\n",
              "  </style>\n",
              "\n",
              "      <script>\n",
              "        const buttonEl =\n",
              "          document.querySelector('#df-a1bda754-355c-4abb-8213-86f25be3676b button.colab-df-convert');\n",
              "        buttonEl.style.display =\n",
              "          google.colab.kernel.accessAllowed ? 'block' : 'none';\n",
              "\n",
              "        async function convertToInteractive(key) {\n",
              "          const element = document.querySelector('#df-a1bda754-355c-4abb-8213-86f25be3676b');\n",
              "          const dataTable =\n",
              "            await google.colab.kernel.invokeFunction('convertToInteractive',\n",
              "                                                     [key], {});\n",
              "          if (!dataTable) return;\n",
              "\n",
              "          const docLinkHtml = 'Like what you see? Visit the ' +\n",
              "            '<a target=\"_blank\" href=https://colab.research.google.com/notebooks/data_table.ipynb>data table notebook</a>'\n",
              "            + ' to learn more about interactive tables.';\n",
              "          element.innerHTML = '';\n",
              "          dataTable['output_type'] = 'display_data';\n",
              "          await google.colab.output.renderOutput(dataTable, element);\n",
              "          const docLink = document.createElement('div');\n",
              "          docLink.innerHTML = docLinkHtml;\n",
              "          element.appendChild(docLink);\n",
              "        }\n",
              "      </script>\n",
              "    </div>\n",
              "  </div>\n",
              "  "
            ]
          },
          "metadata": {},
          "execution_count": 16
        }
      ]
    },
    {
      "cell_type": "code",
      "source": [
        "Y_test_hat = model.predict(X_test).ravel().astype(int)"
      ],
      "metadata": {
        "colab": {
          "base_uri": "https://localhost:8080/"
        },
        "id": "wvAjYnAOV3z0",
        "outputId": "1c4f2322-64be-4839-b097-3f5e9d21f0a6"
      },
      "execution_count": 17,
      "outputs": [
        {
          "output_type": "stream",
          "name": "stdout",
          "text": [
            "26952/26952 [==============================] - 45s 2ms/step\n"
          ]
        }
      ]
    },
    {
      "cell_type": "code",
      "source": [
        "hat_s = Y_test_hat[1000:1020]\n",
        "s = y_test[1000:1020]"
      ],
      "metadata": {
        "id": "OZtT2RK9V4RH"
      },
      "execution_count": 18,
      "outputs": []
    },
    {
      "cell_type": "code",
      "source": [
        "plt.rcParams[\"figure.figsize\"] = (10,6)\n",
        "plt.plot(np.arange(20), hat_s, '-',color = 'green', label='real')\n",
        "plt.plot(np.arange(20), s, '--', color = 'blue', label='predict')\n",
        "plt.legend()\n",
        "plt.figure()"
      ],
      "metadata": {
        "colab": {
          "base_uri": "https://localhost:8080/",
          "height": 552
        },
        "id": "xbxMKJ4RV6PJ",
        "outputId": "22d163a4-7bda-4276-b45f-859a239a5bc9"
      },
      "execution_count": 19,
      "outputs": [
        {
          "output_type": "execute_result",
          "data": {
            "text/plain": [
              "<Figure size 1000x600 with 0 Axes>"
            ]
          },
          "metadata": {},
          "execution_count": 19
        },
        {
          "output_type": "display_data",
          "data": {
            "text/plain": [
              "<Figure size 1000x600 with 1 Axes>"
            ],
            "image/png": "[encoded data removed]"
          },
          "metadata": {}
        },
        {
          "output_type": "display_data",
          "data": {
            "text/plain": [
              "<Figure size 1000x600 with 0 Axes>"
            ]
          },
          "metadata": {}
        }
      ]
    },
    {
      "cell_type": "code",
      "source": [
        "y_pred = model.predict(X_test).flatten()\n",
        "p = np.polyfit(y_test, y_pred, 1)\n",
        "f = np.poly1d(p)\n",
        "\n",
        "plt.scatter(y_test, y_pred)\n",
        "plt.plot(y_test, f(y_test), color = \"r\", label=\"Ism\")\n",
        "plt.xlabel(\"True Value\")\n",
        "plt.ylabel(\"Predicted Value\")\n",
        "plt.show()"
      ],
      "metadata": {
        "colab": {
          "base_uri": "https://localhost:8080/",
          "height": 536
        },
        "id": "OhEEYfu_V7ep",
        "outputId": "8fa876f4-b24d-463d-a77d-5a0640823001"
      },
      "execution_count": 20,
      "outputs": [
        {
          "output_type": "stream",
          "name": "stdout",
          "text": [
            "26952/26952 [==============================] - 48s 2ms/step\n"
          ]
        },
        {
          "output_type": "display_data",
          "data": {
            "text/plain": [
              "<Figure size 1000x600 with 1 Axes>"
            ],
            "image/png": "[encoded data removed]"
          },
          "metadata": {}
        }
      ]
    },
    {
      "cell_type": "code",
      "source": [
        "model.save('/content/drive/MyDrive/Colab/houseprac2/model3')"
      ],
      "metadata": {
        "colab": {
          "base_uri": "https://localhost:8080/"
        },
        "id": "CUhHZHlxV7vd",
        "outputId": "429fa345-2875-4c9d-c6f9-5ec8edb9c61a"
      },
      "execution_count": 22,
      "outputs": [
        {
          "output_type": "stream",
          "name": "stderr",
          "text": [
            "WARNING:absl:Found untraced functions such as _update_step_xla while saving (showing 1 of 1). These functions will not be directly callable after loading.\n"
          ]
        }
      ]
    }
  ]
}