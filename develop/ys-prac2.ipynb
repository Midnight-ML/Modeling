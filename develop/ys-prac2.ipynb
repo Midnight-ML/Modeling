{
  "nbformat": 4,
  "nbformat_minor": 0,
  "metadata": {
    "colab": {
      "provenance": []
    },
    "kernelspec": {
      "name": "python3",
      "display_name": "Python 3"
    },
    "language_info": {
      "name": "python"
    },
    "accelerator": "GPU",
    "gpuClass": "standard"
  },
  "cells": [
    {
      "cell_type": "code",
      "source": [
        "#참고\n",
        "# https://www.tensorflow.org/tutorials/keras/regression?hl=ko\n",
        "# https://www.kaggle.com/code/ktakuma/boston-house-prices-dnn-regression\n",
        "# https://www.kaggle.com/code/systemvaz/house-prices-with-tensorflow-dnn"
      ],
      "metadata": {
        "id": "1Jnu6jXK-8Cd"
      },
      "execution_count": 79,
      "outputs": []
    },
    {
      "cell_type": "code",
      "execution_count": 1,
      "metadata": {
        "id": "g5GnTU-c86Lz"
      },
      "outputs": [],
      "source": [
        "import numpy as np\n",
        "import pandas as pd \n",
        "\n",
        "import numpy as np\n",
        "import pandas as pd\n",
        "import matplotlib.pyplot as plt\n",
        "import seaborn as sns\n",
        "%matplotlib inline\n",
        "\n",
        "from sklearn.model_selection import train_test_split\n",
        "\n",
        "from tensorflow.keras.layers import Activation, Dense, Dropout\n",
        "from tensorflow.keras.models import Sequential\n",
        "from tensorflow.keras.callbacks import EarlyStopping\n",
        "from tensorflow.keras.optimizers import Adam\n",
        "from keras.layers import BatchNormalization\n",
        "\n",
        "import tensorflow as tf\n",
        "from tensorflow import keras\n",
        "from tensorflow.keras import layers\n"
      ]
    },
    {
      "cell_type": "code",
      "source": [
        "# seaborn 한글\n",
        "!sudo apt-get install -y fonts-nanum\n",
        "!sudo fc-cache -fv\n",
        "!rm ~/.cache/matplotlib -rf"
      ],
      "metadata": {
        "colab": {
          "base_uri": "https://localhost:8080/"
        },
        "id": "VYm8iiYt-DTi",
        "outputId": "b1aa9039-5cdc-4ee2-a243-858c356986b1"
      },
      "execution_count": 83,
      "outputs": [
        {
          "output_type": "stream",
          "name": "stdout",
          "text": [
            "Reading package lists... Done\n",
            "Building dependency tree       \n",
            "Reading state information... Done\n",
            "fonts-nanum is already the newest version (20180306-3).\n",
            "0 upgraded, 0 newly installed, 0 to remove and 24 not upgraded.\n",
            "/usr/share/fonts: caching, new cache contents: 0 fonts, 1 dirs\n",
            "/usr/share/fonts/truetype: caching, new cache contents: 0 fonts, 3 dirs\n",
            "/usr/share/fonts/truetype/humor-sans: caching, new cache contents: 1 fonts, 0 dirs\n",
            "/usr/share/fonts/truetype/liberation: caching, new cache contents: 16 fonts, 0 dirs\n",
            "/usr/share/fonts/truetype/nanum: caching, new cache contents: 10 fonts, 0 dirs\n",
            "/usr/local/share/fonts: caching, new cache contents: 0 fonts, 0 dirs\n",
            "/root/.local/share/fonts: skipping, no such directory\n",
            "/root/.fonts: skipping, no such directory\n",
            "/usr/share/fonts/truetype: skipping, looped directory detected\n",
            "/usr/share/fonts/truetype/humor-sans: skipping, looped directory detected\n",
            "/usr/share/fonts/truetype/liberation: skipping, looped directory detected\n",
            "/usr/share/fonts/truetype/nanum: skipping, looped directory detected\n",
            "/var/cache/fontconfig: cleaning cache directory\n",
            "/root/.cache/fontconfig: not cleaning non-existent cache directory\n",
            "/root/.fontconfig: not cleaning non-existent cache directory\n",
            "fc-cache: succeeded\n"
          ]
        }
      ]
    },
    {
      "cell_type": "code",
      "source": [
        "df = pd.read_csv('/content/drive/MyDrive/Colab/houseprac1/sl_o.csv')\n",
        "print(df.shape)\n",
        "df.head()"
      ],
      "metadata": {
        "colab": {
          "base_uri": "https://localhost:8080/",
          "height": 286
        },
        "id": "tYcXtcFk9ICi",
        "outputId": "7eee2ac8-a12a-4868-ce01-2f62778276a9"
      },
      "execution_count": 2,
      "outputs": [
        {
          "output_type": "stream",
          "name": "stdout",
          "text": [
            "(3591649, 12)\n"
          ]
        },
        {
          "output_type": "execute_result",
          "data": {
            "text/plain": [
              "   시군구_Encoder  동_Encoder  전월세구분  전용면적(㎡)  보증금(만원)  월세(만원)    층  구분  한국은행기준금리  \\\n",
              "0            0          9      0    77.75    33000       0  2.0   0       2.5   \n",
              "1            0          9      0    79.97    34000       0  2.0   0       2.5   \n",
              "2            0          9      0    79.97    28000       0  1.0   0       2.5   \n",
              "3            0          9      0    79.97    35000       0  2.0   0       2.5   \n",
              "4            0          9      1   104.43    40000      40  8.0   0       2.5   \n",
              "\n",
              "        종가      년도  건물나이  \n",
              "0  1941.15  2014.0  26.0  \n",
              "1  1941.15  2014.0  27.0  \n",
              "2  1941.15  2014.0  27.0  \n",
              "3  1941.15  2014.0  27.0  \n",
              "4  1941.15  2014.0  30.0  "
            ],
            "text/html": [
              "\n",
              "  <div id=\"df-5d291437-3687-4148-93b9-ce5c41b3aeb4\">\n",
              "    <div class=\"colab-df-container\">\n",
              "      <div>\n",
              "<style scoped>\n",
              "    .dataframe tbody tr th:only-of-type {\n",
              "        vertical-align: middle;\n",
              "    }\n",
              "\n",
              "    .dataframe tbody tr th {\n",
              "        vertical-align: top;\n",
              "    }\n",
              "\n",
              "    .dataframe thead th {\n",
              "        text-align: right;\n",
              "    }\n",
              "</style>\n",
              "<table border=\"1\" class=\"dataframe\">\n",
              "  <thead>\n",
              "    <tr style=\"text-align: right;\">\n",
              "      <th></th>\n",
              "      <th>시군구_Encoder</th>\n",
              "      <th>동_Encoder</th>\n",
              "      <th>전월세구분</th>\n",
              "      <th>전용면적(㎡)</th>\n",
              "      <th>보증금(만원)</th>\n",
              "      <th>월세(만원)</th>\n",
              "      <th>층</th>\n",
              "      <th>구분</th>\n",
              "      <th>한국은행기준금리</th>\n",
              "      <th>종가</th>\n",
              "      <th>년도</th>\n",
              "      <th>건물나이</th>\n",
              "    </tr>\n",
              "  </thead>\n",
              "  <tbody>\n",
              "    <tr>\n",
              "      <th>0</th>\n",
              "      <td>0</td>\n",
              "      <td>9</td>\n",
              "      <td>0</td>\n",
              "      <td>77.75</td>\n",
              "      <td>33000</td>\n",
              "      <td>0</td>\n",
              "      <td>2.0</td>\n",
              "      <td>0</td>\n",
              "      <td>2.5</td>\n",
              "      <td>1941.15</td>\n",
              "      <td>2014.0</td>\n",
              "      <td>26.0</td>\n",
              "    </tr>\n",
              "    <tr>\n",
              "      <th>1</th>\n",
              "      <td>0</td>\n",
              "      <td>9</td>\n",
              "      <td>0</td>\n",
              "      <td>79.97</td>\n",
              "      <td>34000</td>\n",
              "      <td>0</td>\n",
              "      <td>2.0</td>\n",
              "      <td>0</td>\n",
              "      <td>2.5</td>\n",
              "      <td>1941.15</td>\n",
              "      <td>2014.0</td>\n",
              "      <td>27.0</td>\n",
              "    </tr>\n",
              "    <tr>\n",
              "      <th>2</th>\n",
              "      <td>0</td>\n",
              "      <td>9</td>\n",
              "      <td>0</td>\n",
              "      <td>79.97</td>\n",
              "      <td>28000</td>\n",
              "      <td>0</td>\n",
              "      <td>1.0</td>\n",
              "      <td>0</td>\n",
              "      <td>2.5</td>\n",
              "      <td>1941.15</td>\n",
              "      <td>2014.0</td>\n",
              "      <td>27.0</td>\n",
              "    </tr>\n",
              "    <tr>\n",
              "      <th>3</th>\n",
              "      <td>0</td>\n",
              "      <td>9</td>\n",
              "      <td>0</td>\n",
              "      <td>79.97</td>\n",
              "      <td>35000</td>\n",
              "      <td>0</td>\n",
              "      <td>2.0</td>\n",
              "      <td>0</td>\n",
              "      <td>2.5</td>\n",
              "      <td>1941.15</td>\n",
              "      <td>2014.0</td>\n",
              "      <td>27.0</td>\n",
              "    </tr>\n",
              "    <tr>\n",
              "      <th>4</th>\n",
              "      <td>0</td>\n",
              "      <td>9</td>\n",
              "      <td>1</td>\n",
              "      <td>104.43</td>\n",
              "      <td>40000</td>\n",
              "      <td>40</td>\n",
              "      <td>8.0</td>\n",
              "      <td>0</td>\n",
              "      <td>2.5</td>\n",
              "      <td>1941.15</td>\n",
              "      <td>2014.0</td>\n",
              "      <td>30.0</td>\n",
              "    </tr>\n",
              "  </tbody>\n",
              "</table>\n",
              "</div>\n",
              "      <button class=\"colab-df-convert\" onclick=\"convertToInteractive('df-5d291437-3687-4148-93b9-ce5c41b3aeb4')\"\n",
              "              title=\"Convert this dataframe to an interactive table.\"\n",
              "              style=\"display:none;\">\n",
              "        \n",
              "  <svg xmlns=\"http://www.w3.org/2000/svg\" height=\"24px\"viewBox=\"0 0 24 24\"\n",
              "       width=\"24px\">\n",
              "    <path d=\"M0 0h24v24H0V0z\" fill=\"none\"/>\n",
              "    <path d=\"M18.56 5.44l.94 2.06.94-2.06 2.06-.94-2.06-.94-.94-2.06-.94 2.06-2.06.94zm-11 1L8.5 8.5l.94-2.06 2.06-.94-2.06-.94L8.5 2.5l-.94 2.06-2.06.94zm10 10l.94 2.06.94-2.06 2.06-.94-2.06-.94-.94-2.06-.94 2.06-2.06.94z\"/><path d=\"M17.41 7.96l-1.37-1.37c-.4-.4-.92-.59-1.43-.59-.52 0-1.04.2-1.43.59L10.3 9.45l-7.72 7.72c-.78.78-.78 2.05 0 2.83L4 21.41c.39.39.9.59 1.41.59.51 0 1.02-.2 1.41-.59l7.78-7.78 2.81-2.81c.8-.78.8-2.07 0-2.86zM5.41 20L4 18.59l7.72-7.72 1.47 1.35L5.41 20z\"/>\n",
              "  </svg>\n",
              "      </button>\n",
              "      \n",
              "  <style>\n",
              "    .colab-df-container {\n",
              "      display:flex;\n",
              "      flex-wrap:wrap;\n",
              "      gap: 12px;\n",
              "    }\n",
              "\n",
              "    .colab-df-convert {\n",
              "      background-color: #E8F0FE;\n",
              "      border: none;\n",
              "      border-radius: 50%;\n",
              "      cursor: pointer;\n",
              "      display: none;\n",
              "      fill: #1967D2;\n",
              "      height: 32px;\n",
              "      padding: 0 0 0 0;\n",
              "      width: 32px;\n",
              "    }\n",
              "\n",
              "    .colab-df-convert:hover {\n",
              "      background-color: #E2EBFA;\n",
              "      box-shadow: 0px 1px 2px rgba(60, 64, 67, 0.3), 0px 1px 3px 1px rgba(60, 64, 67, 0.15);\n",
              "      fill: #174EA6;\n",
              "    }\n",
              "\n",
              "    [theme=dark] .colab-df-convert {\n",
              "      background-color: #3B4455;\n",
              "      fill: #D2E3FC;\n",
              "    }\n",
              "\n",
              "    [theme=dark] .colab-df-convert:hover {\n",
              "      background-color: #434B5C;\n",
              "      box-shadow: 0px 1px 3px 1px rgba(0, 0, 0, 0.15);\n",
              "      filter: drop-shadow(0px 1px 2px rgba(0, 0, 0, 0.3));\n",
              "      fill: #FFFFFF;\n",
              "    }\n",
              "  </style>\n",
              "\n",
              "      <script>\n",
              "        const buttonEl =\n",
              "          document.querySelector('#df-5d291437-3687-4148-93b9-ce5c41b3aeb4 button.colab-df-convert');\n",
              "        buttonEl.style.display =\n",
              "          google.colab.kernel.accessAllowed ? 'block' : 'none';\n",
              "\n",
              "        async function convertToInteractive(key) {\n",
              "          const element = document.querySelector('#df-5d291437-3687-4148-93b9-ce5c41b3aeb4');\n",
              "          const dataTable =\n",
              "            await google.colab.kernel.invokeFunction('convertToInteractive',\n",
              "                                                     [key], {});\n",
              "          if (!dataTable) return;\n",
              "\n",
              "          const docLinkHtml = 'Like what you see? Visit the ' +\n",
              "            '<a target=\"_blank\" href=https://colab.research.google.com/notebooks/data_table.ipynb>data table notebook</a>'\n",
              "            + ' to learn more about interactive tables.';\n",
              "          element.innerHTML = '';\n",
              "          dataTable['output_type'] = 'display_data';\n",
              "          await google.colab.output.renderOutput(dataTable, element);\n",
              "          const docLink = document.createElement('div');\n",
              "          docLink.innerHTML = docLinkHtml;\n",
              "          element.appendChild(docLink);\n",
              "        }\n",
              "      </script>\n",
              "    </div>\n",
              "  </div>\n",
              "  "
            ]
          },
          "metadata": {},
          "execution_count": 2
        }
      ]
    },
    {
      "cell_type": "code",
      "source": [
        "df['환산_보증금_월세'] = df.apply(lambda x: x['보증금(만원)'] + x['월세(만원)']*12*20, axis='columns')\n",
        "df = df.drop(['보증금(만원)','월세(만원)'], axis=1)\n",
        "df.head()"
      ],
      "metadata": {
        "colab": {
          "base_uri": "https://localhost:8080/",
          "height": 268
        },
        "id": "tEYoXVMZ_Z-T",
        "outputId": "b338b5bf-25e6-407b-f5c9-009063d7e4c4"
      },
      "execution_count": 3,
      "outputs": [
        {
          "output_type": "execute_result",
          "data": {
            "text/plain": [
              "   시군구_Encoder  동_Encoder  전월세구분  전용면적(㎡)    층  구분  한국은행기준금리       종가      년도  \\\n",
              "0            0          9      0    77.75  2.0   0       2.5  1941.15  2014.0   \n",
              "1            0          9      0    79.97  2.0   0       2.5  1941.15  2014.0   \n",
              "2            0          9      0    79.97  1.0   0       2.5  1941.15  2014.0   \n",
              "3            0          9      0    79.97  2.0   0       2.5  1941.15  2014.0   \n",
              "4            0          9      1   104.43  8.0   0       2.5  1941.15  2014.0   \n",
              "\n",
              "   건물나이  환산_보증금_월세  \n",
              "0  26.0    33000.0  \n",
              "1  27.0    34000.0  \n",
              "2  27.0    28000.0  \n",
              "3  27.0    35000.0  \n",
              "4  30.0    49600.0  "
            ],
            "text/html": [
              "\n",
              "  <div id=\"df-c528bc1a-2758-45f1-8a26-82d9806252b0\">\n",
              "    <div class=\"colab-df-container\">\n",
              "      <div>\n",
              "<style scoped>\n",
              "    .dataframe tbody tr th:only-of-type {\n",
              "        vertical-align: middle;\n",
              "    }\n",
              "\n",
              "    .dataframe tbody tr th {\n",
              "        vertical-align: top;\n",
              "    }\n",
              "\n",
              "    .dataframe thead th {\n",
              "        text-align: right;\n",
              "    }\n",
              "</style>\n",
              "<table border=\"1\" class=\"dataframe\">\n",
              "  <thead>\n",
              "    <tr style=\"text-align: right;\">\n",
              "      <th></th>\n",
              "      <th>시군구_Encoder</th>\n",
              "      <th>동_Encoder</th>\n",
              "      <th>전월세구분</th>\n",
              "      <th>전용면적(㎡)</th>\n",
              "      <th>층</th>\n",
              "      <th>구분</th>\n",
              "      <th>한국은행기준금리</th>\n",
              "      <th>종가</th>\n",
              "      <th>년도</th>\n",
              "      <th>건물나이</th>\n",
              "      <th>환산_보증금_월세</th>\n",
              "    </tr>\n",
              "  </thead>\n",
              "  <tbody>\n",
              "    <tr>\n",
              "      <th>0</th>\n",
              "      <td>0</td>\n",
              "      <td>9</td>\n",
              "      <td>0</td>\n",
              "      <td>77.75</td>\n",
              "      <td>2.0</td>\n",
              "      <td>0</td>\n",
              "      <td>2.5</td>\n",
              "      <td>1941.15</td>\n",
              "      <td>2014.0</td>\n",
              "      <td>26.0</td>\n",
              "      <td>33000.0</td>\n",
              "    </tr>\n",
              "    <tr>\n",
              "      <th>1</th>\n",
              "      <td>0</td>\n",
              "      <td>9</td>\n",
              "      <td>0</td>\n",
              "      <td>79.97</td>\n",
              "      <td>2.0</td>\n",
              "      <td>0</td>\n",
              "      <td>2.5</td>\n",
              "      <td>1941.15</td>\n",
              "      <td>2014.0</td>\n",
              "      <td>27.0</td>\n",
              "      <td>34000.0</td>\n",
              "    </tr>\n",
              "    <tr>\n",
              "      <th>2</th>\n",
              "      <td>0</td>\n",
              "      <td>9</td>\n",
              "      <td>0</td>\n",
              "      <td>79.97</td>\n",
              "      <td>1.0</td>\n",
              "      <td>0</td>\n",
              "      <td>2.5</td>\n",
              "      <td>1941.15</td>\n",
              "      <td>2014.0</td>\n",
              "      <td>27.0</td>\n",
              "      <td>28000.0</td>\n",
              "    </tr>\n",
              "    <tr>\n",
              "      <th>3</th>\n",
              "      <td>0</td>\n",
              "      <td>9</td>\n",
              "      <td>0</td>\n",
              "      <td>79.97</td>\n",
              "      <td>2.0</td>\n",
              "      <td>0</td>\n",
              "      <td>2.5</td>\n",
              "      <td>1941.15</td>\n",
              "      <td>2014.0</td>\n",
              "      <td>27.0</td>\n",
              "      <td>35000.0</td>\n",
              "    </tr>\n",
              "    <tr>\n",
              "      <th>4</th>\n",
              "      <td>0</td>\n",
              "      <td>9</td>\n",
              "      <td>1</td>\n",
              "      <td>104.43</td>\n",
              "      <td>8.0</td>\n",
              "      <td>0</td>\n",
              "      <td>2.5</td>\n",
              "      <td>1941.15</td>\n",
              "      <td>2014.0</td>\n",
              "      <td>30.0</td>\n",
              "      <td>49600.0</td>\n",
              "    </tr>\n",
              "  </tbody>\n",
              "</table>\n",
              "</div>\n",
              "      <button class=\"colab-df-convert\" onclick=\"convertToInteractive('df-c528bc1a-2758-45f1-8a26-82d9806252b0')\"\n",
              "              title=\"Convert this dataframe to an interactive table.\"\n",
              "              style=\"display:none;\">\n",
              "        \n",
              "  <svg xmlns=\"http://www.w3.org/2000/svg\" height=\"24px\"viewBox=\"0 0 24 24\"\n",
              "       width=\"24px\">\n",
              "    <path d=\"M0 0h24v24H0V0z\" fill=\"none\"/>\n",
              "    <path d=\"M18.56 5.44l.94 2.06.94-2.06 2.06-.94-2.06-.94-.94-2.06-.94 2.06-2.06.94zm-11 1L8.5 8.5l.94-2.06 2.06-.94-2.06-.94L8.5 2.5l-.94 2.06-2.06.94zm10 10l.94 2.06.94-2.06 2.06-.94-2.06-.94-.94-2.06-.94 2.06-2.06.94z\"/><path d=\"M17.41 7.96l-1.37-1.37c-.4-.4-.92-.59-1.43-.59-.52 0-1.04.2-1.43.59L10.3 9.45l-7.72 7.72c-.78.78-.78 2.05 0 2.83L4 21.41c.39.39.9.59 1.41.59.51 0 1.02-.2 1.41-.59l7.78-7.78 2.81-2.81c.8-.78.8-2.07 0-2.86zM5.41 20L4 18.59l7.72-7.72 1.47 1.35L5.41 20z\"/>\n",
              "  </svg>\n",
              "      </button>\n",
              "      \n",
              "  <style>\n",
              "    .colab-df-container {\n",
              "      display:flex;\n",
              "      flex-wrap:wrap;\n",
              "      gap: 12px;\n",
              "    }\n",
              "\n",
              "    .colab-df-convert {\n",
              "      background-color: #E8F0FE;\n",
              "      border: none;\n",
              "      border-radius: 50%;\n",
              "      cursor: pointer;\n",
              "      display: none;\n",
              "      fill: #1967D2;\n",
              "      height: 32px;\n",
              "      padding: 0 0 0 0;\n",
              "      width: 32px;\n",
              "    }\n",
              "\n",
              "    .colab-df-convert:hover {\n",
              "      background-color: #E2EBFA;\n",
              "      box-shadow: 0px 1px 2px rgba(60, 64, 67, 0.3), 0px 1px 3px 1px rgba(60, 64, 67, 0.15);\n",
              "      fill: #174EA6;\n",
              "    }\n",
              "\n",
              "    [theme=dark] .colab-df-convert {\n",
              "      background-color: #3B4455;\n",
              "      fill: #D2E3FC;\n",
              "    }\n",
              "\n",
              "    [theme=dark] .colab-df-convert:hover {\n",
              "      background-color: #434B5C;\n",
              "      box-shadow: 0px 1px 3px 1px rgba(0, 0, 0, 0.15);\n",
              "      filter: drop-shadow(0px 1px 2px rgba(0, 0, 0, 0.3));\n",
              "      fill: #FFFFFF;\n",
              "    }\n",
              "  </style>\n",
              "\n",
              "      <script>\n",
              "        const buttonEl =\n",
              "          document.querySelector('#df-c528bc1a-2758-45f1-8a26-82d9806252b0 button.colab-df-convert');\n",
              "        buttonEl.style.display =\n",
              "          google.colab.kernel.accessAllowed ? 'block' : 'none';\n",
              "\n",
              "        async function convertToInteractive(key) {\n",
              "          const element = document.querySelector('#df-c528bc1a-2758-45f1-8a26-82d9806252b0');\n",
              "          const dataTable =\n",
              "            await google.colab.kernel.invokeFunction('convertToInteractive',\n",
              "                                                     [key], {});\n",
              "          if (!dataTable) return;\n",
              "\n",
              "          const docLinkHtml = 'Like what you see? Visit the ' +\n",
              "            '<a target=\"_blank\" href=https://colab.research.google.com/notebooks/data_table.ipynb>data table notebook</a>'\n",
              "            + ' to learn more about interactive tables.';\n",
              "          element.innerHTML = '';\n",
              "          dataTable['output_type'] = 'display_data';\n",
              "          await google.colab.output.renderOutput(dataTable, element);\n",
              "          const docLink = document.createElement('div');\n",
              "          docLink.innerHTML = docLinkHtml;\n",
              "          element.appendChild(docLink);\n",
              "        }\n",
              "      </script>\n",
              "    </div>\n",
              "  </div>\n",
              "  "
            ]
          },
          "metadata": {},
          "execution_count": 3
        }
      ]
    },
    {
      "cell_type": "code",
      "source": [
        "import warnings\n",
        "warnings.filterwarnings('ignore')\n",
        "\n",
        "# Show correlation matrix\n",
        "corr = df.corr()\n",
        "\n",
        "# Show headmap\n",
        "plt.figure(figsize=(8,6))\n",
        "plt.rc('font', family='NanumBarunGothic')  #한글깨짐방지\n",
        "sns.heatmap(corr,cmap='RdBu_r',linewidth=1)"
      ],
      "metadata": {
        "colab": {
          "base_uri": "https://localhost:8080/",
          "height": 630
        },
        "id": "wMGHRcnr9MYX",
        "outputId": "03264311-8351-4c09-f8fc-62f1646caf7e"
      },
      "execution_count": 84,
      "outputs": [
        {
          "output_type": "execute_result",
          "data": {
            "text/plain": [
              "<Axes: >"
            ]
          },
          "metadata": {},
          "execution_count": 84
        },
        {
          "output_type": "display_data",
          "data": {
            "text/plain": [
              "<Figure size 800x600 with 2 Axes>"
            ],
            "image/png": "[encoded data removed]"
          },
          "metadata": {}
        }
      ]
    },
    {
      "cell_type": "code",
      "source": [
        "# train_dataset = df.sample(frac=0.8,random_state=0)\n",
        "# test_dataset = df.drop(train_dataset.index)"
      ],
      "metadata": {
        "id": "YiLzb19G-b3v"
      },
      "execution_count": 117,
      "outputs": []
    },
    {
      "cell_type": "code",
      "source": [
        "# train_dataset.head()"
      ],
      "metadata": {
        "id": "SnQXAHtsEiqM"
      },
      "execution_count": null,
      "outputs": []
    },
    {
      "cell_type": "code",
      "source": [
        "# test_dataset.head()"
      ],
      "metadata": {
        "id": "gGwNGs2ZGeox"
      },
      "execution_count": null,
      "outputs": []
    },
    {
      "cell_type": "code",
      "source": [
        "X = df.drop('환산_보증금_월세', axis=1)\n",
        "y = df['환산_보증금_월세']\n"
      ],
      "metadata": {
        "id": "oV83pgVfHdMG"
      },
      "execution_count": 4,
      "outputs": []
    },
    {
      "cell_type": "code",
      "source": [
        "X_train, X_test, y_train, y_test = train_test_split(X, y)"
      ],
      "metadata": {
        "id": "SLaFn8IiKBhL"
      },
      "execution_count": 5,
      "outputs": []
    },
    {
      "cell_type": "code",
      "source": [
        "X_train"
      ],
      "metadata": {
        "colab": {
          "base_uri": "https://localhost:8080/",
          "height": 485
        },
        "id": "WkiEVKi_KEQ5",
        "outputId": "548c868a-90e0-4b02-d295-b1ac1ebf3579"
      },
      "execution_count": 145,
      "outputs": [
        {
          "output_type": "execute_result",
          "data": {
            "text/plain": [
              "         시군구_Encoder  동_Encoder  전월세구분   전용면적(㎡)     층  구분  한국은행기준금리       종가  \\\n",
              "2535875            3        383      1   43.0500   3.0   2      1.50  1994.15   \n",
              "1685509            1          7      1   39.9000  10.0   0      1.25  2087.96   \n",
              "1160542           20        369      0  208.4780   5.0   0      0.50  2326.17   \n",
              "2098018            0         54      0   60.6800   1.0   2      1.25  2160.23   \n",
              "2319416           24        119      0   12.8700   5.0   2      1.25  2016.19   \n",
              "...              ...        ...    ...       ...   ...  ..       ...      ...   \n",
              "341423            11        145      0  114.9855   2.0   0      2.50  1996.96   \n",
              "151481             0        300      0   82.3000  12.0   0      2.50  1985.61   \n",
              "1432620           17        133      0   18.0700  13.0   1      1.75  2140.67   \n",
              "559648            19        251      0   59.9600  17.0   0      3.25  2030.25   \n",
              "2261120            6         28      0   73.6800   7.0   0      1.50  2467.49   \n",
              "\n",
              "             년도  건물나이  \n",
              "2535875  2016.0  14.0  \n",
              "1685509  2019.0  10.0  \n",
              "1160542  2020.0   9.0  \n",
              "2098018  2017.0  24.0  \n",
              "2319416  2016.0   5.0  \n",
              "...         ...   ...  \n",
              "341423   2013.0   9.0  \n",
              "151481   2014.0  30.0  \n",
              "1432620  2019.0   0.0  \n",
              "559648   2012.0  13.0  \n",
              "2261120  2017.0  31.0  \n",
              "\n",
              "[2693736 rows x 10 columns]"
            ],
            "text/html": [
              "\n",
              "  <div id=\"df-90b59cab-cf8c-44dd-96a1-0633ec054fb2\">\n",
              "    <div class=\"colab-df-container\">\n",
              "      <div>\n",
              "<style scoped>\n",
              "    .dataframe tbody tr th:only-of-type {\n",
              "        vertical-align: middle;\n",
              "    }\n",
              "\n",
              "    .dataframe tbody tr th {\n",
              "        vertical-align: top;\n",
              "    }\n",
              "\n",
              "    .dataframe thead th {\n",
              "        text-align: right;\n",
              "    }\n",
              "</style>\n",
              "<table border=\"1\" class=\"dataframe\">\n",
              "  <thead>\n",
              "    <tr style=\"text-align: right;\">\n",
              "      <th></th>\n",
              "      <th>시군구_Encoder</th>\n",
              "      <th>동_Encoder</th>\n",
              "      <th>전월세구분</th>\n",
              "      <th>전용면적(㎡)</th>\n",
              "      <th>층</th>\n",
              "      <th>구분</th>\n",
              "      <th>한국은행기준금리</th>\n",
              "      <th>종가</th>\n",
              "      <th>년도</th>\n",
              "      <th>건물나이</th>\n",
              "    </tr>\n",
              "  </thead>\n",
              "  <tbody>\n",
              "    <tr>\n",
              "      <th>2535875</th>\n",
              "      <td>3</td>\n",
              "      <td>383</td>\n",
              "      <td>1</td>\n",
              "      <td>43.0500</td>\n",
              "      <td>3.0</td>\n",
              "      <td>2</td>\n",
              "      <td>1.50</td>\n",
              "      <td>1994.15</td>\n",
              "      <td>2016.0</td>\n",
              "      <td>14.0</td>\n",
              "    </tr>\n",
              "    <tr>\n",
              "      <th>1685509</th>\n",
              "      <td>1</td>\n",
              "      <td>7</td>\n",
              "      <td>1</td>\n",
              "      <td>39.9000</td>\n",
              "      <td>10.0</td>\n",
              "      <td>0</td>\n",
              "      <td>1.25</td>\n",
              "      <td>2087.96</td>\n",
              "      <td>2019.0</td>\n",
              "      <td>10.0</td>\n",
              "    </tr>\n",
              "    <tr>\n",
              "      <th>1160542</th>\n",
              "      <td>20</td>\n",
              "      <td>369</td>\n",
              "      <td>0</td>\n",
              "      <td>208.4780</td>\n",
              "      <td>5.0</td>\n",
              "      <td>0</td>\n",
              "      <td>0.50</td>\n",
              "      <td>2326.17</td>\n",
              "      <td>2020.0</td>\n",
              "      <td>9.0</td>\n",
              "    </tr>\n",
              "    <tr>\n",
              "      <th>2098018</th>\n",
              "      <td>0</td>\n",
              "      <td>54</td>\n",
              "      <td>0</td>\n",
              "      <td>60.6800</td>\n",
              "      <td>1.0</td>\n",
              "      <td>2</td>\n",
              "      <td>1.25</td>\n",
              "      <td>2160.23</td>\n",
              "      <td>2017.0</td>\n",
              "      <td>24.0</td>\n",
              "    </tr>\n",
              "    <tr>\n",
              "      <th>2319416</th>\n",
              "      <td>24</td>\n",
              "      <td>119</td>\n",
              "      <td>0</td>\n",
              "      <td>12.8700</td>\n",
              "      <td>5.0</td>\n",
              "      <td>2</td>\n",
              "      <td>1.25</td>\n",
              "      <td>2016.19</td>\n",
              "      <td>2016.0</td>\n",
              "      <td>5.0</td>\n",
              "    </tr>\n",
              "    <tr>\n",
              "      <th>...</th>\n",
              "      <td>...</td>\n",
              "      <td>...</td>\n",
              "      <td>...</td>\n",
              "      <td>...</td>\n",
              "      <td>...</td>\n",
              "      <td>...</td>\n",
              "      <td>...</td>\n",
              "      <td>...</td>\n",
              "      <td>...</td>\n",
              "      <td>...</td>\n",
              "    </tr>\n",
              "    <tr>\n",
              "      <th>341423</th>\n",
              "      <td>11</td>\n",
              "      <td>145</td>\n",
              "      <td>0</td>\n",
              "      <td>114.9855</td>\n",
              "      <td>2.0</td>\n",
              "      <td>0</td>\n",
              "      <td>2.50</td>\n",
              "      <td>1996.96</td>\n",
              "      <td>2013.0</td>\n",
              "      <td>9.0</td>\n",
              "    </tr>\n",
              "    <tr>\n",
              "      <th>151481</th>\n",
              "      <td>0</td>\n",
              "      <td>300</td>\n",
              "      <td>0</td>\n",
              "      <td>82.3000</td>\n",
              "      <td>12.0</td>\n",
              "      <td>0</td>\n",
              "      <td>2.50</td>\n",
              "      <td>1985.61</td>\n",
              "      <td>2014.0</td>\n",
              "      <td>30.0</td>\n",
              "    </tr>\n",
              "    <tr>\n",
              "      <th>1432620</th>\n",
              "      <td>17</td>\n",
              "      <td>133</td>\n",
              "      <td>0</td>\n",
              "      <td>18.0700</td>\n",
              "      <td>13.0</td>\n",
              "      <td>1</td>\n",
              "      <td>1.75</td>\n",
              "      <td>2140.67</td>\n",
              "      <td>2019.0</td>\n",
              "      <td>0.0</td>\n",
              "    </tr>\n",
              "    <tr>\n",
              "      <th>559648</th>\n",
              "      <td>19</td>\n",
              "      <td>251</td>\n",
              "      <td>0</td>\n",
              "      <td>59.9600</td>\n",
              "      <td>17.0</td>\n",
              "      <td>0</td>\n",
              "      <td>3.25</td>\n",
              "      <td>2030.25</td>\n",
              "      <td>2012.0</td>\n",
              "      <td>13.0</td>\n",
              "    </tr>\n",
              "    <tr>\n",
              "      <th>2261120</th>\n",
              "      <td>6</td>\n",
              "      <td>28</td>\n",
              "      <td>0</td>\n",
              "      <td>73.6800</td>\n",
              "      <td>7.0</td>\n",
              "      <td>0</td>\n",
              "      <td>1.50</td>\n",
              "      <td>2467.49</td>\n",
              "      <td>2017.0</td>\n",
              "      <td>31.0</td>\n",
              "    </tr>\n",
              "  </tbody>\n",
              "</table>\n",
              "<p>2693736 rows × 10 columns</p>\n",
              "</div>\n",
              "      <button class=\"colab-df-convert\" onclick=\"convertToInteractive('df-90b59cab-cf8c-44dd-96a1-0633ec054fb2')\"\n",
              "              title=\"Convert this dataframe to an interactive table.\"\n",
              "              style=\"display:none;\">\n",
              "        \n",
              "  <svg xmlns=\"http://www.w3.org/2000/svg\" height=\"24px\"viewBox=\"0 0 24 24\"\n",
              "       width=\"24px\">\n",
              "    <path d=\"M0 0h24v24H0V0z\" fill=\"none\"/>\n",
              "    <path d=\"M18.56 5.44l.94 2.06.94-2.06 2.06-.94-2.06-.94-.94-2.06-.94 2.06-2.06.94zm-11 1L8.5 8.5l.94-2.06 2.06-.94-2.06-.94L8.5 2.5l-.94 2.06-2.06.94zm10 10l.94 2.06.94-2.06 2.06-.94-2.06-.94-.94-2.06-.94 2.06-2.06.94z\"/><path d=\"M17.41 7.96l-1.37-1.37c-.4-.4-.92-.59-1.43-.59-.52 0-1.04.2-1.43.59L10.3 9.45l-7.72 7.72c-.78.78-.78 2.05 0 2.83L4 21.41c.39.39.9.59 1.41.59.51 0 1.02-.2 1.41-.59l7.78-7.78 2.81-2.81c.8-.78.8-2.07 0-2.86zM5.41 20L4 18.59l7.72-7.72 1.47 1.35L5.41 20z\"/>\n",
              "  </svg>\n",
              "      </button>\n",
              "      \n",
              "  <style>\n",
              "    .colab-df-container {\n",
              "      display:flex;\n",
              "      flex-wrap:wrap;\n",
              "      gap: 12px;\n",
              "    }\n",
              "\n",
              "    .colab-df-convert {\n",
              "      background-color: #E8F0FE;\n",
              "      border: none;\n",
              "      border-radius: 50%;\n",
              "      cursor: pointer;\n",
              "      display: none;\n",
              "      fill: #1967D2;\n",
              "      height: 32px;\n",
              "      padding: 0 0 0 0;\n",
              "      width: 32px;\n",
              "    }\n",
              "\n",
              "    .colab-df-convert:hover {\n",
              "      background-color: #E2EBFA;\n",
              "      box-shadow: 0px 1px 2px rgba(60, 64, 67, 0.3), 0px 1px 3px 1px rgba(60, 64, 67, 0.15);\n",
              "      fill: #174EA6;\n",
              "    }\n",
              "\n",
              "    [theme=dark] .colab-df-convert {\n",
              "      background-color: #3B4455;\n",
              "      fill: #D2E3FC;\n",
              "    }\n",
              "\n",
              "    [theme=dark] .colab-df-convert:hover {\n",
              "      background-color: #434B5C;\n",
              "      box-shadow: 0px 1px 3px 1px rgba(0, 0, 0, 0.15);\n",
              "      filter: drop-shadow(0px 1px 2px rgba(0, 0, 0, 0.3));\n",
              "      fill: #FFFFFF;\n",
              "    }\n",
              "  </style>\n",
              "\n",
              "      <script>\n",
              "        const buttonEl =\n",
              "          document.querySelector('#df-90b59cab-cf8c-44dd-96a1-0633ec054fb2 button.colab-df-convert');\n",
              "        buttonEl.style.display =\n",
              "          google.colab.kernel.accessAllowed ? 'block' : 'none';\n",
              "\n",
              "        async function convertToInteractive(key) {\n",
              "          const element = document.querySelector('#df-90b59cab-cf8c-44dd-96a1-0633ec054fb2');\n",
              "          const dataTable =\n",
              "            await google.colab.kernel.invokeFunction('convertToInteractive',\n",
              "                                                     [key], {});\n",
              "          if (!dataTable) return;\n",
              "\n",
              "          const docLinkHtml = 'Like what you see? Visit the ' +\n",
              "            '<a target=\"_blank\" href=https://colab.research.google.com/notebooks/data_table.ipynb>data table notebook</a>'\n",
              "            + ' to learn more about interactive tables.';\n",
              "          element.innerHTML = '';\n",
              "          dataTable['output_type'] = 'display_data';\n",
              "          await google.colab.output.renderOutput(dataTable, element);\n",
              "          const docLink = document.createElement('div');\n",
              "          docLink.innerHTML = docLinkHtml;\n",
              "          element.appendChild(docLink);\n",
              "        }\n",
              "      </script>\n",
              "    </div>\n",
              "  </div>\n",
              "  "
            ]
          },
          "metadata": {},
          "execution_count": 145
        }
      ]
    },
    {
      "cell_type": "code",
      "source": [
        "y_train"
      ],
      "metadata": {
        "colab": {
          "base_uri": "https://localhost:8080/"
        },
        "id": "sLzo03lxKFkV",
        "outputId": "cbbc8e11-6cfe-4424-e1bc-d042f9f1b732"
      },
      "execution_count": 146,
      "outputs": [
        {
          "output_type": "execute_result",
          "data": {
            "text/plain": [
              "2535875     14700.0\n",
              "1685509      7299.0\n",
              "1160542    320000.0\n",
              "2098018     25000.0\n",
              "2319416      6000.0\n",
              "             ...   \n",
              "341423      45000.0\n",
              "151481      33000.0\n",
              "1432620     17000.0\n",
              "559648      17000.0\n",
              "2261120     26800.0\n",
              "Name: 환산_보증금_월세, Length: 2693736, dtype: float64"
            ]
          },
          "metadata": {},
          "execution_count": 146
        }
      ]
    },
    {
      "cell_type": "code",
      "source": [
        "# train_stats = train_dataset.describe()\n",
        "# train_stats = train_stats.transpose()\n",
        "# train_stats"
      ],
      "metadata": {
        "id": "1ikeR4taAgzn"
      },
      "execution_count": null,
      "outputs": []
    },
    {
      "cell_type": "code",
      "source": [
        "# 예측할 레이블\n",
        "# train_labels = train_dataset.pop('환산_보증금_월세')\n",
        "# test_labels = test_dataset.pop('환산_보증금_월세')"
      ],
      "metadata": {
        "id": "491LpaTH_FEd"
      },
      "execution_count": 104,
      "outputs": []
    },
    {
      "cell_type": "code",
      "source": [
        "# train_dataset"
      ],
      "metadata": {
        "id": "hN_TsXqWE0If"
      },
      "execution_count": null,
      "outputs": []
    },
    {
      "cell_type": "code",
      "source": [
        "# train_labels"
      ],
      "metadata": {
        "id": "gK4U7FYVC7zU"
      },
      "execution_count": null,
      "outputs": []
    },
    {
      "cell_type": "code",
      "source": [
        "# # 정규화\n",
        "# def norm(x):\n",
        "#   return (x - train_stats['mean']) / train_stats['std']\n",
        "# normed_train_data = norm(train_dataset)\n",
        "# normed_test_data = norm(test_dataset)\n",
        "\n",
        "# normed_train_data = normed_train_data.drop('환산_보증금_월세', axis=1)\n",
        "# normed_test_data = normed_test_data.drop('환산_보증금_월세', axis=1)"
      ],
      "metadata": {
        "id": "lTkB-vVwAUSl"
      },
      "execution_count": 108,
      "outputs": []
    },
    {
      "cell_type": "code",
      "source": [
        "# normed_test_data"
      ],
      "metadata": {
        "id": "-b7iVFidEsYA"
      },
      "execution_count": null,
      "outputs": []
    },
    {
      "cell_type": "code",
      "source": [
        "# 모델 만들기\n",
        "# def build_model():\n",
        "#   model = keras.Sequential([\n",
        "#     layers.Dense(64, activation='relu', input_shape=[len(train_dataset.keys())]),\n",
        "#     layers.Dense(64, activation='relu'),\n",
        "#     layers.Dense(1)\n",
        "#   ])\n",
        "\n",
        "#   optimizer = tf.keras.optimizers.RMSprop(0.001)\n",
        "\n",
        "#   model.compile(loss='mse',\n",
        "#                 optimizer=optimizer,\n",
        "#                 metrics=['mae', 'mse'])\n",
        "#   return model"
      ],
      "metadata": {
        "id": "pmMAQypsAtkO"
      },
      "execution_count": 110,
      "outputs": []
    },
    {
      "cell_type": "code",
      "source": [
        "model = Sequential()\n",
        "model.add(Dense(128, activation='relu', input_shape=(10,)))\n",
        "model.add(BatchNormalization())\n",
        "model.add(Dense(64, activation='relu', ))\n",
        "model.add(BatchNormalization())\n",
        "# model.add(Dense(64, activation='relu'))\n",
        "# model.add(BatchNormalization())\n",
        "model.add(Dense(32, activation='relu'))\n",
        "model.add(BatchNormalization())\n",
        "model.add(Dense(1))\n",
        "\n",
        "model.compile(loss='mse', optimizer=Adam(learning_rate=0.01), metrics=['mae'])\n",
        "\n",
        "# Set EarlyStopping\n",
        "early_stop = EarlyStopping(monitor='val_loss', patience=500)"
      ],
      "metadata": {
        "id": "Qqk2llhcIFOt"
      },
      "execution_count": 6,
      "outputs": []
    },
    {
      "cell_type": "code",
      "source": [
        "# model = build_model()"
      ],
      "metadata": {
        "id": "a6kDIzG5Ayoe"
      },
      "execution_count": 111,
      "outputs": []
    },
    {
      "cell_type": "code",
      "source": [
        "model.summary()"
      ],
      "metadata": {
        "colab": {
          "base_uri": "https://localhost:8080/"
        },
        "id": "ONmYnEp2BBFa",
        "outputId": "0c44569e-4a0b-493f-d26f-282d95e9a417"
      },
      "execution_count": 7,
      "outputs": [
        {
          "output_type": "stream",
          "name": "stdout",
          "text": [
            "Model: \"sequential\"\n",
            "_________________________________________________________________\n",
            " Layer (type)                Output Shape              Param #   \n",
            "=================================================================\n",
            " dense (Dense)               (None, 128)               1408      \n",
            "                                                                 \n",
            " batch_normalization (BatchN  (None, 128)              512       \n",
            " ormalization)                                                   \n",
            "                                                                 \n",
            " dense_1 (Dense)             (None, 64)                8256      \n",
            "                                                                 \n",
            " batch_normalization_1 (Batc  (None, 64)               256       \n",
            " hNormalization)                                                 \n",
            "                                                                 \n",
            " dense_2 (Dense)             (None, 32)                2080      \n",
            "                                                                 \n",
            " batch_normalization_2 (Batc  (None, 32)               128       \n",
            " hNormalization)                                                 \n",
            "                                                                 \n",
            " dense_3 (Dense)             (None, 1)                 33        \n",
            "                                                                 \n",
            "=================================================================\n",
            "Total params: 12,673\n",
            "Trainable params: 12,225\n",
            "Non-trainable params: 448\n",
            "_________________________________________________________________\n"
          ]
        }
      ]
    },
    {
      "cell_type": "code",
      "source": [
        "# example_batch = X_train[:10]\n",
        "# example_result = model.predict(example_batch)\n",
        "# example_result"
      ],
      "metadata": {
        "id": "8b7MfcHgBVn6"
      },
      "execution_count": null,
      "outputs": []
    },
    {
      "cell_type": "code",
      "source": [
        "history = model.fit(X_train, y_train, epochs=50,\n",
        "                    validation_split=0.2, batch_size=32, verbose=1) #verbose 1이어야 로그나옴 0이면 안나옴 멍청아"
      ],
      "metadata": {
        "colab": {
          "base_uri": "https://localhost:8080/"
        },
        "id": "Vzf1bWi7Igmq",
        "outputId": "d6bdbe81-9dae-4e0e-e07a-614753403f68"
      },
      "execution_count": 8,
      "outputs": [
        {
          "output_type": "stream",
          "name": "stdout",
          "text": [
            "Epoch 1/50\n",
            "67344/67344 [==============================] - 276s 4ms/step - loss: 258662768.0000 - mae: 9789.2842 - val_loss: 65532719104.0000 - val_mae: 38778.7930\n",
            "Epoch 2/50\n",
            "67344/67344 [==============================] - 308s 5ms/step - loss: 203024576.0000 - mae: 8834.1494 - val_loss: 12654576926720.0000 - val_mae: 123084.3359\n",
            "Epoch 3/50\n",
            "67344/67344 [==============================] - 280s 4ms/step - loss: 194646352.0000 - mae: 8735.7236 - val_loss: 10194613538622799872.0000 - val_mae: 9003994.0000\n",
            "Epoch 4/50\n",
            "67344/67344 [==============================] - 265s 4ms/step - loss: 192083920.0000 - mae: 8709.4648 - val_loss: 4220468854784.0000 - val_mae: 16082.3887\n",
            "Epoch 5/50\n",
            "67344/67344 [==============================] - 285s 4ms/step - loss: 186975056.0000 - mae: 8607.7852 - val_loss: 43360366592.0000 - val_mae: 8591.8857\n",
            "Epoch 6/50\n",
            "67344/67344 [==============================] - 284s 4ms/step - loss: 184427440.0000 - mae: 8558.7432 - val_loss: 292964392184578048.0000 - val_mae: 192828496.0000\n",
            "Epoch 7/50\n",
            "67344/67344 [==============================] - 279s 4ms/step - loss: 181807584.0000 - mae: 8496.1699 - val_loss: 51582104240128.0000 - val_mae: 35778.8125\n",
            "Epoch 8/50\n",
            "67344/67344 [==============================] - 259s 4ms/step - loss: 181322240.0000 - mae: 8485.5293 - val_loss: 68156303343616.0000 - val_mae: 44032.9102\n",
            "Epoch 9/50\n",
            "67344/67344 [==============================] - 270s 4ms/step - loss: 178711136.0000 - mae: 8419.6689 - val_loss: 345243484160.0000 - val_mae: 10308.0967\n",
            "Epoch 10/50\n",
            "67344/67344 [==============================] - 261s 4ms/step - loss: 176264368.0000 - mae: 8369.5801 - val_loss: 250177904.0000 - val_mae: 10219.9941\n",
            "Epoch 11/50\n",
            "67344/67344 [==============================] - 259s 4ms/step - loss: 174924976.0000 - mae: 8351.2812 - val_loss: 435555653386240.0000 - val_mae: 1059543.2500\n",
            "Epoch 12/50\n",
            "67344/67344 [==============================] - 268s 4ms/step - loss: 169798128.0000 - mae: 8245.1973 - val_loss: 683047424.0000 - val_mae: 7403.7446\n",
            "Epoch 13/50\n",
            "67344/67344 [==============================] - 282s 4ms/step - loss: 167792800.0000 - mae: 8194.0908 - val_loss: 3590131548160.0000 - val_mae: 12636.8018\n",
            "Epoch 14/50\n",
            "67344/67344 [==============================] - 251s 4ms/step - loss: 165610064.0000 - mae: 8163.2852 - val_loss: 165357846528.0000 - val_mae: 18747.3984\n",
            "Epoch 15/50\n",
            "67344/67344 [==============================] - 266s 4ms/step - loss: 165261584.0000 - mae: 8137.9941 - val_loss: 371329073152.0000 - val_mae: 12787.8457\n",
            "Epoch 16/50\n",
            "67344/67344 [==============================] - 260s 4ms/step - loss: 163280432.0000 - mae: 8100.6519 - val_loss: 926078976.0000 - val_mae: 10536.2432\n",
            "Epoch 17/50\n",
            "67344/67344 [==============================] - 260s 4ms/step - loss: 162361040.0000 - mae: 8072.6611 - val_loss: 3966815488.0000 - val_mae: 7182.4658\n",
            "Epoch 18/50\n",
            "67344/67344 [==============================] - 275s 4ms/step - loss: 161590096.0000 - mae: 8056.7051 - val_loss: 333885590208512.0000 - val_mae: 96565.6094\n",
            "Epoch 19/50\n",
            "67344/67344 [==============================] - 261s 4ms/step - loss: 161468848.0000 - mae: 8072.5405 - val_loss: 5682501578129408.0000 - val_mae: 918923.7500\n",
            "Epoch 20/50\n",
            "67344/67344 [==============================] - 275s 4ms/step - loss: 160220064.0000 - mae: 8034.4087 - val_loss: 26361618432.0000 - val_mae: 8005.7446\n",
            "Epoch 21/50\n",
            "67344/67344 [==============================] - 254s 4ms/step - loss: 159957920.0000 - mae: 8022.8354 - val_loss: 1273946758447104.0000 - val_mae: 519773.0312\n",
            "Epoch 22/50\n",
            "67344/67344 [==============================] - 270s 4ms/step - loss: 159487088.0000 - mae: 8008.2842 - val_loss: 823961961103360.0000 - val_mae: 209757.7188\n",
            "Epoch 23/50\n",
            "67344/67344 [==============================] - 256s 4ms/step - loss: 158818624.0000 - mae: 7992.4517 - val_loss: 49204395245568.0000 - val_mae: 60341.0312\n",
            "Epoch 24/50\n",
            "67344/67344 [==============================] - 253s 4ms/step - loss: 158708608.0000 - mae: 7992.3804 - val_loss: 50306360541184.0000 - val_mae: 25561.1641\n",
            "Epoch 25/50\n",
            "67344/67344 [==============================] - 254s 4ms/step - loss: 159863376.0000 - mae: 8014.3550 - val_loss: 119279018049536.0000 - val_mae: 35262.8477\n",
            "Epoch 26/50\n",
            "67344/67344 [==============================] - 250s 4ms/step - loss: 158128096.0000 - mae: 7974.7861 - val_loss: 15583730991104.0000 - val_mae: 12966.8584\n",
            "Epoch 27/50\n",
            "67344/67344 [==============================] - 264s 4ms/step - loss: 156197472.0000 - mae: 7924.6196 - val_loss: 283700642185216.0000 - val_mae: 75061.8203\n",
            "Epoch 28/50\n",
            "67344/67344 [==============================] - 259s 4ms/step - loss: 157122384.0000 - mae: 7949.4131 - val_loss: 2813154992062464.0000 - val_mae: 396939.5625\n",
            "Epoch 29/50\n",
            "67344/67344 [==============================] - 272s 4ms/step - loss: 156495824.0000 - mae: 7955.8462 - val_loss: 13797100328321024.0000 - val_mae: 577955.1875\n",
            "Epoch 30/50\n",
            "67344/67344 [==============================] - 268s 4ms/step - loss: 154317328.0000 - mae: 7907.4448 - val_loss: 3262151141621760.0000 - val_mae: 415079.1250\n",
            "Epoch 31/50\n",
            "67344/67344 [==============================] - 268s 4ms/step - loss: 153148544.0000 - mae: 7885.9990 - val_loss: 6817743575711744.0000 - val_mae: 277833.1562\n",
            "Epoch 32/50\n",
            "67344/67344 [==============================] - 257s 4ms/step - loss: 152474848.0000 - mae: 7872.6699 - val_loss: 99595384258560.0000 - val_mae: 53860.1289\n",
            "Epoch 33/50\n",
            "67344/67344 [==============================] - 256s 4ms/step - loss: 150889728.0000 - mae: 7840.2773 - val_loss: 18903885414400.0000 - val_mae: 35455.7734\n",
            "Epoch 34/50\n",
            "67344/67344 [==============================] - 271s 4ms/step - loss: 150433728.0000 - mae: 7828.3599 - val_loss: 16957655092297728.0000 - val_mae: 284957.4062\n",
            "Epoch 35/50\n",
            "67344/67344 [==============================] - 249s 4ms/step - loss: 149849392.0000 - mae: 7821.8403 - val_loss: 3071277694713856.0000 - val_mae: 157868.4062\n",
            "Epoch 36/50\n",
            "67344/67344 [==============================] - 245s 4ms/step - loss: 149005728.0000 - mae: 7799.8555 - val_loss: 13285611599298560.0000 - val_mae: 488628.0938\n",
            "Epoch 37/50\n",
            "67344/67344 [==============================] - 250s 4ms/step - loss: 148460848.0000 - mae: 7790.0317 - val_loss: 5890182742016.0000 - val_mae: 12772.2646\n",
            "Epoch 38/50\n",
            "67344/67344 [==============================] - 261s 4ms/step - loss: 148548704.0000 - mae: 7792.9482 - val_loss: 4417640688779264.0000 - val_mae: 461990.5625\n",
            "Epoch 39/50\n",
            "67344/67344 [==============================] - 244s 4ms/step - loss: 147285136.0000 - mae: 7765.5801 - val_loss: 44508578584723456.0000 - val_mae: 336055.0625\n",
            "Epoch 40/50\n",
            "67344/67344 [==============================] - 248s 4ms/step - loss: 147119760.0000 - mae: 7767.7017 - val_loss: 1948305479172096.0000 - val_mae: 204678.3750\n",
            "Epoch 41/50\n",
            "67344/67344 [==============================] - 270s 4ms/step - loss: 147605552.0000 - mae: 7775.5796 - val_loss: 8117107011092480.0000 - val_mae: 233282.8594\n",
            "Epoch 42/50\n",
            "67344/67344 [==============================] - 271s 4ms/step - loss: 148273712.0000 - mae: 7776.8315 - val_loss: 1166562045861036032.0000 - val_mae: 7381993.0000\n",
            "Epoch 43/50\n",
            "67344/67344 [==============================] - 251s 4ms/step - loss: 146348080.0000 - mae: 7748.4526 - val_loss: 1197024028393472.0000 - val_mae: 363631.0938\n",
            "Epoch 44/50\n",
            "67344/67344 [==============================] - 268s 4ms/step - loss: 146195664.0000 - mae: 7743.9482 - val_loss: 349688025262850048.0000 - val_mae: 1419752.0000\n",
            "Epoch 45/50\n",
            "67344/67344 [==============================] - 270s 4ms/step - loss: 145232400.0000 - mae: 7722.0938 - val_loss: 9375794421825536.0000 - val_mae: 576773.9375\n",
            "Epoch 46/50\n",
            "67344/67344 [==============================] - 253s 4ms/step - loss: 145483792.0000 - mae: 7729.5767 - val_loss: 1686599834271744.0000 - val_mae: 186690.5781\n",
            "Epoch 47/50\n",
            "67344/67344 [==============================] - 257s 4ms/step - loss: 144634704.0000 - mae: 7712.2749 - val_loss: 1071921692672.0000 - val_mae: 13815.6436\n",
            "Epoch 48/50\n",
            "67344/67344 [==============================] - 256s 4ms/step - loss: 144584992.0000 - mae: 7706.9414 - val_loss: 38720504562974720.0000 - val_mae: 571119.0625\n",
            "Epoch 49/50\n",
            "67344/67344 [==============================] - 258s 4ms/step - loss: 144989952.0000 - mae: 7712.4106 - val_loss: 12131481946161152.0000 - val_mae: 289781.7188\n",
            "Epoch 50/50\n",
            "67344/67344 [==============================] - 252s 4ms/step - loss: 144730080.0000 - mae: 7704.5479 - val_loss: 309111888669573120.0000 - val_mae: 2029551.0000\n"
          ]
        }
      ]
    },
    {
      "cell_type": "code",
      "source": [
        "hist = pd.DataFrame(history.history)\n",
        "hist['epoch'] = history.epoch\n",
        "hist.tail()"
      ],
      "metadata": {
        "colab": {
          "base_uri": "https://localhost:8080/",
          "height": 206
        },
        "id": "rl-7Yna1VaCm",
        "outputId": "ff4a3d27-0424-4be7-9829-2963cb799caf"
      },
      "execution_count": 10,
      "outputs": [
        {
          "output_type": "execute_result",
          "data": {
            "text/plain": [
              "           loss          mae      val_loss       val_mae  epoch\n",
              "45  145483792.0  7729.576660  1.686600e+15  1.866906e+05     45\n",
              "46  144634704.0  7712.274902  1.071922e+12  1.381564e+04     46\n",
              "47  144584992.0  7706.941406  3.872050e+16  5.711191e+05     47\n",
              "48  144989952.0  7712.410645  1.213148e+16  2.897817e+05     48\n",
              "49  144730080.0  7704.547852  3.091119e+17  2.029551e+06     49"
            ],
            "text/html": [
              "\n",
              "  <div id=\"df-07711558-a624-4821-8311-061a2653c9ce\">\n",
              "    <div class=\"colab-df-container\">\n",
              "      <div>\n",
              "<style scoped>\n",
              "    .dataframe tbody tr th:only-of-type {\n",
              "        vertical-align: middle;\n",
              "    }\n",
              "\n",
              "    .dataframe tbody tr th {\n",
              "        vertical-align: top;\n",
              "    }\n",
              "\n",
              "    .dataframe thead th {\n",
              "        text-align: right;\n",
              "    }\n",
              "</style>\n",
              "<table border=\"1\" class=\"dataframe\">\n",
              "  <thead>\n",
              "    <tr style=\"text-align: right;\">\n",
              "      <th></th>\n",
              "      <th>loss</th>\n",
              "      <th>mae</th>\n",
              "      <th>val_loss</th>\n",
              "      <th>val_mae</th>\n",
              "      <th>epoch</th>\n",
              "    </tr>\n",
              "  </thead>\n",
              "  <tbody>\n",
              "    <tr>\n",
              "      <th>45</th>\n",
              "      <td>145483792.0</td>\n",
              "      <td>7729.576660</td>\n",
              "      <td>1.686600e+15</td>\n",
              "      <td>1.866906e+05</td>\n",
              "      <td>45</td>\n",
              "    </tr>\n",
              "    <tr>\n",
              "      <th>46</th>\n",
              "      <td>144634704.0</td>\n",
              "      <td>7712.274902</td>\n",
              "      <td>1.071922e+12</td>\n",
              "      <td>1.381564e+04</td>\n",
              "      <td>46</td>\n",
              "    </tr>\n",
              "    <tr>\n",
              "      <th>47</th>\n",
              "      <td>144584992.0</td>\n",
              "      <td>7706.941406</td>\n",
              "      <td>3.872050e+16</td>\n",
              "      <td>5.711191e+05</td>\n",
              "      <td>47</td>\n",
              "    </tr>\n",
              "    <tr>\n",
              "      <th>48</th>\n",
              "      <td>144989952.0</td>\n",
              "      <td>7712.410645</td>\n",
              "      <td>1.213148e+16</td>\n",
              "      <td>2.897817e+05</td>\n",
              "      <td>48</td>\n",
              "    </tr>\n",
              "    <tr>\n",
              "      <th>49</th>\n",
              "      <td>144730080.0</td>\n",
              "      <td>7704.547852</td>\n",
              "      <td>3.091119e+17</td>\n",
              "      <td>2.029551e+06</td>\n",
              "      <td>49</td>\n",
              "    </tr>\n",
              "  </tbody>\n",
              "</table>\n",
              "</div>\n",
              "      <button class=\"colab-df-convert\" onclick=\"convertToInteractive('df-07711558-a624-4821-8311-061a2653c9ce')\"\n",
              "              title=\"Convert this dataframe to an interactive table.\"\n",
              "              style=\"display:none;\">\n",
              "        \n",
              "  <svg xmlns=\"http://www.w3.org/2000/svg\" height=\"24px\"viewBox=\"0 0 24 24\"\n",
              "       width=\"24px\">\n",
              "    <path d=\"M0 0h24v24H0V0z\" fill=\"none\"/>\n",
              "    <path d=\"M18.56 5.44l.94 2.06.94-2.06 2.06-.94-2.06-.94-.94-2.06-.94 2.06-2.06.94zm-11 1L8.5 8.5l.94-2.06 2.06-.94-2.06-.94L8.5 2.5l-.94 2.06-2.06.94zm10 10l.94 2.06.94-2.06 2.06-.94-2.06-.94-.94-2.06-.94 2.06-2.06.94z\"/><path d=\"M17.41 7.96l-1.37-1.37c-.4-.4-.92-.59-1.43-.59-.52 0-1.04.2-1.43.59L10.3 9.45l-7.72 7.72c-.78.78-.78 2.05 0 2.83L4 21.41c.39.39.9.59 1.41.59.51 0 1.02-.2 1.41-.59l7.78-7.78 2.81-2.81c.8-.78.8-2.07 0-2.86zM5.41 20L4 18.59l7.72-7.72 1.47 1.35L5.41 20z\"/>\n",
              "  </svg>\n",
              "      </button>\n",
              "      \n",
              "  <style>\n",
              "    .colab-df-container {\n",
              "      display:flex;\n",
              "      flex-wrap:wrap;\n",
              "      gap: 12px;\n",
              "    }\n",
              "\n",
              "    .colab-df-convert {\n",
              "      background-color: #E8F0FE;\n",
              "      border: none;\n",
              "      border-radius: 50%;\n",
              "      cursor: pointer;\n",
              "      display: none;\n",
              "      fill: #1967D2;\n",
              "      height: 32px;\n",
              "      padding: 0 0 0 0;\n",
              "      width: 32px;\n",
              "    }\n",
              "\n",
              "    .colab-df-convert:hover {\n",
              "      background-color: #E2EBFA;\n",
              "      box-shadow: 0px 1px 2px rgba(60, 64, 67, 0.3), 0px 1px 3px 1px rgba(60, 64, 67, 0.15);\n",
              "      fill: #174EA6;\n",
              "    }\n",
              "\n",
              "    [theme=dark] .colab-df-convert {\n",
              "      background-color: #3B4455;\n",
              "      fill: #D2E3FC;\n",
              "    }\n",
              "\n",
              "    [theme=dark] .colab-df-convert:hover {\n",
              "      background-color: #434B5C;\n",
              "      box-shadow: 0px 1px 3px 1px rgba(0, 0, 0, 0.15);\n",
              "      filter: drop-shadow(0px 1px 2px rgba(0, 0, 0, 0.3));\n",
              "      fill: #FFFFFF;\n",
              "    }\n",
              "  </style>\n",
              "\n",
              "      <script>\n",
              "        const buttonEl =\n",
              "          document.querySelector('#df-07711558-a624-4821-8311-061a2653c9ce button.colab-df-convert');\n",
              "        buttonEl.style.display =\n",
              "          google.colab.kernel.accessAllowed ? 'block' : 'none';\n",
              "\n",
              "        async function convertToInteractive(key) {\n",
              "          const element = document.querySelector('#df-07711558-a624-4821-8311-061a2653c9ce');\n",
              "          const dataTable =\n",
              "            await google.colab.kernel.invokeFunction('convertToInteractive',\n",
              "                                                     [key], {});\n",
              "          if (!dataTable) return;\n",
              "\n",
              "          const docLinkHtml = 'Like what you see? Visit the ' +\n",
              "            '<a target=\"_blank\" href=https://colab.research.google.com/notebooks/data_table.ipynb>data table notebook</a>'\n",
              "            + ' to learn more about interactive tables.';\n",
              "          element.innerHTML = '';\n",
              "          dataTable['output_type'] = 'display_data';\n",
              "          await google.colab.output.renderOutput(dataTable, element);\n",
              "          const docLink = document.createElement('div');\n",
              "          docLink.innerHTML = docLinkHtml;\n",
              "          element.appendChild(docLink);\n",
              "        }\n",
              "      </script>\n",
              "    </div>\n",
              "  </div>\n",
              "  "
            ]
          },
          "metadata": {},
          "execution_count": 10
        }
      ]
    },
    {
      "cell_type": "code",
      "source": [
        "Y_test_hat = model.predict(X_test).ravel().astype(int)\n"
      ],
      "metadata": {
        "colab": {
          "base_uri": "https://localhost:8080/"
        },
        "id": "t0riIu27KlgF",
        "outputId": "a76c1b93-c709-4193-f4b0-e4d3b27d2de3"
      },
      "execution_count": 15,
      "outputs": [
        {
          "output_type": "stream",
          "name": "stdout",
          "text": [
            "28060/28060 [==============================] - 51s 2ms/step\n"
          ]
        }
      ]
    },
    {
      "cell_type": "code",
      "source": [
        "hat_s = Y_test_hat[1000:1020]\n",
        "s = y_test[1000:1020]"
      ],
      "metadata": {
        "id": "7vrHmhPRLJme"
      },
      "execution_count": 16,
      "outputs": []
    },
    {
      "cell_type": "code",
      "source": [
        "plt.rcParams[\"figure.figsize\"] = (10,6)\n",
        "plt.plot(np.arange(20), hat_s, '-',color = 'green', label='real')\n",
        "plt.plot(np.arange(20), s, '--', color = 'blue', label='predict')\n",
        "plt.legend()\n",
        "plt.figure()"
      ],
      "metadata": {
        "colab": {
          "base_uri": "https://localhost:8080/",
          "height": 552
        },
        "id": "Zm4Vo_dvYwer",
        "outputId": "8a0d773e-5838-4e1e-b523-675beff36c62"
      },
      "execution_count": 17,
      "outputs": [
        {
          "output_type": "execute_result",
          "data": {
            "text/plain": [
              "<Figure size 1000x600 with 0 Axes>"
            ]
          },
          "metadata": {},
          "execution_count": 17
        },
        {
          "output_type": "display_data",
          "data": {
            "text/plain": [
              "<Figure size 1000x600 with 1 Axes>"
            ],
            "image/png": "[encoded data removed]"
          },
          "metadata": {}
        },
        {
          "output_type": "display_data",
          "data": {
            "text/plain": [
              "<Figure size 1000x600 with 0 Axes>"
            ]
          },
          "metadata": {}
        }
      ]
    },
    {
      "cell_type": "code",
      "source": [
        "test_loss, test_mae = model.evaluate(X_test, y_test)\n",
        "print('loss:{:.3f}\\nmae: {:.3f}'.format(test_loss, test_mae))"
      ],
      "metadata": {
        "colab": {
          "base_uri": "https://localhost:8080/"
        },
        "id": "jZv8X8u4Y2hx",
        "outputId": "da1c64ab-e3fb-4dd0-e80c-16d70e10439f"
      },
      "execution_count": 18,
      "outputs": [
        {
          "output_type": "stream",
          "name": "stdout",
          "text": [
            "28060/28060 [==============================] - 54s 2ms/step - loss: 185460364333285376.0000 - mae: 1174222.5000\n",
            "loss:185460364333285376.000\n",
            "mae: 1174222.500\n"
          ]
        }
      ]
    },
    {
      "cell_type": "code",
      "source": [
        "y_pred = model.predict(X_test).flatten()\n",
        "p = np.polyfit(y_test, y_pred, 1)\n",
        "f = np.poly1d(p)\n",
        "\n",
        "plt.scatter(y_test, y_pred)\n",
        "plt.plot(y_test, f(y_test), color = \"r\", label=\"Ism\")\n",
        "plt.xlabel(\"True Value\")\n",
        "plt.ylabel(\"Predicted Value\")\n",
        "plt.show()\n",
        "# ???????????뭐고"
      ],
      "metadata": {
        "colab": {
          "base_uri": "https://localhost:8080/",
          "height": 569
        },
        "id": "f1r_NQJMZBXs",
        "outputId": "f54ec203-6f49-4660-9b22-b216966157f1"
      },
      "execution_count": 19,
      "outputs": [
        {
          "output_type": "stream",
          "name": "stdout",
          "text": [
            "28060/28060 [==============================] - 52s 2ms/step\n"
          ]
        },
        {
          "output_type": "display_data",
          "data": {
            "text/plain": [
              "<Figure size 1000x600 with 1 Axes>"
            ],
            "image/png": "[encoded data removed]"
          },
          "metadata": {}
        }
      ]
    },
    {
      "cell_type": "code",
      "source": [
        "y_test"
      ],
      "metadata": {
        "colab": {
          "base_uri": "https://localhost:8080/"
        },
        "id": "Bn5pHB-SNAzw",
        "outputId": "ea959eaf-1429-4c20-efe4-82ab23a556c1"
      },
      "execution_count": 25,
      "outputs": [
        {
          "output_type": "execute_result",
          "data": {
            "text/plain": [
              "2519119    13000.0\n",
              "278912     13220.0\n",
              "3096309    27814.0\n",
              "875676     36200.0\n",
              "385950     14000.0\n",
              "            ...   \n",
              "536223     67000.0\n",
              "567332     13500.0\n",
              "3094218    23000.0\n",
              "1659721    11300.0\n",
              "3568534    75900.0\n",
              "Name: 환산_보증금_월세, Length: 897913, dtype: float64"
            ]
          },
          "metadata": {},
          "execution_count": 25
        }
      ]
    },
    {
      "cell_type": "code",
      "source": [
        "y_pred"
      ],
      "metadata": {
        "colab": {
          "base_uri": "https://localhost:8080/"
        },
        "id": "s4mbvU7-NB87",
        "outputId": "4b047448-c5f2-47f0-f2db-c44a3d645833"
      },
      "execution_count": 26,
      "outputs": [
        {
          "output_type": "execute_result",
          "data": {
            "text/plain": [
              "array([14094.771, 14492.99 , 30490.371, ..., 33366.18 , 13159.906,\n",
              "       63695.754], dtype=float32)"
            ]
          },
          "metadata": {},
          "execution_count": 26
        }
      ]
    },
    {
      "cell_type": "code",
      "source": [
        "# 범위조절함\n",
        "# y_pred = model.predict(X_test).flatten()\n",
        "p = np.polyfit(y_test, y_pred, 1)\n",
        "f = np.poly1d(p)\n",
        "\n",
        "plt.scatter(y_test, y_pred)\n",
        "plt.plot(y_test, f(y_test), color = \"r\", label=\"Ism\")\n",
        "plt.rcParams['agg.path.chunksize'] = 100000 #에러떠서\n",
        "plt.ylim([0,0.5])\n",
        "plt.xlabel(\"True Value\")\n",
        "plt.ylabel(\"Predicted Value\")\n",
        "plt.show()\n",
        "#??????????????????????? 머고"
      ],
      "metadata": {
        "colab": {
          "base_uri": "https://localhost:8080/",
          "height": 541
        },
        "id": "WsqcPxFCMNBr",
        "outputId": "75902ca5-4e89-4cc2-edce-ddce1b272692"
      },
      "execution_count": 30,
      "outputs": [
        {
          "output_type": "display_data",
          "data": {
            "text/plain": [
              "<Figure size 1000x600 with 1 Axes>"
            ],
            "image/png": "[encoded data removed]"
          },
          "metadata": {}
        }
      ]
    }
  ]
}