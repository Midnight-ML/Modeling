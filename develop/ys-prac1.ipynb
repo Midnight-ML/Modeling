{
  "cells": [
    {
      "cell_type": "code",
      "execution_count": 79,
      "metadata": {
        "id": "1Jnu6jXK-8Cd"
      },
      "outputs": [],
      "source": [
        "#참고\n",
        "# https://www.tensorflow.org/tutorials/keras/regression?hl=ko\n",
        "# https://www.kaggle.com/code/ktakuma/boston-house-prices-dnn-regression\n",
        "# https://www.kaggle.com/code/systemvaz/house-prices-with-tensorflow-dnn"
      ]
    },
    {
      "cell_type": "code",
      "execution_count": 2,
      "metadata": {
        "id": "g5GnTU-c86Lz"
      },
      "outputs": [],
      "source": [
        "import numpy as np\n",
        "import pandas as pd \n",
        "\n",
        "import numpy as np\n",
        "import pandas as pd\n",
        "import matplotlib.pyplot as plt\n",
        "# import seaborn as sns\n",
        "# %matplotlib inline\n",
        "\n",
        "from sklearn.model_selection import train_test_split\n",
        "\n",
        "from tensorflow.keras.layers import Activation, Dense, Dropout\n",
        "from tensorflow.keras.models import Sequential\n",
        "from tensorflow.keras.callbacks import EarlyStopping\n",
        "from tensorflow.keras.optimizers import Adam\n",
        "from keras.layers import BatchNormalization\n",
        "\n",
        "import tensorflow as tf\n",
        "from tensorflow import keras\n",
        "from tensorflow.keras import layers\n"
      ]
    },
    {
      "cell_type": "code",
      "execution_count": 83,
      "metadata": {
        "colab": {
          "base_uri": "https://localhost:8080/"
        },
        "id": "VYm8iiYt-DTi",
        "outputId": "b1aa9039-5cdc-4ee2-a243-858c356986b1"
      },
      "outputs": [
        {
          "name": "stdout",
          "output_type": "stream",
          "text": [
            "Reading package lists... Done\n",
            "Building dependency tree       \n",
            "Reading state information... Done\n",
            "fonts-nanum is already the newest version (20180306-3).\n",
            "0 upgraded, 0 newly installed, 0 to remove and 24 not upgraded.\n",
            "/usr/share/fonts: caching, new cache contents: 0 fonts, 1 dirs\n",
            "/usr/share/fonts/truetype: caching, new cache contents: 0 fonts, 3 dirs\n",
            "/usr/share/fonts/truetype/humor-sans: caching, new cache contents: 1 fonts, 0 dirs\n",
            "/usr/share/fonts/truetype/liberation: caching, new cache contents: 16 fonts, 0 dirs\n",
            "/usr/share/fonts/truetype/nanum: caching, new cache contents: 10 fonts, 0 dirs\n",
            "/usr/local/share/fonts: caching, new cache contents: 0 fonts, 0 dirs\n",
            "/root/.local/share/fonts: skipping, no such directory\n",
            "/root/.fonts: skipping, no such directory\n",
            "/usr/share/fonts/truetype: skipping, looped directory detected\n",
            "/usr/share/fonts/truetype/humor-sans: skipping, looped directory detected\n",
            "/usr/share/fonts/truetype/liberation: skipping, looped directory detected\n",
            "/usr/share/fonts/truetype/nanum: skipping, looped directory detected\n",
            "/var/cache/fontconfig: cleaning cache directory\n",
            "/root/.cache/fontconfig: not cleaning non-existent cache directory\n",
            "/root/.fontconfig: not cleaning non-existent cache directory\n",
            "fc-cache: succeeded\n"
          ]
        }
      ],
      "source": [
        "# seaborn 한글\n",
        "!sudo apt-get install -y fonts-nanum\n",
        "!sudo fc-cache -fv\n",
        "!rm ~/.cache/matplotlib -rf"
      ]
    },
    {
      "cell_type": "code",
      "execution_count": 3,
      "metadata": {
        "colab": {
          "base_uri": "https://localhost:8080/",
          "height": 286
        },
        "id": "tYcXtcFk9ICi",
        "outputId": "7495dd3e-ee62-4a5e-bbe8-c5c3a8034532"
      },
      "outputs": [
        {
          "name": "stdout",
          "output_type": "stream",
          "text": [
            "(3591649, 12)\n"
          ]
        },
        {
          "data": {
            "text/html": [
              "<div>\n",
              "<style scoped>\n",
              "    .dataframe tbody tr th:only-of-type {\n",
              "        vertical-align: middle;\n",
              "    }\n",
              "\n",
              "    .dataframe tbody tr th {\n",
              "        vertical-align: top;\n",
              "    }\n",
              "\n",
              "    .dataframe thead th {\n",
              "        text-align: right;\n",
              "    }\n",
              "</style>\n",
              "<table border=\"1\" class=\"dataframe\">\n",
              "  <thead>\n",
              "    <tr style=\"text-align: right;\">\n",
              "      <th></th>\n",
              "      <th>시군구_Encoder</th>\n",
              "      <th>동_Encoder</th>\n",
              "      <th>전월세구분</th>\n",
              "      <th>전용면적(㎡)</th>\n",
              "      <th>보증금(만원)</th>\n",
              "      <th>월세(만원)</th>\n",
              "      <th>층</th>\n",
              "      <th>구분</th>\n",
              "      <th>한국은행기준금리</th>\n",
              "      <th>종가</th>\n",
              "      <th>년도</th>\n",
              "      <th>건물나이</th>\n",
              "    </tr>\n",
              "  </thead>\n",
              "  <tbody>\n",
              "    <tr>\n",
              "      <th>0</th>\n",
              "      <td>0</td>\n",
              "      <td>9</td>\n",
              "      <td>0</td>\n",
              "      <td>77.75</td>\n",
              "      <td>33000</td>\n",
              "      <td>0</td>\n",
              "      <td>2.0</td>\n",
              "      <td>0</td>\n",
              "      <td>2.5</td>\n",
              "      <td>1941.15</td>\n",
              "      <td>2014.0</td>\n",
              "      <td>26.0</td>\n",
              "    </tr>\n",
              "    <tr>\n",
              "      <th>1</th>\n",
              "      <td>0</td>\n",
              "      <td>9</td>\n",
              "      <td>0</td>\n",
              "      <td>79.97</td>\n",
              "      <td>34000</td>\n",
              "      <td>0</td>\n",
              "      <td>2.0</td>\n",
              "      <td>0</td>\n",
              "      <td>2.5</td>\n",
              "      <td>1941.15</td>\n",
              "      <td>2014.0</td>\n",
              "      <td>27.0</td>\n",
              "    </tr>\n",
              "    <tr>\n",
              "      <th>2</th>\n",
              "      <td>0</td>\n",
              "      <td>9</td>\n",
              "      <td>0</td>\n",
              "      <td>79.97</td>\n",
              "      <td>28000</td>\n",
              "      <td>0</td>\n",
              "      <td>1.0</td>\n",
              "      <td>0</td>\n",
              "      <td>2.5</td>\n",
              "      <td>1941.15</td>\n",
              "      <td>2014.0</td>\n",
              "      <td>27.0</td>\n",
              "    </tr>\n",
              "    <tr>\n",
              "      <th>3</th>\n",
              "      <td>0</td>\n",
              "      <td>9</td>\n",
              "      <td>0</td>\n",
              "      <td>79.97</td>\n",
              "      <td>35000</td>\n",
              "      <td>0</td>\n",
              "      <td>2.0</td>\n",
              "      <td>0</td>\n",
              "      <td>2.5</td>\n",
              "      <td>1941.15</td>\n",
              "      <td>2014.0</td>\n",
              "      <td>27.0</td>\n",
              "    </tr>\n",
              "    <tr>\n",
              "      <th>4</th>\n",
              "      <td>0</td>\n",
              "      <td>9</td>\n",
              "      <td>1</td>\n",
              "      <td>104.43</td>\n",
              "      <td>40000</td>\n",
              "      <td>40</td>\n",
              "      <td>8.0</td>\n",
              "      <td>0</td>\n",
              "      <td>2.5</td>\n",
              "      <td>1941.15</td>\n",
              "      <td>2014.0</td>\n",
              "      <td>30.0</td>\n",
              "    </tr>\n",
              "  </tbody>\n",
              "</table>\n",
              "</div>"
            ],
            "text/plain": [
              "   시군구_Encoder  동_Encoder  전월세구분  전용면적(㎡)  보증금(만원)  월세(만원)    층  구분  한국은행기준금리   \n",
              "0            0          9      0    77.75    33000       0  2.0   0       2.5  \\\n",
              "1            0          9      0    79.97    34000       0  2.0   0       2.5   \n",
              "2            0          9      0    79.97    28000       0  1.0   0       2.5   \n",
              "3            0          9      0    79.97    35000       0  2.0   0       2.5   \n",
              "4            0          9      1   104.43    40000      40  8.0   0       2.5   \n",
              "\n",
              "        종가      년도  건물나이  \n",
              "0  1941.15  2014.0  26.0  \n",
              "1  1941.15  2014.0  27.0  \n",
              "2  1941.15  2014.0  27.0  \n",
              "3  1941.15  2014.0  27.0  \n",
              "4  1941.15  2014.0  30.0  "
            ]
          },
          "execution_count": 3,
          "metadata": {},
          "output_type": "execute_result"
        }
      ],
      "source": [
        "df = pd.read_csv('C:\\Temp\\바탕화면\\ssafy9\\seuri\\git_TIL\\Midnight-ML\\myprac\\prac1\\부동산\\sl_o.csv')\n",
        "print(df.shape)\n",
        "df.head()"
      ]
    },
    {
      "cell_type": "code",
      "execution_count": 4,
      "metadata": {
        "colab": {
          "base_uri": "https://localhost:8080/",
          "height": 268
        },
        "id": "tEYoXVMZ_Z-T",
        "outputId": "64975da6-9a36-477c-9e61-2c7550c5e328"
      },
      "outputs": [
        {
          "data": {
            "text/html": [
              "<div>\n",
              "<style scoped>\n",
              "    .dataframe tbody tr th:only-of-type {\n",
              "        vertical-align: middle;\n",
              "    }\n",
              "\n",
              "    .dataframe tbody tr th {\n",
              "        vertical-align: top;\n",
              "    }\n",
              "\n",
              "    .dataframe thead th {\n",
              "        text-align: right;\n",
              "    }\n",
              "</style>\n",
              "<table border=\"1\" class=\"dataframe\">\n",
              "  <thead>\n",
              "    <tr style=\"text-align: right;\">\n",
              "      <th></th>\n",
              "      <th>시군구_Encoder</th>\n",
              "      <th>동_Encoder</th>\n",
              "      <th>전월세구분</th>\n",
              "      <th>전용면적(㎡)</th>\n",
              "      <th>층</th>\n",
              "      <th>구분</th>\n",
              "      <th>한국은행기준금리</th>\n",
              "      <th>종가</th>\n",
              "      <th>년도</th>\n",
              "      <th>건물나이</th>\n",
              "      <th>환산_보증금_월세</th>\n",
              "    </tr>\n",
              "  </thead>\n",
              "  <tbody>\n",
              "    <tr>\n",
              "      <th>0</th>\n",
              "      <td>0</td>\n",
              "      <td>9</td>\n",
              "      <td>0</td>\n",
              "      <td>77.75</td>\n",
              "      <td>2.0</td>\n",
              "      <td>0</td>\n",
              "      <td>2.5</td>\n",
              "      <td>1941.15</td>\n",
              "      <td>2014.0</td>\n",
              "      <td>26.0</td>\n",
              "      <td>33000.0</td>\n",
              "    </tr>\n",
              "    <tr>\n",
              "      <th>1</th>\n",
              "      <td>0</td>\n",
              "      <td>9</td>\n",
              "      <td>0</td>\n",
              "      <td>79.97</td>\n",
              "      <td>2.0</td>\n",
              "      <td>0</td>\n",
              "      <td>2.5</td>\n",
              "      <td>1941.15</td>\n",
              "      <td>2014.0</td>\n",
              "      <td>27.0</td>\n",
              "      <td>34000.0</td>\n",
              "    </tr>\n",
              "    <tr>\n",
              "      <th>2</th>\n",
              "      <td>0</td>\n",
              "      <td>9</td>\n",
              "      <td>0</td>\n",
              "      <td>79.97</td>\n",
              "      <td>1.0</td>\n",
              "      <td>0</td>\n",
              "      <td>2.5</td>\n",
              "      <td>1941.15</td>\n",
              "      <td>2014.0</td>\n",
              "      <td>27.0</td>\n",
              "      <td>28000.0</td>\n",
              "    </tr>\n",
              "    <tr>\n",
              "      <th>3</th>\n",
              "      <td>0</td>\n",
              "      <td>9</td>\n",
              "      <td>0</td>\n",
              "      <td>79.97</td>\n",
              "      <td>2.0</td>\n",
              "      <td>0</td>\n",
              "      <td>2.5</td>\n",
              "      <td>1941.15</td>\n",
              "      <td>2014.0</td>\n",
              "      <td>27.0</td>\n",
              "      <td>35000.0</td>\n",
              "    </tr>\n",
              "    <tr>\n",
              "      <th>4</th>\n",
              "      <td>0</td>\n",
              "      <td>9</td>\n",
              "      <td>1</td>\n",
              "      <td>104.43</td>\n",
              "      <td>8.0</td>\n",
              "      <td>0</td>\n",
              "      <td>2.5</td>\n",
              "      <td>1941.15</td>\n",
              "      <td>2014.0</td>\n",
              "      <td>30.0</td>\n",
              "      <td>49600.0</td>\n",
              "    </tr>\n",
              "  </tbody>\n",
              "</table>\n",
              "</div>"
            ],
            "text/plain": [
              "   시군구_Encoder  동_Encoder  전월세구분  전용면적(㎡)    층  구분  한국은행기준금리       종가      년도   \n",
              "0            0          9      0    77.75  2.0   0       2.5  1941.15  2014.0  \\\n",
              "1            0          9      0    79.97  2.0   0       2.5  1941.15  2014.0   \n",
              "2            0          9      0    79.97  1.0   0       2.5  1941.15  2014.0   \n",
              "3            0          9      0    79.97  2.0   0       2.5  1941.15  2014.0   \n",
              "4            0          9      1   104.43  8.0   0       2.5  1941.15  2014.0   \n",
              "\n",
              "   건물나이  환산_보증금_월세  \n",
              "0  26.0    33000.0  \n",
              "1  27.0    34000.0  \n",
              "2  27.0    28000.0  \n",
              "3  27.0    35000.0  \n",
              "4  30.0    49600.0  "
            ]
          },
          "execution_count": 4,
          "metadata": {},
          "output_type": "execute_result"
        }
      ],
      "source": [
        "df['환산_보증금_월세'] = df.apply(lambda x: x['보증금(만원)'] + x['월세(만원)']*12*20, axis='columns')\n",
        "df = df.drop(['보증금(만원)','월세(만원)'], axis=1)\n",
        "df.head()"
      ]
    },
    {
      "cell_type": "code",
      "execution_count": 84,
      "metadata": {
        "colab": {
          "base_uri": "https://localhost:8080/",
          "height": 630
        },
        "id": "wMGHRcnr9MYX",
        "outputId": "03264311-8351-4c09-f8fc-62f1646caf7e"
      },
      "outputs": [
        {
          "data": {
            "text/plain": [
              "<Axes: >"
            ]
          },
          "execution_count": 84,
          "metadata": {},
          "output_type": "execute_result"
        },
        {
          "data": {
            "image/png": "[encoded data removed]",
            "text/plain": [
              "<Figure size 800x600 with 2 Axes>"
            ]
          },
          "metadata": {},
          "output_type": "display_data"
        }
      ],
      "source": [
        "import warnings\n",
        "warnings.filterwarnings('ignore')\n",
        "\n",
        "# Show correlation matrix\n",
        "corr = df.corr()\n",
        "\n",
        "# Show headmap\n",
        "plt.figure(figsize=(8,6))\n",
        "plt.rc('font', family='NanumBarunGothic')  #한글깨짐방지\n",
        "sns.heatmap(corr,cmap='RdBu_r',linewidth=1)"
      ]
    },
    {
      "cell_type": "code",
      "execution_count": 117,
      "metadata": {
        "id": "YiLzb19G-b3v"
      },
      "outputs": [],
      "source": [
        "# train_dataset = df.sample(frac=0.8,random_state=0)\n",
        "# test_dataset = df.drop(train_dataset.index)"
      ]
    },
    {
      "cell_type": "code",
      "execution_count": null,
      "metadata": {
        "id": "SnQXAHtsEiqM"
      },
      "outputs": [],
      "source": [
        "# train_dataset.head()"
      ]
    },
    {
      "cell_type": "code",
      "execution_count": null,
      "metadata": {
        "id": "gGwNGs2ZGeox"
      },
      "outputs": [],
      "source": [
        "# test_dataset.head()"
      ]
    },
    {
      "cell_type": "code",
      "execution_count": 5,
      "metadata": {
        "id": "oV83pgVfHdMG"
      },
      "outputs": [],
      "source": [
        "X = df.drop('환산_보증금_월세', axis=1)\n",
        "y = df['환산_보증금_월세']\n"
      ]
    },
    {
      "cell_type": "code",
      "execution_count": 6,
      "metadata": {
        "id": "SLaFn8IiKBhL"
      },
      "outputs": [],
      "source": [
        "X_train, X_test, y_train, y_test = train_test_split(X, y)"
      ]
    },
    {
      "cell_type": "code",
      "execution_count": 7,
      "metadata": {
        "colab": {
          "base_uri": "https://localhost:8080/",
          "height": 485
        },
        "id": "WkiEVKi_KEQ5",
        "outputId": "548c868a-90e0-4b02-d295-b1ac1ebf3579"
      },
      "outputs": [
        {
          "data": {
            "text/html": [
              "<div>\n",
              "<style scoped>\n",
              "    .dataframe tbody tr th:only-of-type {\n",
              "        vertical-align: middle;\n",
              "    }\n",
              "\n",
              "    .dataframe tbody tr th {\n",
              "        vertical-align: top;\n",
              "    }\n",
              "\n",
              "    .dataframe thead th {\n",
              "        text-align: right;\n",
              "    }\n",
              "</style>\n",
              "<table border=\"1\" class=\"dataframe\">\n",
              "  <thead>\n",
              "    <tr style=\"text-align: right;\">\n",
              "      <th></th>\n",
              "      <th>시군구_Encoder</th>\n",
              "      <th>동_Encoder</th>\n",
              "      <th>전월세구분</th>\n",
              "      <th>전용면적(㎡)</th>\n",
              "      <th>층</th>\n",
              "      <th>구분</th>\n",
              "      <th>한국은행기준금리</th>\n",
              "      <th>종가</th>\n",
              "      <th>년도</th>\n",
              "      <th>건물나이</th>\n",
              "    </tr>\n",
              "  </thead>\n",
              "  <tbody>\n",
              "    <tr>\n",
              "      <th>2634528</th>\n",
              "      <td>8</td>\n",
              "      <td>362</td>\n",
              "      <td>0</td>\n",
              "      <td>57.97</td>\n",
              "      <td>11.0</td>\n",
              "      <td>0</td>\n",
              "      <td>1.50</td>\n",
              "      <td>1941.49</td>\n",
              "      <td>2015.0</td>\n",
              "      <td>26.0</td>\n",
              "    </tr>\n",
              "    <tr>\n",
              "      <th>588497</th>\n",
              "      <td>1</td>\n",
              "      <td>100</td>\n",
              "      <td>1</td>\n",
              "      <td>84.93</td>\n",
              "      <td>12.0</td>\n",
              "      <td>0</td>\n",
              "      <td>3.00</td>\n",
              "      <td>1996.21</td>\n",
              "      <td>2012.0</td>\n",
              "      <td>10.0</td>\n",
              "    </tr>\n",
              "    <tr>\n",
              "      <th>1999091</th>\n",
              "      <td>6</td>\n",
              "      <td>28</td>\n",
              "      <td>1</td>\n",
              "      <td>18.37</td>\n",
              "      <td>9.0</td>\n",
              "      <td>1</td>\n",
              "      <td>1.75</td>\n",
              "      <td>2041.04</td>\n",
              "      <td>2018.0</td>\n",
              "      <td>7.0</td>\n",
              "    </tr>\n",
              "    <tr>\n",
              "      <th>2924794</th>\n",
              "      <td>8</td>\n",
              "      <td>165</td>\n",
              "      <td>0</td>\n",
              "      <td>71.89</td>\n",
              "      <td>4.0</td>\n",
              "      <td>0</td>\n",
              "      <td>3.00</td>\n",
              "      <td>2293.61</td>\n",
              "      <td>2022.0</td>\n",
              "      <td>34.0</td>\n",
              "    </tr>\n",
              "    <tr>\n",
              "      <th>1518387</th>\n",
              "      <td>17</td>\n",
              "      <td>163</td>\n",
              "      <td>1</td>\n",
              "      <td>45.56</td>\n",
              "      <td>4.0</td>\n",
              "      <td>2</td>\n",
              "      <td>1.50</td>\n",
              "      <td>1967.79</td>\n",
              "      <td>2019.0</td>\n",
              "      <td>10.0</td>\n",
              "    </tr>\n",
              "    <tr>\n",
              "      <th>...</th>\n",
              "      <td>...</td>\n",
              "      <td>...</td>\n",
              "      <td>...</td>\n",
              "      <td>...</td>\n",
              "      <td>...</td>\n",
              "      <td>...</td>\n",
              "      <td>...</td>\n",
              "      <td>...</td>\n",
              "      <td>...</td>\n",
              "      <td>...</td>\n",
              "    </tr>\n",
              "    <tr>\n",
              "      <th>807448</th>\n",
              "      <td>1</td>\n",
              "      <td>38</td>\n",
              "      <td>0</td>\n",
              "      <td>57.10</td>\n",
              "      <td>11.0</td>\n",
              "      <td>0</td>\n",
              "      <td>3.00</td>\n",
              "      <td>2106.70</td>\n",
              "      <td>2011.0</td>\n",
              "      <td>17.0</td>\n",
              "    </tr>\n",
              "    <tr>\n",
              "      <th>1882643</th>\n",
              "      <td>18</td>\n",
              "      <td>213</td>\n",
              "      <td>0</td>\n",
              "      <td>21.21</td>\n",
              "      <td>9.0</td>\n",
              "      <td>2</td>\n",
              "      <td>1.50</td>\n",
              "      <td>2566.46</td>\n",
              "      <td>2018.0</td>\n",
              "      <td>3.0</td>\n",
              "    </tr>\n",
              "    <tr>\n",
              "      <th>1762236</th>\n",
              "      <td>14</td>\n",
              "      <td>272</td>\n",
              "      <td>0</td>\n",
              "      <td>64.52</td>\n",
              "      <td>4.0</td>\n",
              "      <td>2</td>\n",
              "      <td>1.50</td>\n",
              "      <td>2295.26</td>\n",
              "      <td>2018.0</td>\n",
              "      <td>25.0</td>\n",
              "    </tr>\n",
              "    <tr>\n",
              "      <th>2954588</th>\n",
              "      <td>2</td>\n",
              "      <td>130</td>\n",
              "      <td>1</td>\n",
              "      <td>58.99</td>\n",
              "      <td>21.0</td>\n",
              "      <td>0</td>\n",
              "      <td>3.25</td>\n",
              "      <td>2472.53</td>\n",
              "      <td>2022.0</td>\n",
              "      <td>12.0</td>\n",
              "    </tr>\n",
              "    <tr>\n",
              "      <th>1332511</th>\n",
              "      <td>17</td>\n",
              "      <td>0</td>\n",
              "      <td>1</td>\n",
              "      <td>110.66</td>\n",
              "      <td>22.0</td>\n",
              "      <td>0</td>\n",
              "      <td>0.50</td>\n",
              "      <td>2873.47</td>\n",
              "      <td>2020.0</td>\n",
              "      <td>2.0</td>\n",
              "    </tr>\n",
              "  </tbody>\n",
              "</table>\n",
              "<p>2693736 rows × 10 columns</p>\n",
              "</div>"
            ],
            "text/plain": [
              "         시군구_Encoder  동_Encoder  전월세구분  전용면적(㎡)     층  구분  한국은행기준금리       종가   \n",
              "2634528            8        362      0    57.97  11.0   0      1.50  1941.49  \\\n",
              "588497             1        100      1    84.93  12.0   0      3.00  1996.21   \n",
              "1999091            6         28      1    18.37   9.0   1      1.75  2041.04   \n",
              "2924794            8        165      0    71.89   4.0   0      3.00  2293.61   \n",
              "1518387           17        163      1    45.56   4.0   2      1.50  1967.79   \n",
              "...              ...        ...    ...      ...   ...  ..       ...      ...   \n",
              "807448             1         38      0    57.10  11.0   0      3.00  2106.70   \n",
              "1882643           18        213      0    21.21   9.0   2      1.50  2566.46   \n",
              "1762236           14        272      0    64.52   4.0   2      1.50  2295.26   \n",
              "2954588            2        130      1    58.99  21.0   0      3.25  2472.53   \n",
              "1332511           17          0      1   110.66  22.0   0      0.50  2873.47   \n",
              "\n",
              "             년도  건물나이  \n",
              "2634528  2015.0  26.0  \n",
              "588497   2012.0  10.0  \n",
              "1999091  2018.0   7.0  \n",
              "2924794  2022.0  34.0  \n",
              "1518387  2019.0  10.0  \n",
              "...         ...   ...  \n",
              "807448   2011.0  17.0  \n",
              "1882643  2018.0   3.0  \n",
              "1762236  2018.0  25.0  \n",
              "2954588  2022.0  12.0  \n",
              "1332511  2020.0   2.0  \n",
              "\n",
              "[2693736 rows x 10 columns]"
            ]
          },
          "execution_count": 7,
          "metadata": {},
          "output_type": "execute_result"
        }
      ],
      "source": [
        "X_train"
      ]
    },
    {
      "cell_type": "code",
      "execution_count": 8,
      "metadata": {
        "colab": {
          "base_uri": "https://localhost:8080/"
        },
        "id": "sLzo03lxKFkV",
        "outputId": "cbbc8e11-6cfe-4424-e1bc-d042f9f1b732"
      },
      "outputs": [
        {
          "data": {
            "text/plain": [
              "2634528     21000.0\n",
              "588497      27200.0\n",
              "1999091     13400.0\n",
              "2924794     33000.0\n",
              "1518387     18200.0\n",
              "             ...   \n",
              "807448      17000.0\n",
              "1882643     17500.0\n",
              "1762236     27000.0\n",
              "2954588     40000.0\n",
              "1332511    101400.0\n",
              "Name: 환산_보증금_월세, Length: 2693736, dtype: float64"
            ]
          },
          "execution_count": 8,
          "metadata": {},
          "output_type": "execute_result"
        }
      ],
      "source": [
        "y_train"
      ]
    },
    {
      "cell_type": "code",
      "execution_count": null,
      "metadata": {
        "id": "1ikeR4taAgzn"
      },
      "outputs": [],
      "source": [
        "# train_stats = train_dataset.describe()\n",
        "# train_stats = train_stats.transpose()\n",
        "# train_stats"
      ]
    },
    {
      "cell_type": "code",
      "execution_count": 104,
      "metadata": {
        "id": "491LpaTH_FEd"
      },
      "outputs": [],
      "source": [
        "# 예측할 레이블\n",
        "# train_labels = train_dataset.pop('환산_보증금_월세')\n",
        "# test_labels = test_dataset.pop('환산_보증금_월세')"
      ]
    },
    {
      "cell_type": "code",
      "execution_count": null,
      "metadata": {
        "id": "hN_TsXqWE0If"
      },
      "outputs": [],
      "source": [
        "# train_dataset"
      ]
    },
    {
      "cell_type": "code",
      "execution_count": null,
      "metadata": {
        "id": "gK4U7FYVC7zU"
      },
      "outputs": [],
      "source": [
        "# train_labels"
      ]
    },
    {
      "cell_type": "code",
      "execution_count": 108,
      "metadata": {
        "id": "lTkB-vVwAUSl"
      },
      "outputs": [],
      "source": [
        "# # 정규화\n",
        "# def norm(x):\n",
        "#   return (x - train_stats['mean']) / train_stats['std']\n",
        "# normed_train_data = norm(train_dataset)\n",
        "# normed_test_data = norm(test_dataset)\n",
        "\n",
        "# normed_train_data = normed_train_data.drop('환산_보증금_월세', axis=1)\n",
        "# normed_test_data = normed_test_data.drop('환산_보증금_월세', axis=1)"
      ]
    },
    {
      "cell_type": "code",
      "execution_count": null,
      "metadata": {
        "id": "-b7iVFidEsYA"
      },
      "outputs": [],
      "source": [
        "# normed_test_data"
      ]
    },
    {
      "cell_type": "code",
      "execution_count": 110,
      "metadata": {
        "id": "pmMAQypsAtkO"
      },
      "outputs": [],
      "source": [
        "# 모델 만들기\n",
        "# def build_model():\n",
        "#   model = keras.Sequential([\n",
        "#     layers.Dense(64, activation='relu', input_shape=[len(train_dataset.keys())]),\n",
        "#     layers.Dense(64, activation='relu'),\n",
        "#     layers.Dense(1)\n",
        "#   ])\n",
        "\n",
        "#   optimizer = tf.keras.optimizers.RMSprop(0.001)\n",
        "\n",
        "#   model.compile(loss='mse',\n",
        "#                 optimizer=optimizer,\n",
        "#                 metrics=['mae', 'mse'])\n",
        "#   return model"
      ]
    },
    {
      "cell_type": "code",
      "execution_count": 9,
      "metadata": {
        "id": "Qqk2llhcIFOt"
      },
      "outputs": [],
      "source": [
        "model = Sequential()\n",
        "# model.add(Dense(128, activation='relu', input_shape=(10,)))\n",
        "# model.add(BatchNormalization())\n",
        "model.add(Dense(64, activation='relu', input_shape=(10,)))\n",
        "model.add(BatchNormalization())\n",
        "# model.add(Dense(64, activation='relu'))\n",
        "# model.add(BatchNormalization())\n",
        "model.add(Dense(32, activation='relu'))\n",
        "model.add(BatchNormalization())\n",
        "model.add(Dense(1))\n",
        "\n",
        "model.compile(loss='mse', optimizer=Adam(learning_rate=0.01), metrics=['mae'])\n",
        "\n",
        "# Set EarlyStopping\n",
        "early_stop = EarlyStopping(monitor='val_loss', patience=500)"
      ]
    },
    {
      "cell_type": "code",
      "execution_count": 111,
      "metadata": {
        "id": "a6kDIzG5Ayoe"
      },
      "outputs": [],
      "source": [
        "# model = build_model()"
      ]
    },
    {
      "cell_type": "code",
      "execution_count": 10,
      "metadata": {
        "colab": {
          "base_uri": "https://localhost:8080/"
        },
        "id": "ONmYnEp2BBFa",
        "outputId": "46de25d7-bc25-412f-99a7-582a520aa30a"
      },
      "outputs": [
        {
          "name": "stdout",
          "output_type": "stream",
          "text": [
            "Model: \"sequential\"\n",
            "_________________________________________________________________\n",
            " Layer (type)                Output Shape              Param #   \n",
            "=================================================================\n",
            " dense (Dense)               (None, 64)                704       \n",
            "                                                                 \n",
            " batch_normalization (BatchN  (None, 64)               256       \n",
            " ormalization)                                                   \n",
            "                                                                 \n",
            " dense_1 (Dense)             (None, 32)                2080      \n",
            "                                                                 \n",
            " batch_normalization_1 (Batc  (None, 32)               128       \n",
            " hNormalization)                                                 \n",
            "                                                                 \n",
            " dense_2 (Dense)             (None, 1)                 33        \n",
            "                                                                 \n",
            "=================================================================\n",
            "Total params: 3,201\n",
            "Trainable params: 3,009\n",
            "Non-trainable params: 192\n",
            "_________________________________________________________________\n"
          ]
        }
      ],
      "source": [
        "model.summary()"
      ]
    },
    {
      "cell_type": "code",
      "execution_count": null,
      "metadata": {
        "id": "8b7MfcHgBVn6"
      },
      "outputs": [],
      "source": [
        "# example_batch = X_train[:10]\n",
        "# example_result = model.predict(example_batch)\n",
        "# example_result"
      ]
    },
    {
      "cell_type": "code",
      "execution_count": 11,
      "metadata": {
        "id": "Vzf1bWi7Igmq"
      },
      "outputs": [],
      "source": [
        "history = model.fit(X_train, y_train, epochs=30,\n",
        "                    validation_split=0.2, batch_size=64, verbose=0)"
      ]
    }
  ],
  "metadata": {
    "accelerator": "GPU",
    "colab": {
      "provenance": []
    },
    "gpuClass": "standard",
    "kernelspec": {
      "display_name": "Python 3",
      "name": "python3"
    },
    "language_info": {
      "codemirror_mode": {
        "name": "ipython",
        "version": 3
      },
      "file_extension": ".py",
      "mimetype": "text/x-python",
      "name": "python",
      "nbconvert_exporter": "python",
      "pygments_lexer": "ipython3",
      "version": "3.9.13"
    }
  },
  "nbformat": 4,
  "nbformat_minor": 0
}
